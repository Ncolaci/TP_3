{
 "cells": [
  {
   "attachments": {},
   "cell_type": "markdown",
   "metadata": {},
   "source": [
    "Comienzo TP 3\n",
    "\n",
    "-Predicción de reicidencia a partir de un dataset de presos de la República Argentina."
   ]
  },
  {
   "attachments": {},
   "cell_type": "markdown",
   "metadata": {},
   "source": [
    "Importamos las librerias utilizadas"
   ]
  },
  {
   "cell_type": "code",
   "execution_count": 1,
   "metadata": {},
   "outputs": [],
   "source": [
    "import numpy as np\n",
    "import pandas as pd\n",
    "pd.set_option('display.max_rows', 500)\n",
    "import seaborn as sns\n",
    "from matplotlib.colors import ListedColormap\n",
    "import matplotlib.pyplot as plt\n",
    "from sklearn.model_selection import train_test_split\n",
    "from sklearn.neighbors import KNeighborsClassifier\n",
    "from sklearn.linear_model import LogisticRegression\n",
    "from sklearn.preprocessing import StandardScaler\n",
    "from sklearn.preprocessing import binarize\n",
    "from sklearn.metrics import confusion_matrix, classification_report\n",
    "from sklearn.metrics import accuracy_score\n",
    "from sklearn.metrics import recall_score\n",
    "from sklearn.metrics import precision_score\n",
    "from sklearn.metrics import f1_score\n",
    "from sklearn.metrics import roc_curve\n",
    "from sklearn.metrics import auc\n",
    "from sklearn.metrics import RocCurveDisplay\n",
    "from sklearn.naive_bayes import GaussianNB, BernoulliNB\n",
    "from sklearn.model_selection import StratifiedKFold\n",
    "from sklearn.model_selection import GridSearchCV\n",
    "from sklearn.preprocessing import OneHotEncoder \n",
    "from sklearn.preprocessing import RobustScaler\n",
    "from sklearn.model_selection import cross_val_score, KFold"
   ]
  },
  {
   "cell_type": "code",
   "execution_count": 2,
   "metadata": {},
   "outputs": [
    {
     "data": {
      "text/html": [
       "<div>\n",
       "<style scoped>\n",
       "    .dataframe tbody tr th:only-of-type {\n",
       "        vertical-align: middle;\n",
       "    }\n",
       "\n",
       "    .dataframe tbody tr th {\n",
       "        vertical-align: top;\n",
       "    }\n",
       "\n",
       "    .dataframe thead th {\n",
       "        text-align: right;\n",
       "    }\n",
       "</style>\n",
       "<table border=\"1\" class=\"dataframe\">\n",
       "  <thead>\n",
       "    <tr style=\"text-align: right;\">\n",
       "      <th></th>\n",
       "      <th>censo_anio</th>\n",
       "      <th>provincia_sneep_id</th>\n",
       "      <th>provincia_descripcion</th>\n",
       "      <th>establecimiento_id</th>\n",
       "      <th>establecimiento_descripcion</th>\n",
       "      <th>edad</th>\n",
       "      <th>genero_id</th>\n",
       "      <th>genero_descripcion</th>\n",
       "      <th>nacionalidad_id</th>\n",
       "      <th>nacionalidad_descripcion</th>\n",
       "      <th>...</th>\n",
       "      <th>participa_programa_pre_libertad</th>\n",
       "      <th>participa_programa_prision_discontinua_id</th>\n",
       "      <th>participa_programa_prision_discontinua_descripcion</th>\n",
       "      <th>participa_programa_semi_detencion_id</th>\n",
       "      <th>participa_programa_semi_detencion_descripcion</th>\n",
       "      <th>tuvo_reduccion_pena_id</th>\n",
       "      <th>tuvo_reduccion_pena_descripcion</th>\n",
       "      <th>mujer_tiene_hijos_intramuro</th>\n",
       "      <th>provincia_id</th>\n",
       "      <th>ultima_provincia_residencia_id</th>\n",
       "    </tr>\n",
       "  </thead>\n",
       "  <tbody>\n",
       "    <tr>\n",
       "      <th>0</th>\n",
       "      <td>2021</td>\n",
       "      <td>5</td>\n",
       "      <td>Chaco</td>\n",
       "      <td>196</td>\n",
       "      <td>COMPLEJO PENITENCIARIO I RESISTENCIA</td>\n",
       "      <td>36</td>\n",
       "      <td>1</td>\n",
       "      <td>Varón</td>\n",
       "      <td>1</td>\n",
       "      <td>Argentina</td>\n",
       "      <td>...</td>\n",
       "      <td>0.0</td>\n",
       "      <td>1</td>\n",
       "      <td>No está incorporado/a</td>\n",
       "      <td>1</td>\n",
       "      <td>No tiene semidetención</td>\n",
       "      <td>4</td>\n",
       "      <td>No tuvo reducción de pena</td>\n",
       "      <td>NaN</td>\n",
       "      <td>22</td>\n",
       "      <td>22.0</td>\n",
       "    </tr>\n",
       "    <tr>\n",
       "      <th>1</th>\n",
       "      <td>2021</td>\n",
       "      <td>5</td>\n",
       "      <td>Chaco</td>\n",
       "      <td>196</td>\n",
       "      <td>COMPLEJO PENITENCIARIO I RESISTENCIA</td>\n",
       "      <td>42</td>\n",
       "      <td>1</td>\n",
       "      <td>Varón</td>\n",
       "      <td>1</td>\n",
       "      <td>Argentina</td>\n",
       "      <td>...</td>\n",
       "      <td>0.0</td>\n",
       "      <td>1</td>\n",
       "      <td>No está incorporado/a</td>\n",
       "      <td>1</td>\n",
       "      <td>No tiene semidetención</td>\n",
       "      <td>4</td>\n",
       "      <td>No tuvo reducción de pena</td>\n",
       "      <td>NaN</td>\n",
       "      <td>22</td>\n",
       "      <td>22.0</td>\n",
       "    </tr>\n",
       "    <tr>\n",
       "      <th>2</th>\n",
       "      <td>2021</td>\n",
       "      <td>5</td>\n",
       "      <td>Chaco</td>\n",
       "      <td>196</td>\n",
       "      <td>COMPLEJO PENITENCIARIO I RESISTENCIA</td>\n",
       "      <td>26</td>\n",
       "      <td>1</td>\n",
       "      <td>Varón</td>\n",
       "      <td>1</td>\n",
       "      <td>Argentina</td>\n",
       "      <td>...</td>\n",
       "      <td>0.0</td>\n",
       "      <td>1</td>\n",
       "      <td>No está incorporado/a</td>\n",
       "      <td>1</td>\n",
       "      <td>No tiene semidetención</td>\n",
       "      <td>4</td>\n",
       "      <td>No tuvo reducción de pena</td>\n",
       "      <td>NaN</td>\n",
       "      <td>22</td>\n",
       "      <td>22.0</td>\n",
       "    </tr>\n",
       "    <tr>\n",
       "      <th>3</th>\n",
       "      <td>2021</td>\n",
       "      <td>5</td>\n",
       "      <td>Chaco</td>\n",
       "      <td>196</td>\n",
       "      <td>COMPLEJO PENITENCIARIO I RESISTENCIA</td>\n",
       "      <td>24</td>\n",
       "      <td>1</td>\n",
       "      <td>Varón</td>\n",
       "      <td>1</td>\n",
       "      <td>Argentina</td>\n",
       "      <td>...</td>\n",
       "      <td>0.0</td>\n",
       "      <td>1</td>\n",
       "      <td>No está incorporado/a</td>\n",
       "      <td>1</td>\n",
       "      <td>No tiene semidetención</td>\n",
       "      <td>4</td>\n",
       "      <td>No tuvo reducción de pena</td>\n",
       "      <td>NaN</td>\n",
       "      <td>22</td>\n",
       "      <td>22.0</td>\n",
       "    </tr>\n",
       "    <tr>\n",
       "      <th>4</th>\n",
       "      <td>2021</td>\n",
       "      <td>5</td>\n",
       "      <td>Chaco</td>\n",
       "      <td>196</td>\n",
       "      <td>COMPLEJO PENITENCIARIO I RESISTENCIA</td>\n",
       "      <td>29</td>\n",
       "      <td>1</td>\n",
       "      <td>Varón</td>\n",
       "      <td>1</td>\n",
       "      <td>Argentina</td>\n",
       "      <td>...</td>\n",
       "      <td>0.0</td>\n",
       "      <td>1</td>\n",
       "      <td>No está incorporado/a</td>\n",
       "      <td>1</td>\n",
       "      <td>No tiene semidetención</td>\n",
       "      <td>4</td>\n",
       "      <td>No tuvo reducción de pena</td>\n",
       "      <td>NaN</td>\n",
       "      <td>22</td>\n",
       "      <td>22.0</td>\n",
       "    </tr>\n",
       "  </tbody>\n",
       "</table>\n",
       "<p>5 rows × 86 columns</p>\n",
       "</div>"
      ],
      "text/plain": [
       "   censo_anio  provincia_sneep_id provincia_descripcion  establecimiento_id  \\\n",
       "0        2021                   5                 Chaco                 196   \n",
       "1        2021                   5                 Chaco                 196   \n",
       "2        2021                   5                 Chaco                 196   \n",
       "3        2021                   5                 Chaco                 196   \n",
       "4        2021                   5                 Chaco                 196   \n",
       "\n",
       "            establecimiento_descripcion  edad  genero_id genero_descripcion  \\\n",
       "0  COMPLEJO PENITENCIARIO I RESISTENCIA    36          1              Varón   \n",
       "1  COMPLEJO PENITENCIARIO I RESISTENCIA    42          1              Varón   \n",
       "2  COMPLEJO PENITENCIARIO I RESISTENCIA    26          1              Varón   \n",
       "3  COMPLEJO PENITENCIARIO I RESISTENCIA    24          1              Varón   \n",
       "4  COMPLEJO PENITENCIARIO I RESISTENCIA    29          1              Varón   \n",
       "\n",
       "   nacionalidad_id nacionalidad_descripcion  ...  \\\n",
       "0                1                Argentina  ...   \n",
       "1                1                Argentina  ...   \n",
       "2                1                Argentina  ...   \n",
       "3                1                Argentina  ...   \n",
       "4                1                Argentina  ...   \n",
       "\n",
       "   participa_programa_pre_libertad participa_programa_prision_discontinua_id  \\\n",
       "0                              0.0                                         1   \n",
       "1                              0.0                                         1   \n",
       "2                              0.0                                         1   \n",
       "3                              0.0                                         1   \n",
       "4                              0.0                                         1   \n",
       "\n",
       "   participa_programa_prision_discontinua_descripcion  \\\n",
       "0                              No está incorporado/a    \n",
       "1                              No está incorporado/a    \n",
       "2                              No está incorporado/a    \n",
       "3                              No está incorporado/a    \n",
       "4                              No está incorporado/a    \n",
       "\n",
       "  participa_programa_semi_detencion_id  \\\n",
       "0                                    1   \n",
       "1                                    1   \n",
       "2                                    1   \n",
       "3                                    1   \n",
       "4                                    1   \n",
       "\n",
       "   participa_programa_semi_detencion_descripcion tuvo_reduccion_pena_id  \\\n",
       "0                         No tiene semidetención                      4   \n",
       "1                         No tiene semidetención                      4   \n",
       "2                         No tiene semidetención                      4   \n",
       "3                         No tiene semidetención                      4   \n",
       "4                         No tiene semidetención                      4   \n",
       "\n",
       "   tuvo_reduccion_pena_descripcion mujer_tiene_hijos_intramuro  provincia_id  \\\n",
       "0        No tuvo reducción de pena                         NaN            22   \n",
       "1        No tuvo reducción de pena                         NaN            22   \n",
       "2        No tuvo reducción de pena                         NaN            22   \n",
       "3        No tuvo reducción de pena                         NaN            22   \n",
       "4        No tuvo reducción de pena                         NaN            22   \n",
       "\n",
       "  ultima_provincia_residencia_id  \n",
       "0                           22.0  \n",
       "1                           22.0  \n",
       "2                           22.0  \n",
       "3                           22.0  \n",
       "4                           22.0  \n",
       "\n",
       "[5 rows x 86 columns]"
      ]
     },
     "execution_count": 2,
     "metadata": {},
     "output_type": "execute_result"
    }
   ],
   "source": [
    "data = pd.DataFrame(pd.read_csv('.\\sneep-2021.csv',sep=','))\n",
    "\n",
    "data.head(5)\n"
   ]
  },
  {
   "cell_type": "code",
   "execution_count": 3,
   "metadata": {},
   "outputs": [
    {
     "data": {
      "text/plain": [
       "(101267, 86)"
      ]
     },
     "execution_count": 3,
     "metadata": {},
     "output_type": "execute_result"
    }
   ],
   "source": [
    "data.shape"
   ]
  },
  {
   "attachments": {},
   "cell_type": "markdown",
   "metadata": {},
   "source": [
    "Nos quedamos con solo los presos condenados."
   ]
  },
  {
   "cell_type": "code",
   "execution_count": 4,
   "metadata": {},
   "outputs": [
    {
     "data": {
      "text/plain": [
       "array(['Condenado/a', 'Procesado/a', 'Inimputable', 'Otra situación'],\n",
       "      dtype=object)"
      ]
     },
     "execution_count": 4,
     "metadata": {},
     "output_type": "execute_result"
    }
   ],
   "source": [
    "data[\"situacion_legal_descripcion\"].unique()"
   ]
  },
  {
   "cell_type": "code",
   "execution_count": 5,
   "metadata": {},
   "outputs": [],
   "source": [
    "condenados = data[\"situacion_legal_descripcion\"]=='Condenado/a'\n",
    "\n",
    "data_condenados = data[condenados]"
   ]
  },
  {
   "cell_type": "code",
   "execution_count": 6,
   "metadata": {},
   "outputs": [
    {
     "data": {
      "text/plain": [
       "(55933, 86)"
      ]
     },
     "execution_count": 6,
     "metadata": {},
     "output_type": "execute_result"
    }
   ],
   "source": [
    "data_condenados.shape"
   ]
  },
  {
   "attachments": {},
   "cell_type": "markdown",
   "metadata": {},
   "source": [
    "Eliminamos las columnas que no utilizaremos"
   ]
  },
  {
   "cell_type": "code",
   "execution_count": 7,
   "metadata": {},
   "outputs": [],
   "source": [
    "col_drop = [\n",
    "'censo_anio'\n",
    ",'provincia_sneep_id'\n",
    "#,'provincia_descripcion'\n",
    ",'establecimiento_id'\n",
    ",'establecimiento_descripcion'\n",
    ",'genero_id'\n",
    ",'nacionalidad_id'\n",
    ",'nacionalidad_descripcion'\n",
    ",'estado_civil_id'\n",
    ",'nivel_instruccion_id'\n",
    ",'ultima_situacion_laboral_id'\n",
    ",'capacitacion_laboral_al_ingresar_id'\n",
    ",'ultimo_lugar_residencia_id'\n",
    ",'ultimo_lugar_residencia_descripcion'\n",
    ",'ultima_provincia_residencia_sneep_id'\n",
    ",'ultima_provincia_residencia_descripcion'\n",
    ",'jurisdiccion_id'\n",
    ",'jurisdiccion_descripcion'\n",
    ",'situacion_legal_id'\n",
    ",'situacion_legal_descripcion'\n",
    ",'fecha_detencion'\n",
    ",'fecha_condenado'\n",
    ",'establecimiento_procedencia_id'\n",
    ",'establecimiento_procedencia_descripcion'\n",
    ",'delito1_id'\n",
    ",'delito1_descripcion'\n",
    ",'delito2_id'\n",
    ",'delito2_descripcion'\n",
    ",'delito3_id'\n",
    ",'delito3_descripcion'\n",
    ",'delito4_id'\n",
    ",'delito4_descripcion'\n",
    ",'delito5_id'\n",
    ",'delito5_descripcion'\n",
    ",'horas_trabajo_remunerado_id'\n",
    ",'horas_trabajo_remunerado_descripcion'\n",
    ",'participacion_programa_educativo_id'\n",
    ",'participacion_actividades_deportivas'\n",
    ",'recibio_atencion_medica_ult_anio'\n",
    ",'recibio_atencion_medica_ult_anio_descripcion'\n",
    ",'recibio_visitas_ultimo_anio'\n",
    ",'participo_alteracion_orden_ult_anio_id'\n",
    ",'tipo_infraccion_disciplinaria_id'\n",
    ",'tipo_infraccion_disciplinaria_descripcion'\n",
    ",'sancion_aplicada_id'\n",
    ",'sancion_aplicada_descripcion'\n",
    ",'calificacion_conducta_id'\n",
    ",'tentativa_fugas_evasiones_id'\n",
    ",'tentativa_suicidio'\n",
    ",'fue_lesionado_id'\n",
    ",'fue_lesionado_descripcion'\n",
    ",'tipo_condena'\n",
    ",'es_reincidente_id'\n",
    ",'tiene_periodo_progresividad_id'\n",
    ",'tiene_periodo_progresividad_descripcion'\n",
    ",'reparticion_id'\n",
    ",'reparticion_descripcion'\n",
    ",'tuvo_salidas_transitorias_id'\n",
    ",'incorporado_reg_semi_libertad_id'\n",
    ",'participa_programa_prision_discontinua_id'\n",
    ",'participa_programa_semi_detencion_id'\n",
    ",'tuvo_reduccion_pena_id'\n",
    ",'mujer_tiene_hijos_intramuro'\n",
    ",'provincia_id'\n",
    ",'ultima_provincia_residencia_id'\n",
    ",'incorporado_reg_semi_libertad_descripcion'\n",
    ",'participa_programa_pre_libertad' \n",
    ",'participa_programa_prision_discontinua_descripcion'\n",
    ",'participa_programa_semi_detencion_descripcion'\n",
    ",'duracion_condena_rango'\n",
    ",'tuvo_salidas_transitorias_descripcion'\n",
    ",'tuvo_reduccion_pena_descripcion'\n",
    "]\n",
    "\n",
    "\n",
    "data_condenados = data_condenados.drop(columns=col_drop)\n",
    "\n",
    "\n"
   ]
  },
  {
   "cell_type": "code",
   "execution_count": 8,
   "metadata": {},
   "outputs": [
    {
     "data": {
      "text/html": [
       "<div>\n",
       "<style scoped>\n",
       "    .dataframe tbody tr th:only-of-type {\n",
       "        vertical-align: middle;\n",
       "    }\n",
       "\n",
       "    .dataframe tbody tr th {\n",
       "        vertical-align: top;\n",
       "    }\n",
       "\n",
       "    .dataframe thead th {\n",
       "        text-align: right;\n",
       "    }\n",
       "</style>\n",
       "<table border=\"1\" class=\"dataframe\">\n",
       "  <thead>\n",
       "    <tr style=\"text-align: right;\">\n",
       "      <th></th>\n",
       "      <th>provincia_descripcion</th>\n",
       "      <th>edad</th>\n",
       "      <th>genero_descripcion</th>\n",
       "      <th>estado_civil_descripcion</th>\n",
       "      <th>nivel_instruccion_descripcion</th>\n",
       "      <th>ultima_situacion_laboral_descripcion</th>\n",
       "      <th>capacitacion_laboral_al_ingresar_descripcion</th>\n",
       "      <th>participacion_programa_laboral</th>\n",
       "      <th>participacion_programa_educativo_descripcion</th>\n",
       "      <th>participo_alteracion_orden_ult_anio_descripcion</th>\n",
       "      <th>calificacion_conducta_descripcion</th>\n",
       "      <th>tentativa_fugas_evasiones_descripcion</th>\n",
       "      <th>duracion_condena_anios</th>\n",
       "      <th>duracion_condena_meses</th>\n",
       "      <th>es_reincidente_descripcion</th>\n",
       "    </tr>\n",
       "  </thead>\n",
       "  <tbody>\n",
       "    <tr>\n",
       "      <th>0</th>\n",
       "      <td>Chaco</td>\n",
       "      <td>36</td>\n",
       "      <td>Varón</td>\n",
       "      <td>Soltero/a</td>\n",
       "      <td>Primario completo</td>\n",
       "      <td>Desocupado/a</td>\n",
       "      <td>No tiene ni oficio ni profesión</td>\n",
       "      <td>0.0</td>\n",
       "      <td>No participa de ningún programa educativo</td>\n",
       "      <td>No participó de ninguna alteración</td>\n",
       "      <td>Buena</td>\n",
       "      <td>No</td>\n",
       "      <td>0</td>\n",
       "      <td>0</td>\n",
       "      <td>Primario/a</td>\n",
       "    </tr>\n",
       "    <tr>\n",
       "      <th>1</th>\n",
       "      <td>Chaco</td>\n",
       "      <td>42</td>\n",
       "      <td>Varón</td>\n",
       "      <td>Soltero/a</td>\n",
       "      <td>Secundario completo</td>\n",
       "      <td>Trabajador/ra de tiempo parcial</td>\n",
       "      <td>Tiene algún oficio</td>\n",
       "      <td>0.0</td>\n",
       "      <td>No participa de ningún programa educativo</td>\n",
       "      <td>No participó de ninguna alteración</td>\n",
       "      <td>Sin calificación</td>\n",
       "      <td>No</td>\n",
       "      <td>4</td>\n",
       "      <td>0</td>\n",
       "      <td>Primario/a</td>\n",
       "    </tr>\n",
       "    <tr>\n",
       "      <th>2</th>\n",
       "      <td>Chaco</td>\n",
       "      <td>26</td>\n",
       "      <td>Varón</td>\n",
       "      <td>Soltero/a</td>\n",
       "      <td>Secundario completo</td>\n",
       "      <td>Desocupado/a</td>\n",
       "      <td>No tiene ni oficio ni profesión</td>\n",
       "      <td>0.0</td>\n",
       "      <td>No participa de ningún programa educativo</td>\n",
       "      <td>No participó de ninguna alteración</td>\n",
       "      <td>Sin calificación</td>\n",
       "      <td>No</td>\n",
       "      <td>4</td>\n",
       "      <td>0</td>\n",
       "      <td>Primario/a</td>\n",
       "    </tr>\n",
       "    <tr>\n",
       "      <th>3</th>\n",
       "      <td>Chaco</td>\n",
       "      <td>24</td>\n",
       "      <td>Varón</td>\n",
       "      <td>Soltero/a</td>\n",
       "      <td>Secundario completo</td>\n",
       "      <td>Desocupado/a</td>\n",
       "      <td>No tiene ni oficio ni profesión</td>\n",
       "      <td>0.0</td>\n",
       "      <td>No participa de ningún programa educativo</td>\n",
       "      <td>No participó de ninguna alteración</td>\n",
       "      <td>Sin calificación</td>\n",
       "      <td>No</td>\n",
       "      <td>4</td>\n",
       "      <td>0</td>\n",
       "      <td>Primario/a</td>\n",
       "    </tr>\n",
       "    <tr>\n",
       "      <th>4</th>\n",
       "      <td>Chaco</td>\n",
       "      <td>29</td>\n",
       "      <td>Varón</td>\n",
       "      <td>Soltero/a</td>\n",
       "      <td>Primario completo</td>\n",
       "      <td>Desocupado/a</td>\n",
       "      <td>No tiene ni oficio ni profesión</td>\n",
       "      <td>0.0</td>\n",
       "      <td>No participa de ningún programa educativo</td>\n",
       "      <td>No participó de ninguna alteración</td>\n",
       "      <td>Sin calificación</td>\n",
       "      <td>No</td>\n",
       "      <td>11</td>\n",
       "      <td>0</td>\n",
       "      <td>Primario/a</td>\n",
       "    </tr>\n",
       "  </tbody>\n",
       "</table>\n",
       "</div>"
      ],
      "text/plain": [
       "  provincia_descripcion  edad genero_descripcion estado_civil_descripcion  \\\n",
       "0                 Chaco    36              Varón                Soltero/a   \n",
       "1                 Chaco    42              Varón                Soltero/a   \n",
       "2                 Chaco    26              Varón                Soltero/a   \n",
       "3                 Chaco    24              Varón                Soltero/a   \n",
       "4                 Chaco    29              Varón                Soltero/a   \n",
       "\n",
       "  nivel_instruccion_descripcion ultima_situacion_laboral_descripcion  \\\n",
       "0             Primario completo                         Desocupado/a   \n",
       "1           Secundario completo      Trabajador/ra de tiempo parcial   \n",
       "2           Secundario completo                         Desocupado/a   \n",
       "3           Secundario completo                         Desocupado/a   \n",
       "4             Primario completo                         Desocupado/a   \n",
       "\n",
       "  capacitacion_laboral_al_ingresar_descripcion  \\\n",
       "0              No tiene ni oficio ni profesión   \n",
       "1                           Tiene algún oficio   \n",
       "2              No tiene ni oficio ni profesión   \n",
       "3              No tiene ni oficio ni profesión   \n",
       "4              No tiene ni oficio ni profesión   \n",
       "\n",
       "   participacion_programa_laboral  \\\n",
       "0                             0.0   \n",
       "1                             0.0   \n",
       "2                             0.0   \n",
       "3                             0.0   \n",
       "4                             0.0   \n",
       "\n",
       "  participacion_programa_educativo_descripcion  \\\n",
       "0    No participa de ningún programa educativo   \n",
       "1    No participa de ningún programa educativo   \n",
       "2    No participa de ningún programa educativo   \n",
       "3    No participa de ningún programa educativo   \n",
       "4    No participa de ningún programa educativo   \n",
       "\n",
       "  participo_alteracion_orden_ult_anio_descripcion  \\\n",
       "0              No participó de ninguna alteración   \n",
       "1              No participó de ninguna alteración   \n",
       "2              No participó de ninguna alteración   \n",
       "3              No participó de ninguna alteración   \n",
       "4              No participó de ninguna alteración   \n",
       "\n",
       "  calificacion_conducta_descripcion tentativa_fugas_evasiones_descripcion  \\\n",
       "0                             Buena                                    No   \n",
       "1                  Sin calificación                                    No   \n",
       "2                  Sin calificación                                    No   \n",
       "3                  Sin calificación                                    No   \n",
       "4                  Sin calificación                                    No   \n",
       "\n",
       "   duracion_condena_anios  duracion_condena_meses es_reincidente_descripcion  \n",
       "0                       0                       0                 Primario/a  \n",
       "1                       4                       0                 Primario/a  \n",
       "2                       4                       0                 Primario/a  \n",
       "3                       4                       0                 Primario/a  \n",
       "4                      11                       0                 Primario/a  "
      ]
     },
     "execution_count": 8,
     "metadata": {},
     "output_type": "execute_result"
    }
   ],
   "source": [
    "data_condenados.head(5)"
   ]
  },
  {
   "attachments": {},
   "cell_type": "markdown",
   "metadata": {},
   "source": [
    "eliminamos los registros que no poseen tiempo de condena"
   ]
  },
  {
   "cell_type": "code",
   "execution_count": 9,
   "metadata": {},
   "outputs": [
    {
     "data": {
      "text/plain": [
       "(52340, 15)"
      ]
     },
     "execution_count": 9,
     "metadata": {},
     "output_type": "execute_result"
    }
   ],
   "source": [
    "sin_condena = np.logical_and(data_condenados.duracion_condena_anios == 0, data_condenados.duracion_condena_meses == 0)\n",
    "\n",
    "data_condenados.drop(data_condenados[sin_condena].index, inplace=True)\n",
    "\n",
    "data_condenados.shape"
   ]
  },
  {
   "cell_type": "code",
   "execution_count": 10,
   "metadata": {},
   "outputs": [
    {
     "data": {
      "text/plain": [
       "provincia_descripcion                                 0\n",
       "edad                                                  0\n",
       "genero_descripcion                                    0\n",
       "estado_civil_descripcion                            800\n",
       "nivel_instruccion_descripcion                       515\n",
       "ultima_situacion_laboral_descripcion               1163\n",
       "capacitacion_laboral_al_ingresar_descripcion        271\n",
       "participacion_programa_laboral                     1085\n",
       "participacion_programa_educativo_descripcion       1049\n",
       "participo_alteracion_orden_ult_anio_descripcion      67\n",
       "calificacion_conducta_descripcion                   610\n",
       "tentativa_fugas_evasiones_descripcion               122\n",
       "duracion_condena_anios                                0\n",
       "duracion_condena_meses                                0\n",
       "es_reincidente_descripcion                         1580\n",
       "dtype: int64"
      ]
     },
     "execution_count": 10,
     "metadata": {},
     "output_type": "execute_result"
    }
   ],
   "source": [
    "data_condenados.isnull().sum()"
   ]
  },
  {
   "cell_type": "code",
   "execution_count": 11,
   "metadata": {},
   "outputs": [],
   "source": [
    "data_condenados.dropna(inplace=True)"
   ]
  },
  {
   "cell_type": "code",
   "execution_count": 12,
   "metadata": {},
   "outputs": [
    {
     "data": {
      "text/plain": [
       "(47446, 15)"
      ]
     },
     "execution_count": 12,
     "metadata": {},
     "output_type": "execute_result"
    }
   ],
   "source": [
    "data_condenados.shape"
   ]
  },
  {
   "cell_type": "code",
   "execution_count": 13,
   "metadata": {},
   "outputs": [
    {
     "data": {
      "text/html": [
       "<div>\n",
       "<style scoped>\n",
       "    .dataframe tbody tr th:only-of-type {\n",
       "        vertical-align: middle;\n",
       "    }\n",
       "\n",
       "    .dataframe tbody tr th {\n",
       "        vertical-align: top;\n",
       "    }\n",
       "\n",
       "    .dataframe thead th {\n",
       "        text-align: right;\n",
       "    }\n",
       "</style>\n",
       "<table border=\"1\" class=\"dataframe\">\n",
       "  <thead>\n",
       "    <tr style=\"text-align: right;\">\n",
       "      <th></th>\n",
       "      <th>provincia_descripcion</th>\n",
       "      <th>edad</th>\n",
       "      <th>genero_descripcion</th>\n",
       "      <th>estado_civil_descripcion</th>\n",
       "      <th>nivel_instruccion_descripcion</th>\n",
       "      <th>ultima_situacion_laboral_descripcion</th>\n",
       "      <th>capacitacion_laboral_al_ingresar_descripcion</th>\n",
       "      <th>participacion_programa_laboral</th>\n",
       "      <th>participacion_programa_educativo_descripcion</th>\n",
       "      <th>participo_alteracion_orden_ult_anio_descripcion</th>\n",
       "      <th>calificacion_conducta_descripcion</th>\n",
       "      <th>tentativa_fugas_evasiones_descripcion</th>\n",
       "      <th>duracion_condena_anios</th>\n",
       "      <th>duracion_condena_meses</th>\n",
       "      <th>es_reincidente_descripcion</th>\n",
       "    </tr>\n",
       "  </thead>\n",
       "  <tbody>\n",
       "    <tr>\n",
       "      <th>1</th>\n",
       "      <td>Chaco</td>\n",
       "      <td>42</td>\n",
       "      <td>Varón</td>\n",
       "      <td>Soltero/a</td>\n",
       "      <td>Secundario completo</td>\n",
       "      <td>Trabajador/ra de tiempo parcial</td>\n",
       "      <td>Tiene algún oficio</td>\n",
       "      <td>0.0</td>\n",
       "      <td>No participa de ningún programa educativo</td>\n",
       "      <td>No participó de ninguna alteración</td>\n",
       "      <td>Sin calificación</td>\n",
       "      <td>No</td>\n",
       "      <td>4</td>\n",
       "      <td>0</td>\n",
       "      <td>Primario/a</td>\n",
       "    </tr>\n",
       "    <tr>\n",
       "      <th>2</th>\n",
       "      <td>Chaco</td>\n",
       "      <td>26</td>\n",
       "      <td>Varón</td>\n",
       "      <td>Soltero/a</td>\n",
       "      <td>Secundario completo</td>\n",
       "      <td>Desocupado/a</td>\n",
       "      <td>No tiene ni oficio ni profesión</td>\n",
       "      <td>0.0</td>\n",
       "      <td>No participa de ningún programa educativo</td>\n",
       "      <td>No participó de ninguna alteración</td>\n",
       "      <td>Sin calificación</td>\n",
       "      <td>No</td>\n",
       "      <td>4</td>\n",
       "      <td>0</td>\n",
       "      <td>Primario/a</td>\n",
       "    </tr>\n",
       "    <tr>\n",
       "      <th>3</th>\n",
       "      <td>Chaco</td>\n",
       "      <td>24</td>\n",
       "      <td>Varón</td>\n",
       "      <td>Soltero/a</td>\n",
       "      <td>Secundario completo</td>\n",
       "      <td>Desocupado/a</td>\n",
       "      <td>No tiene ni oficio ni profesión</td>\n",
       "      <td>0.0</td>\n",
       "      <td>No participa de ningún programa educativo</td>\n",
       "      <td>No participó de ninguna alteración</td>\n",
       "      <td>Sin calificación</td>\n",
       "      <td>No</td>\n",
       "      <td>4</td>\n",
       "      <td>0</td>\n",
       "      <td>Primario/a</td>\n",
       "    </tr>\n",
       "    <tr>\n",
       "      <th>4</th>\n",
       "      <td>Chaco</td>\n",
       "      <td>29</td>\n",
       "      <td>Varón</td>\n",
       "      <td>Soltero/a</td>\n",
       "      <td>Primario completo</td>\n",
       "      <td>Desocupado/a</td>\n",
       "      <td>No tiene ni oficio ni profesión</td>\n",
       "      <td>0.0</td>\n",
       "      <td>No participa de ningún programa educativo</td>\n",
       "      <td>No participó de ninguna alteración</td>\n",
       "      <td>Sin calificación</td>\n",
       "      <td>No</td>\n",
       "      <td>11</td>\n",
       "      <td>0</td>\n",
       "      <td>Primario/a</td>\n",
       "    </tr>\n",
       "    <tr>\n",
       "      <th>6</th>\n",
       "      <td>Chaco</td>\n",
       "      <td>25</td>\n",
       "      <td>Varón</td>\n",
       "      <td>Soltero/a</td>\n",
       "      <td>Secundario incompleto</td>\n",
       "      <td>Trabajador/ra de tiempo parcial</td>\n",
       "      <td>Tiene algún oficio</td>\n",
       "      <td>0.0</td>\n",
       "      <td>No participa de ningún programa educativo</td>\n",
       "      <td>No participó de ninguna alteración</td>\n",
       "      <td>Ejemplar</td>\n",
       "      <td>No</td>\n",
       "      <td>6</td>\n",
       "      <td>8</td>\n",
       "      <td>Primario/a</td>\n",
       "    </tr>\n",
       "  </tbody>\n",
       "</table>\n",
       "</div>"
      ],
      "text/plain": [
       "  provincia_descripcion  edad genero_descripcion estado_civil_descripcion  \\\n",
       "1                 Chaco    42              Varón                Soltero/a   \n",
       "2                 Chaco    26              Varón                Soltero/a   \n",
       "3                 Chaco    24              Varón                Soltero/a   \n",
       "4                 Chaco    29              Varón                Soltero/a   \n",
       "6                 Chaco    25              Varón                Soltero/a   \n",
       "\n",
       "  nivel_instruccion_descripcion ultima_situacion_laboral_descripcion  \\\n",
       "1           Secundario completo      Trabajador/ra de tiempo parcial   \n",
       "2           Secundario completo                         Desocupado/a   \n",
       "3           Secundario completo                         Desocupado/a   \n",
       "4             Primario completo                         Desocupado/a   \n",
       "6         Secundario incompleto      Trabajador/ra de tiempo parcial   \n",
       "\n",
       "  capacitacion_laboral_al_ingresar_descripcion  \\\n",
       "1                           Tiene algún oficio   \n",
       "2              No tiene ni oficio ni profesión   \n",
       "3              No tiene ni oficio ni profesión   \n",
       "4              No tiene ni oficio ni profesión   \n",
       "6                           Tiene algún oficio   \n",
       "\n",
       "   participacion_programa_laboral  \\\n",
       "1                             0.0   \n",
       "2                             0.0   \n",
       "3                             0.0   \n",
       "4                             0.0   \n",
       "6                             0.0   \n",
       "\n",
       "  participacion_programa_educativo_descripcion  \\\n",
       "1    No participa de ningún programa educativo   \n",
       "2    No participa de ningún programa educativo   \n",
       "3    No participa de ningún programa educativo   \n",
       "4    No participa de ningún programa educativo   \n",
       "6    No participa de ningún programa educativo   \n",
       "\n",
       "  participo_alteracion_orden_ult_anio_descripcion  \\\n",
       "1              No participó de ninguna alteración   \n",
       "2              No participó de ninguna alteración   \n",
       "3              No participó de ninguna alteración   \n",
       "4              No participó de ninguna alteración   \n",
       "6              No participó de ninguna alteración   \n",
       "\n",
       "  calificacion_conducta_descripcion tentativa_fugas_evasiones_descripcion  \\\n",
       "1                  Sin calificación                                    No   \n",
       "2                  Sin calificación                                    No   \n",
       "3                  Sin calificación                                    No   \n",
       "4                  Sin calificación                                    No   \n",
       "6                          Ejemplar                                    No   \n",
       "\n",
       "   duracion_condena_anios  duracion_condena_meses es_reincidente_descripcion  \n",
       "1                       4                       0                 Primario/a  \n",
       "2                       4                       0                 Primario/a  \n",
       "3                       4                       0                 Primario/a  \n",
       "4                      11                       0                 Primario/a  \n",
       "6                       6                       8                 Primario/a  "
      ]
     },
     "execution_count": 13,
     "metadata": {},
     "output_type": "execute_result"
    }
   ],
   "source": [
    "data_condenados.head(5)"
   ]
  },
  {
   "attachments": {},
   "cell_type": "markdown",
   "metadata": {},
   "source": [
    "Pasamos las condenas a meses"
   ]
  },
  {
   "cell_type": "code",
   "execution_count": 14,
   "metadata": {},
   "outputs": [
    {
     "data": {
      "text/plain": [
       "provincia_descripcion                                                                  Chaco\n",
       "edad                                                                                      26\n",
       "genero_descripcion                                                                     Varón\n",
       "estado_civil_descripcion                                                           Soltero/a\n",
       "nivel_instruccion_descripcion                                            Primario incompleto\n",
       "ultima_situacion_laboral_descripcion                                            Desocupado/a\n",
       "capacitacion_laboral_al_ingresar_descripcion                 No tiene ni oficio ni profesión\n",
       "participacion_programa_laboral                                                             0\n",
       "participacion_programa_educativo_descripcion       No participa de ningún programa educativo\n",
       "participo_alteracion_orden_ult_anio_descripcion           No participó de ninguna alteración\n",
       "calificacion_conducta_descripcion                                           Sin calificación\n",
       "tentativa_fugas_evasiones_descripcion                                                     No\n",
       "duracion_condena_anios                                                                     5\n",
       "duracion_condena_meses                                                                     0\n",
       "es_reincidente_descripcion                                                       Reincidente\n",
       "Name: 25, dtype: object"
      ]
     },
     "execution_count": 14,
     "metadata": {},
     "output_type": "execute_result"
    }
   ],
   "source": [
    "# solo anio de condena\n",
    "\n",
    "data_condenados.loc[25]"
   ]
  },
  {
   "cell_type": "code",
   "execution_count": 15,
   "metadata": {},
   "outputs": [
    {
     "data": {
      "text/plain": [
       "provincia_descripcion                                                                  Chaco\n",
       "edad                                                                                      25\n",
       "genero_descripcion                                                                     Varón\n",
       "estado_civil_descripcion                                                           Soltero/a\n",
       "nivel_instruccion_descripcion                                          Secundario incompleto\n",
       "ultima_situacion_laboral_descripcion                         Trabajador/ra de tiempo parcial\n",
       "capacitacion_laboral_al_ingresar_descripcion                              Tiene algún oficio\n",
       "participacion_programa_laboral                                                             0\n",
       "participacion_programa_educativo_descripcion       No participa de ningún programa educativo\n",
       "participo_alteracion_orden_ult_anio_descripcion           No participó de ninguna alteración\n",
       "calificacion_conducta_descripcion                                                   Ejemplar\n",
       "tentativa_fugas_evasiones_descripcion                                                     No\n",
       "duracion_condena_anios                                                                     6\n",
       "duracion_condena_meses                                                                     8\n",
       "es_reincidente_descripcion                                                        Primario/a\n",
       "Name: 6, dtype: object"
      ]
     },
     "execution_count": 15,
     "metadata": {},
     "output_type": "execute_result"
    }
   ],
   "source": [
    "# año y meses de condena\n",
    "\n",
    "data_condenados.loc[6]"
   ]
  },
  {
   "cell_type": "code",
   "execution_count": 16,
   "metadata": {},
   "outputs": [
    {
     "data": {
      "text/plain": [
       "provincia_descripcion                                                                  Chaco\n",
       "edad                                                                                      25\n",
       "genero_descripcion                                                                     Varón\n",
       "estado_civil_descripcion                                                           Soltero/a\n",
       "nivel_instruccion_descripcion                                          Secundario incompleto\n",
       "ultima_situacion_laboral_descripcion                         Trabajador/ra de tiempo parcial\n",
       "capacitacion_laboral_al_ingresar_descripcion                              Tiene algún oficio\n",
       "participacion_programa_laboral                                                             0\n",
       "participacion_programa_educativo_descripcion       No participa de ningún programa educativo\n",
       "participo_alteracion_orden_ult_anio_descripcion           No participó de ninguna alteración\n",
       "calificacion_conducta_descripcion                                                   Ejemplar\n",
       "tentativa_fugas_evasiones_descripcion                                                     No\n",
       "duracion_condena_anios                                                                     6\n",
       "duracion_condena_meses                                                                    80\n",
       "es_reincidente_descripcion                                                        Primario/a\n",
       "Name: 6, dtype: object"
      ]
     },
     "execution_count": 16,
     "metadata": {},
     "output_type": "execute_result"
    }
   ],
   "source": [
    "anio_y_meses = np.logical_and(data_condenados.duracion_condena_anios > 0, data_condenados.duracion_condena_meses > 0)\n",
    "\n",
    "data_condenados.loc[data_condenados[anio_y_meses].index, 'duracion_condena_meses'] = data_condenados.duracion_condena_meses + (data_condenados.duracion_condena_anios * 12)\n",
    "\n",
    "data_condenados.loc[6]"
   ]
  },
  {
   "cell_type": "code",
   "execution_count": 17,
   "metadata": {},
   "outputs": [
    {
     "data": {
      "text/plain": [
       "provincia_descripcion                                                                  Chaco\n",
       "edad                                                                                      26\n",
       "genero_descripcion                                                                     Varón\n",
       "estado_civil_descripcion                                                           Soltero/a\n",
       "nivel_instruccion_descripcion                                            Primario incompleto\n",
       "ultima_situacion_laboral_descripcion                                            Desocupado/a\n",
       "capacitacion_laboral_al_ingresar_descripcion                 No tiene ni oficio ni profesión\n",
       "participacion_programa_laboral                                                             0\n",
       "participacion_programa_educativo_descripcion       No participa de ningún programa educativo\n",
       "participo_alteracion_orden_ult_anio_descripcion           No participó de ninguna alteración\n",
       "calificacion_conducta_descripcion                                           Sin calificación\n",
       "tentativa_fugas_evasiones_descripcion                                                     No\n",
       "duracion_condena_anios                                                                     5\n",
       "duracion_condena_meses                                                                    60\n",
       "es_reincidente_descripcion                                                       Reincidente\n",
       "Name: 25, dtype: object"
      ]
     },
     "execution_count": 17,
     "metadata": {},
     "output_type": "execute_result"
    }
   ],
   "source": [
    "meses_condena_0 = data_condenados.duracion_condena_meses == 0\n",
    "\n",
    "data_condenados.loc[data_condenados[meses_condena_0].index, 'duracion_condena_meses'] = data_condenados.duracion_condena_anios * 12\n",
    "\n",
    "data_condenados.loc[25]"
   ]
  },
  {
   "attachments": {},
   "cell_type": "markdown",
   "metadata": {},
   "source": [
    "quitamos la columna de anio"
   ]
  },
  {
   "cell_type": "code",
   "execution_count": 18,
   "metadata": {},
   "outputs": [],
   "source": [
    "data_condenados = data_condenados.drop(columns='duracion_condena_anios')"
   ]
  },
  {
   "cell_type": "code",
   "execution_count": 19,
   "metadata": {},
   "outputs": [
    {
     "data": {
      "text/html": [
       "<div>\n",
       "<style scoped>\n",
       "    .dataframe tbody tr th:only-of-type {\n",
       "        vertical-align: middle;\n",
       "    }\n",
       "\n",
       "    .dataframe tbody tr th {\n",
       "        vertical-align: top;\n",
       "    }\n",
       "\n",
       "    .dataframe thead th {\n",
       "        text-align: right;\n",
       "    }\n",
       "</style>\n",
       "<table border=\"1\" class=\"dataframe\">\n",
       "  <thead>\n",
       "    <tr style=\"text-align: right;\">\n",
       "      <th></th>\n",
       "      <th>provincia_descripcion</th>\n",
       "      <th>edad</th>\n",
       "      <th>genero_descripcion</th>\n",
       "      <th>estado_civil_descripcion</th>\n",
       "      <th>nivel_instruccion_descripcion</th>\n",
       "      <th>ultima_situacion_laboral_descripcion</th>\n",
       "      <th>capacitacion_laboral_al_ingresar_descripcion</th>\n",
       "      <th>participacion_programa_laboral</th>\n",
       "      <th>participacion_programa_educativo_descripcion</th>\n",
       "      <th>participo_alteracion_orden_ult_anio_descripcion</th>\n",
       "      <th>calificacion_conducta_descripcion</th>\n",
       "      <th>tentativa_fugas_evasiones_descripcion</th>\n",
       "      <th>duracion_condena_meses</th>\n",
       "      <th>es_reincidente_descripcion</th>\n",
       "    </tr>\n",
       "  </thead>\n",
       "  <tbody>\n",
       "    <tr>\n",
       "      <th>1</th>\n",
       "      <td>Chaco</td>\n",
       "      <td>42</td>\n",
       "      <td>Varón</td>\n",
       "      <td>Soltero/a</td>\n",
       "      <td>Secundario completo</td>\n",
       "      <td>Trabajador/ra de tiempo parcial</td>\n",
       "      <td>Tiene algún oficio</td>\n",
       "      <td>0.0</td>\n",
       "      <td>No participa de ningún programa educativo</td>\n",
       "      <td>No participó de ninguna alteración</td>\n",
       "      <td>Sin calificación</td>\n",
       "      <td>No</td>\n",
       "      <td>48</td>\n",
       "      <td>Primario/a</td>\n",
       "    </tr>\n",
       "    <tr>\n",
       "      <th>2</th>\n",
       "      <td>Chaco</td>\n",
       "      <td>26</td>\n",
       "      <td>Varón</td>\n",
       "      <td>Soltero/a</td>\n",
       "      <td>Secundario completo</td>\n",
       "      <td>Desocupado/a</td>\n",
       "      <td>No tiene ni oficio ni profesión</td>\n",
       "      <td>0.0</td>\n",
       "      <td>No participa de ningún programa educativo</td>\n",
       "      <td>No participó de ninguna alteración</td>\n",
       "      <td>Sin calificación</td>\n",
       "      <td>No</td>\n",
       "      <td>48</td>\n",
       "      <td>Primario/a</td>\n",
       "    </tr>\n",
       "    <tr>\n",
       "      <th>3</th>\n",
       "      <td>Chaco</td>\n",
       "      <td>24</td>\n",
       "      <td>Varón</td>\n",
       "      <td>Soltero/a</td>\n",
       "      <td>Secundario completo</td>\n",
       "      <td>Desocupado/a</td>\n",
       "      <td>No tiene ni oficio ni profesión</td>\n",
       "      <td>0.0</td>\n",
       "      <td>No participa de ningún programa educativo</td>\n",
       "      <td>No participó de ninguna alteración</td>\n",
       "      <td>Sin calificación</td>\n",
       "      <td>No</td>\n",
       "      <td>48</td>\n",
       "      <td>Primario/a</td>\n",
       "    </tr>\n",
       "    <tr>\n",
       "      <th>4</th>\n",
       "      <td>Chaco</td>\n",
       "      <td>29</td>\n",
       "      <td>Varón</td>\n",
       "      <td>Soltero/a</td>\n",
       "      <td>Primario completo</td>\n",
       "      <td>Desocupado/a</td>\n",
       "      <td>No tiene ni oficio ni profesión</td>\n",
       "      <td>0.0</td>\n",
       "      <td>No participa de ningún programa educativo</td>\n",
       "      <td>No participó de ninguna alteración</td>\n",
       "      <td>Sin calificación</td>\n",
       "      <td>No</td>\n",
       "      <td>132</td>\n",
       "      <td>Primario/a</td>\n",
       "    </tr>\n",
       "    <tr>\n",
       "      <th>6</th>\n",
       "      <td>Chaco</td>\n",
       "      <td>25</td>\n",
       "      <td>Varón</td>\n",
       "      <td>Soltero/a</td>\n",
       "      <td>Secundario incompleto</td>\n",
       "      <td>Trabajador/ra de tiempo parcial</td>\n",
       "      <td>Tiene algún oficio</td>\n",
       "      <td>0.0</td>\n",
       "      <td>No participa de ningún programa educativo</td>\n",
       "      <td>No participó de ninguna alteración</td>\n",
       "      <td>Ejemplar</td>\n",
       "      <td>No</td>\n",
       "      <td>80</td>\n",
       "      <td>Primario/a</td>\n",
       "    </tr>\n",
       "  </tbody>\n",
       "</table>\n",
       "</div>"
      ],
      "text/plain": [
       "  provincia_descripcion  edad genero_descripcion estado_civil_descripcion  \\\n",
       "1                 Chaco    42              Varón                Soltero/a   \n",
       "2                 Chaco    26              Varón                Soltero/a   \n",
       "3                 Chaco    24              Varón                Soltero/a   \n",
       "4                 Chaco    29              Varón                Soltero/a   \n",
       "6                 Chaco    25              Varón                Soltero/a   \n",
       "\n",
       "  nivel_instruccion_descripcion ultima_situacion_laboral_descripcion  \\\n",
       "1           Secundario completo      Trabajador/ra de tiempo parcial   \n",
       "2           Secundario completo                         Desocupado/a   \n",
       "3           Secundario completo                         Desocupado/a   \n",
       "4             Primario completo                         Desocupado/a   \n",
       "6         Secundario incompleto      Trabajador/ra de tiempo parcial   \n",
       "\n",
       "  capacitacion_laboral_al_ingresar_descripcion  \\\n",
       "1                           Tiene algún oficio   \n",
       "2              No tiene ni oficio ni profesión   \n",
       "3              No tiene ni oficio ni profesión   \n",
       "4              No tiene ni oficio ni profesión   \n",
       "6                           Tiene algún oficio   \n",
       "\n",
       "   participacion_programa_laboral  \\\n",
       "1                             0.0   \n",
       "2                             0.0   \n",
       "3                             0.0   \n",
       "4                             0.0   \n",
       "6                             0.0   \n",
       "\n",
       "  participacion_programa_educativo_descripcion  \\\n",
       "1    No participa de ningún programa educativo   \n",
       "2    No participa de ningún programa educativo   \n",
       "3    No participa de ningún programa educativo   \n",
       "4    No participa de ningún programa educativo   \n",
       "6    No participa de ningún programa educativo   \n",
       "\n",
       "  participo_alteracion_orden_ult_anio_descripcion  \\\n",
       "1              No participó de ninguna alteración   \n",
       "2              No participó de ninguna alteración   \n",
       "3              No participó de ninguna alteración   \n",
       "4              No participó de ninguna alteración   \n",
       "6              No participó de ninguna alteración   \n",
       "\n",
       "  calificacion_conducta_descripcion tentativa_fugas_evasiones_descripcion  \\\n",
       "1                  Sin calificación                                    No   \n",
       "2                  Sin calificación                                    No   \n",
       "3                  Sin calificación                                    No   \n",
       "4                  Sin calificación                                    No   \n",
       "6                          Ejemplar                                    No   \n",
       "\n",
       "   duracion_condena_meses es_reincidente_descripcion  \n",
       "1                      48                 Primario/a  \n",
       "2                      48                 Primario/a  \n",
       "3                      48                 Primario/a  \n",
       "4                     132                 Primario/a  \n",
       "6                      80                 Primario/a  "
      ]
     },
     "execution_count": 19,
     "metadata": {},
     "output_type": "execute_result"
    }
   ],
   "source": [
    "data_condenados.head(5)"
   ]
  },
  {
   "attachments": {},
   "cell_type": "markdown",
   "metadata": {},
   "source": [
    "Hay una diferenciación entre persona reiterante y persona reincidente. Se considera reiterante a alguien que es condenado por un delito idéntico o análogo a aquel por el cual fue condenado anteriormente. Reincidente es una persona que comete un delito distinto al último por el que fue detenido\n"
   ]
  },
  {
   "cell_type": "code",
   "execution_count": 20,
   "metadata": {},
   "outputs": [
    {
     "data": {
      "text/plain": [
       "<AxesSubplot:xlabel='es_reincidente_descripcion', ylabel='Count'>"
      ]
     },
     "execution_count": 20,
     "metadata": {},
     "output_type": "execute_result"
    },
    {
     "data": {
      "image/png": "[encoded data removed]",
      "text/plain": [
       "<Figure size 640x480 with 1 Axes>"
      ]
     },
     "metadata": {},
     "output_type": "display_data"
    }
   ],
   "source": [
    "sns.histplot(data=data_condenados[\"es_reincidente_descripcion\"],discrete = True)"
   ]
  },
  {
   "attachments": {},
   "cell_type": "markdown",
   "metadata": {},
   "source": [
    "Vamos a pasar a binarias las columnas categóricas que utilizaremos para predecir"
   ]
  },
  {
   "cell_type": "code",
   "execution_count": 21,
   "metadata": {},
   "outputs": [
    {
     "data": {
      "text/plain": [
       "Varón                   45697\n",
       "Mujer                    1695\n",
       "Trans Mujer/Travesti       40\n",
       "Trans Varón                14\n",
       "Name: genero_descripcion, dtype: int64"
      ]
     },
     "execution_count": 21,
     "metadata": {},
     "output_type": "execute_result"
    }
   ],
   "source": [
    "data_condenados.genero_descripcion.value_counts()"
   ]
  },
  {
   "cell_type": "code",
   "execution_count": 22,
   "metadata": {},
   "outputs": [],
   "source": [
    "delete_genero = np.logical_or(data_condenados.genero_descripcion == 'Trans Mujer/Travesti', data_condenados.genero_descripcion == 'Trans Varón')\n",
    "\n",
    "data_condenados.drop(data_condenados[delete_genero].index, inplace=True)"
   ]
  },
  {
   "cell_type": "code",
   "execution_count": 23,
   "metadata": {},
   "outputs": [],
   "source": [
    "\n",
    "data_condenados.loc[data_condenados.genero_descripcion == 'Varón', 'Genero_Varon'] = 1\n",
    "\n",
    "data_condenados.loc[data_condenados.genero_descripcion != 'Varón', 'Genero_Varon'] = 0\n",
    "\n",
    "data_condenados = data_condenados.drop(columns='genero_descripcion')\n",
    "\n"
   ]
  },
  {
   "cell_type": "code",
   "execution_count": 24,
   "metadata": {},
   "outputs": [
    {
     "data": {
      "text/plain": [
       "1.0    45697\n",
       "0.0     1695\n",
       "Name: Genero_Varon, dtype: int64"
      ]
     },
     "execution_count": 24,
     "metadata": {},
     "output_type": "execute_result"
    }
   ],
   "source": [
    "data_condenados.Genero_Varon.value_counts()"
   ]
  },
  {
   "cell_type": "code",
   "execution_count": 25,
   "metadata": {},
   "outputs": [
    {
     "data": {
      "text/plain": [
       "Soltero/a                    36189\n",
       "Concubino/a                   5931\n",
       "Casado/a                      3851\n",
       "Separado/a o divorciado/a      786\n",
       "Viudo/a                        335\n",
       "Separado/a de hecho            300\n",
       "Name: estado_civil_descripcion, dtype: int64"
      ]
     },
     "execution_count": 25,
     "metadata": {},
     "output_type": "execute_result"
    }
   ],
   "source": [
    "data_condenados.estado_civil_descripcion.value_counts()"
   ]
  },
  {
   "cell_type": "code",
   "execution_count": 26,
   "metadata": {},
   "outputs": [],
   "source": [
    "data_condenados.loc[data_condenados.estado_civil_descripcion == 'Soltero/a', 'Estado_Civil_Soltero'] = 1\n",
    "\n",
    "data_condenados.loc[data_condenados.estado_civil_descripcion != 'Soltero/a', 'Estado_Civil_Soltero'] = 0\n",
    "\n",
    "\n",
    "data_condenados = data_condenados.drop(columns='estado_civil_descripcion')\n",
    "\n"
   ]
  },
  {
   "cell_type": "code",
   "execution_count": 27,
   "metadata": {},
   "outputs": [
    {
     "data": {
      "text/plain": [
       "1.0    36189\n",
       "0.0    11203\n",
       "Name: Estado_Civil_Soltero, dtype: int64"
      ]
     },
     "execution_count": 27,
     "metadata": {},
     "output_type": "execute_result"
    }
   ],
   "source": [
    "data_condenados.Estado_Civil_Soltero.value_counts()"
   ]
  },
  {
   "cell_type": "code",
   "execution_count": 28,
   "metadata": {},
   "outputs": [
    {
     "data": {
      "text/plain": [
       "Primario completo           15371\n",
       "Secundario incompleto       12321\n",
       "Primario incompleto         11932\n",
       "Secundario completo          4458\n",
       "Ninguno                      2267\n",
       "Universitario incompleto      408\n",
       "Terciario incompleto          271\n",
       "Terciario completo            265\n",
       "Universitario completo         99\n",
       "Name: nivel_instruccion_descripcion, dtype: int64"
      ]
     },
     "execution_count": 28,
     "metadata": {},
     "output_type": "execute_result"
    }
   ],
   "source": [
    "data_condenados.nivel_instruccion_descripcion.value_counts()"
   ]
  },
  {
   "cell_type": "code",
   "execution_count": 29,
   "metadata": {},
   "outputs": [
    {
     "data": {
      "text/html": [
       "<div>\n",
       "<style scoped>\n",
       "    .dataframe tbody tr th:only-of-type {\n",
       "        vertical-align: middle;\n",
       "    }\n",
       "\n",
       "    .dataframe tbody tr th {\n",
       "        vertical-align: top;\n",
       "    }\n",
       "\n",
       "    .dataframe thead th {\n",
       "        text-align: right;\n",
       "    }\n",
       "</style>\n",
       "<table border=\"1\" class=\"dataframe\">\n",
       "  <thead>\n",
       "    <tr style=\"text-align: right;\">\n",
       "      <th></th>\n",
       "      <th>provincia_descripcion</th>\n",
       "      <th>edad</th>\n",
       "      <th>ultima_situacion_laboral_descripcion</th>\n",
       "      <th>capacitacion_laboral_al_ingresar_descripcion</th>\n",
       "      <th>participacion_programa_laboral</th>\n",
       "      <th>participacion_programa_educativo_descripcion</th>\n",
       "      <th>participo_alteracion_orden_ult_anio_descripcion</th>\n",
       "      <th>calificacion_conducta_descripcion</th>\n",
       "      <th>tentativa_fugas_evasiones_descripcion</th>\n",
       "      <th>duracion_condena_meses</th>\n",
       "      <th>es_reincidente_descripcion</th>\n",
       "      <th>Genero_Varon</th>\n",
       "      <th>Estado_Civil_Soltero</th>\n",
       "      <th>Nivel Instruccion Agrupado_Primario</th>\n",
       "      <th>Nivel Instruccion Agrupado_Secundario</th>\n",
       "      <th>Nivel Instruccion Agrupado_Superior</th>\n",
       "    </tr>\n",
       "  </thead>\n",
       "  <tbody>\n",
       "    <tr>\n",
       "      <th>1</th>\n",
       "      <td>Chaco</td>\n",
       "      <td>42</td>\n",
       "      <td>Trabajador/ra de tiempo parcial</td>\n",
       "      <td>Tiene algún oficio</td>\n",
       "      <td>0.0</td>\n",
       "      <td>No participa de ningún programa educativo</td>\n",
       "      <td>No participó de ninguna alteración</td>\n",
       "      <td>Sin calificación</td>\n",
       "      <td>No</td>\n",
       "      <td>48</td>\n",
       "      <td>Primario/a</td>\n",
       "      <td>1.0</td>\n",
       "      <td>1.0</td>\n",
       "      <td>0</td>\n",
       "      <td>1</td>\n",
       "      <td>0</td>\n",
       "    </tr>\n",
       "    <tr>\n",
       "      <th>2</th>\n",
       "      <td>Chaco</td>\n",
       "      <td>26</td>\n",
       "      <td>Desocupado/a</td>\n",
       "      <td>No tiene ni oficio ni profesión</td>\n",
       "      <td>0.0</td>\n",
       "      <td>No participa de ningún programa educativo</td>\n",
       "      <td>No participó de ninguna alteración</td>\n",
       "      <td>Sin calificación</td>\n",
       "      <td>No</td>\n",
       "      <td>48</td>\n",
       "      <td>Primario/a</td>\n",
       "      <td>1.0</td>\n",
       "      <td>1.0</td>\n",
       "      <td>0</td>\n",
       "      <td>1</td>\n",
       "      <td>0</td>\n",
       "    </tr>\n",
       "    <tr>\n",
       "      <th>3</th>\n",
       "      <td>Chaco</td>\n",
       "      <td>24</td>\n",
       "      <td>Desocupado/a</td>\n",
       "      <td>No tiene ni oficio ni profesión</td>\n",
       "      <td>0.0</td>\n",
       "      <td>No participa de ningún programa educativo</td>\n",
       "      <td>No participó de ninguna alteración</td>\n",
       "      <td>Sin calificación</td>\n",
       "      <td>No</td>\n",
       "      <td>48</td>\n",
       "      <td>Primario/a</td>\n",
       "      <td>1.0</td>\n",
       "      <td>1.0</td>\n",
       "      <td>0</td>\n",
       "      <td>1</td>\n",
       "      <td>0</td>\n",
       "    </tr>\n",
       "  </tbody>\n",
       "</table>\n",
       "</div>"
      ],
      "text/plain": [
       "  provincia_descripcion  edad ultima_situacion_laboral_descripcion  \\\n",
       "1                 Chaco    42      Trabajador/ra de tiempo parcial   \n",
       "2                 Chaco    26                         Desocupado/a   \n",
       "3                 Chaco    24                         Desocupado/a   \n",
       "\n",
       "  capacitacion_laboral_al_ingresar_descripcion  \\\n",
       "1                           Tiene algún oficio   \n",
       "2              No tiene ni oficio ni profesión   \n",
       "3              No tiene ni oficio ni profesión   \n",
       "\n",
       "   participacion_programa_laboral  \\\n",
       "1                             0.0   \n",
       "2                             0.0   \n",
       "3                             0.0   \n",
       "\n",
       "  participacion_programa_educativo_descripcion  \\\n",
       "1    No participa de ningún programa educativo   \n",
       "2    No participa de ningún programa educativo   \n",
       "3    No participa de ningún programa educativo   \n",
       "\n",
       "  participo_alteracion_orden_ult_anio_descripcion  \\\n",
       "1              No participó de ninguna alteración   \n",
       "2              No participó de ninguna alteración   \n",
       "3              No participó de ninguna alteración   \n",
       "\n",
       "  calificacion_conducta_descripcion tentativa_fugas_evasiones_descripcion  \\\n",
       "1                  Sin calificación                                    No   \n",
       "2                  Sin calificación                                    No   \n",
       "3                  Sin calificación                                    No   \n",
       "\n",
       "   duracion_condena_meses es_reincidente_descripcion  Genero_Varon  \\\n",
       "1                      48                 Primario/a           1.0   \n",
       "2                      48                 Primario/a           1.0   \n",
       "3                      48                 Primario/a           1.0   \n",
       "\n",
       "   Estado_Civil_Soltero  Nivel Instruccion Agrupado_Primario  \\\n",
       "1                   1.0                                    0   \n",
       "2                   1.0                                    0   \n",
       "3                   1.0                                    0   \n",
       "\n",
       "   Nivel Instruccion Agrupado_Secundario  Nivel Instruccion Agrupado_Superior  \n",
       "1                                      1                                    0  \n",
       "2                                      1                                    0  \n",
       "3                                      1                                    0  "
      ]
     },
     "execution_count": 29,
     "metadata": {},
     "output_type": "execute_result"
    }
   ],
   "source": [
    "#Primario = Primario incompleto + Primario Completo\n",
    "#Secundario = Secundario incompleto + Secundario Completo\n",
    "#Ninguno\n",
    "#Superior = Universitario incompleto + Terciario incompleto + Terciario completo + Universitario completo \n",
    "\n",
    "data_condenados.loc[data_condenados.nivel_instruccion_descripcion == 'Primario completo', 'Nivel Instruccion Agrupado'] = 'Primario'\n",
    "data_condenados.loc[data_condenados.nivel_instruccion_descripcion == 'Primario incompleto', 'Nivel Instruccion Agrupado'] = 'Primario'\n",
    "data_condenados.loc[data_condenados.nivel_instruccion_descripcion == 'Secundario completo', 'Nivel Instruccion Agrupado'] = 'Secundario'\n",
    "data_condenados.loc[data_condenados.nivel_instruccion_descripcion == 'Secundario incompleto', 'Nivel Instruccion Agrupado'] = 'Secundario'\n",
    "data_condenados.loc[data_condenados.nivel_instruccion_descripcion == 'Ninguno', 'Nivel Instruccion Agrupado'] = 'Ninguno'\n",
    "data_condenados.loc[data_condenados.nivel_instruccion_descripcion == 'Universitario incompleto', 'Nivel Instruccion Agrupado'] = 'Superior'\n",
    "data_condenados.loc[data_condenados.nivel_instruccion_descripcion == 'Terciario incompleto', 'Nivel Instruccion Agrupado'] = 'Superior'\n",
    "data_condenados.loc[data_condenados.nivel_instruccion_descripcion == 'Terciario completo', 'Nivel Instruccion Agrupado'] = 'Superior'\n",
    "data_condenados.loc[data_condenados.nivel_instruccion_descripcion == 'Universitario completo', 'Nivel Instruccion Agrupado'] = 'Superior'\n",
    "\n",
    "\n",
    "\n",
    "data_condenados = pd.get_dummies(data_condenados,columns=['Nivel Instruccion Agrupado'], drop_first=True)\n",
    "\n",
    "data_condenados = data_condenados.drop(columns='nivel_instruccion_descripcion')\n",
    "\n",
    "\n",
    "data_condenados.head(3)\n"
   ]
  },
  {
   "cell_type": "code",
   "execution_count": 30,
   "metadata": {},
   "outputs": [
    {
     "data": {
      "text/plain": [
       "Trabajador/ra de tiempo parcial     19217\n",
       "Desocupado/a                        17017\n",
       "Trabajador/ra de tiempo completo    11158\n",
       "Name: ultima_situacion_laboral_descripcion, dtype: int64"
      ]
     },
     "execution_count": 30,
     "metadata": {},
     "output_type": "execute_result"
    }
   ],
   "source": [
    "data_condenados.ultima_situacion_laboral_descripcion.value_counts()"
   ]
  },
  {
   "cell_type": "code",
   "execution_count": 31,
   "metadata": {},
   "outputs": [
    {
     "data": {
      "text/html": [
       "<div>\n",
       "<style scoped>\n",
       "    .dataframe tbody tr th:only-of-type {\n",
       "        vertical-align: middle;\n",
       "    }\n",
       "\n",
       "    .dataframe tbody tr th {\n",
       "        vertical-align: top;\n",
       "    }\n",
       "\n",
       "    .dataframe thead th {\n",
       "        text-align: right;\n",
       "    }\n",
       "</style>\n",
       "<table border=\"1\" class=\"dataframe\">\n",
       "  <thead>\n",
       "    <tr style=\"text-align: right;\">\n",
       "      <th></th>\n",
       "      <th>provincia_descripcion</th>\n",
       "      <th>edad</th>\n",
       "      <th>capacitacion_laboral_al_ingresar_descripcion</th>\n",
       "      <th>participacion_programa_laboral</th>\n",
       "      <th>participacion_programa_educativo_descripcion</th>\n",
       "      <th>participo_alteracion_orden_ult_anio_descripcion</th>\n",
       "      <th>calificacion_conducta_descripcion</th>\n",
       "      <th>tentativa_fugas_evasiones_descripcion</th>\n",
       "      <th>duracion_condena_meses</th>\n",
       "      <th>es_reincidente_descripcion</th>\n",
       "      <th>Genero_Varon</th>\n",
       "      <th>Estado_Civil_Soltero</th>\n",
       "      <th>Nivel Instruccion Agrupado_Primario</th>\n",
       "      <th>Nivel Instruccion Agrupado_Secundario</th>\n",
       "      <th>Nivel Instruccion Agrupado_Superior</th>\n",
       "      <th>Situacion_Laboral_Desocupado</th>\n",
       "    </tr>\n",
       "  </thead>\n",
       "  <tbody>\n",
       "    <tr>\n",
       "      <th>1</th>\n",
       "      <td>Chaco</td>\n",
       "      <td>42</td>\n",
       "      <td>Tiene algún oficio</td>\n",
       "      <td>0.0</td>\n",
       "      <td>No participa de ningún programa educativo</td>\n",
       "      <td>No participó de ninguna alteración</td>\n",
       "      <td>Sin calificación</td>\n",
       "      <td>No</td>\n",
       "      <td>48</td>\n",
       "      <td>Primario/a</td>\n",
       "      <td>1.0</td>\n",
       "      <td>1.0</td>\n",
       "      <td>0</td>\n",
       "      <td>1</td>\n",
       "      <td>0</td>\n",
       "      <td>0.0</td>\n",
       "    </tr>\n",
       "    <tr>\n",
       "      <th>2</th>\n",
       "      <td>Chaco</td>\n",
       "      <td>26</td>\n",
       "      <td>No tiene ni oficio ni profesión</td>\n",
       "      <td>0.0</td>\n",
       "      <td>No participa de ningún programa educativo</td>\n",
       "      <td>No participó de ninguna alteración</td>\n",
       "      <td>Sin calificación</td>\n",
       "      <td>No</td>\n",
       "      <td>48</td>\n",
       "      <td>Primario/a</td>\n",
       "      <td>1.0</td>\n",
       "      <td>1.0</td>\n",
       "      <td>0</td>\n",
       "      <td>1</td>\n",
       "      <td>0</td>\n",
       "      <td>1.0</td>\n",
       "    </tr>\n",
       "  </tbody>\n",
       "</table>\n",
       "</div>"
      ],
      "text/plain": [
       "  provincia_descripcion  edad capacitacion_laboral_al_ingresar_descripcion  \\\n",
       "1                 Chaco    42                           Tiene algún oficio   \n",
       "2                 Chaco    26              No tiene ni oficio ni profesión   \n",
       "\n",
       "   participacion_programa_laboral  \\\n",
       "1                             0.0   \n",
       "2                             0.0   \n",
       "\n",
       "  participacion_programa_educativo_descripcion  \\\n",
       "1    No participa de ningún programa educativo   \n",
       "2    No participa de ningún programa educativo   \n",
       "\n",
       "  participo_alteracion_orden_ult_anio_descripcion  \\\n",
       "1              No participó de ninguna alteración   \n",
       "2              No participó de ninguna alteración   \n",
       "\n",
       "  calificacion_conducta_descripcion tentativa_fugas_evasiones_descripcion  \\\n",
       "1                  Sin calificación                                    No   \n",
       "2                  Sin calificación                                    No   \n",
       "\n",
       "   duracion_condena_meses es_reincidente_descripcion  Genero_Varon  \\\n",
       "1                      48                 Primario/a           1.0   \n",
       "2                      48                 Primario/a           1.0   \n",
       "\n",
       "   Estado_Civil_Soltero  Nivel Instruccion Agrupado_Primario  \\\n",
       "1                   1.0                                    0   \n",
       "2                   1.0                                    0   \n",
       "\n",
       "   Nivel Instruccion Agrupado_Secundario  Nivel Instruccion Agrupado_Superior  \\\n",
       "1                                      1                                    0   \n",
       "2                                      1                                    0   \n",
       "\n",
       "   Situacion_Laboral_Desocupado  \n",
       "1                           0.0  \n",
       "2                           1.0  "
      ]
     },
     "execution_count": 31,
     "metadata": {},
     "output_type": "execute_result"
    }
   ],
   "source": [
    "data_condenados.loc[data_condenados.ultima_situacion_laboral_descripcion == 'Desocupado/a', 'Situacion_Laboral_Desocupado'] = 1\n",
    "data_condenados.loc[data_condenados.ultima_situacion_laboral_descripcion != 'Desocupado/a', 'Situacion_Laboral_Desocupado'] = 0\n",
    "\n",
    "data_condenados = data_condenados.drop(columns='ultima_situacion_laboral_descripcion')\n",
    "\n",
    "data_condenados.head(2)"
   ]
  },
  {
   "cell_type": "code",
   "execution_count": 32,
   "metadata": {},
   "outputs": [
    {
     "data": {
      "text/plain": [
       "Tiene algún oficio                 21945\n",
       "No tiene ni oficio ni profesión    20717\n",
       "Tiene alguna profesión              4730\n",
       "Name: capacitacion_laboral_al_ingresar_descripcion, dtype: int64"
      ]
     },
     "execution_count": 32,
     "metadata": {},
     "output_type": "execute_result"
    }
   ],
   "source": [
    "data_condenados.capacitacion_laboral_al_ingresar_descripcion.value_counts()"
   ]
  },
  {
   "cell_type": "code",
   "execution_count": 33,
   "metadata": {},
   "outputs": [
    {
     "data": {
      "text/html": [
       "<div>\n",
       "<style scoped>\n",
       "    .dataframe tbody tr th:only-of-type {\n",
       "        vertical-align: middle;\n",
       "    }\n",
       "\n",
       "    .dataframe tbody tr th {\n",
       "        vertical-align: top;\n",
       "    }\n",
       "\n",
       "    .dataframe thead th {\n",
       "        text-align: right;\n",
       "    }\n",
       "</style>\n",
       "<table border=\"1\" class=\"dataframe\">\n",
       "  <thead>\n",
       "    <tr style=\"text-align: right;\">\n",
       "      <th></th>\n",
       "      <th>provincia_descripcion</th>\n",
       "      <th>edad</th>\n",
       "      <th>participacion_programa_laboral</th>\n",
       "      <th>participacion_programa_educativo_descripcion</th>\n",
       "      <th>participo_alteracion_orden_ult_anio_descripcion</th>\n",
       "      <th>calificacion_conducta_descripcion</th>\n",
       "      <th>tentativa_fugas_evasiones_descripcion</th>\n",
       "      <th>duracion_condena_meses</th>\n",
       "      <th>es_reincidente_descripcion</th>\n",
       "      <th>Genero_Varon</th>\n",
       "      <th>Estado_Civil_Soltero</th>\n",
       "      <th>Nivel Instruccion Agrupado_Primario</th>\n",
       "      <th>Nivel Instruccion Agrupado_Secundario</th>\n",
       "      <th>Nivel Instruccion Agrupado_Superior</th>\n",
       "      <th>Situacion_Laboral_Desocupado</th>\n",
       "      <th>Sin_Capacitacion_Laboral</th>\n",
       "    </tr>\n",
       "  </thead>\n",
       "  <tbody>\n",
       "    <tr>\n",
       "      <th>1</th>\n",
       "      <td>Chaco</td>\n",
       "      <td>42</td>\n",
       "      <td>0.0</td>\n",
       "      <td>No participa de ningún programa educativo</td>\n",
       "      <td>No participó de ninguna alteración</td>\n",
       "      <td>Sin calificación</td>\n",
       "      <td>No</td>\n",
       "      <td>48</td>\n",
       "      <td>Primario/a</td>\n",
       "      <td>1.0</td>\n",
       "      <td>1.0</td>\n",
       "      <td>0</td>\n",
       "      <td>1</td>\n",
       "      <td>0</td>\n",
       "      <td>0.0</td>\n",
       "      <td>0.0</td>\n",
       "    </tr>\n",
       "    <tr>\n",
       "      <th>2</th>\n",
       "      <td>Chaco</td>\n",
       "      <td>26</td>\n",
       "      <td>0.0</td>\n",
       "      <td>No participa de ningún programa educativo</td>\n",
       "      <td>No participó de ninguna alteración</td>\n",
       "      <td>Sin calificación</td>\n",
       "      <td>No</td>\n",
       "      <td>48</td>\n",
       "      <td>Primario/a</td>\n",
       "      <td>1.0</td>\n",
       "      <td>1.0</td>\n",
       "      <td>0</td>\n",
       "      <td>1</td>\n",
       "      <td>0</td>\n",
       "      <td>1.0</td>\n",
       "      <td>1.0</td>\n",
       "    </tr>\n",
       "  </tbody>\n",
       "</table>\n",
       "</div>"
      ],
      "text/plain": [
       "  provincia_descripcion  edad  participacion_programa_laboral  \\\n",
       "1                 Chaco    42                             0.0   \n",
       "2                 Chaco    26                             0.0   \n",
       "\n",
       "  participacion_programa_educativo_descripcion  \\\n",
       "1    No participa de ningún programa educativo   \n",
       "2    No participa de ningún programa educativo   \n",
       "\n",
       "  participo_alteracion_orden_ult_anio_descripcion  \\\n",
       "1              No participó de ninguna alteración   \n",
       "2              No participó de ninguna alteración   \n",
       "\n",
       "  calificacion_conducta_descripcion tentativa_fugas_evasiones_descripcion  \\\n",
       "1                  Sin calificación                                    No   \n",
       "2                  Sin calificación                                    No   \n",
       "\n",
       "   duracion_condena_meses es_reincidente_descripcion  Genero_Varon  \\\n",
       "1                      48                 Primario/a           1.0   \n",
       "2                      48                 Primario/a           1.0   \n",
       "\n",
       "   Estado_Civil_Soltero  Nivel Instruccion Agrupado_Primario  \\\n",
       "1                   1.0                                    0   \n",
       "2                   1.0                                    0   \n",
       "\n",
       "   Nivel Instruccion Agrupado_Secundario  Nivel Instruccion Agrupado_Superior  \\\n",
       "1                                      1                                    0   \n",
       "2                                      1                                    0   \n",
       "\n",
       "   Situacion_Laboral_Desocupado  Sin_Capacitacion_Laboral  \n",
       "1                           0.0                       0.0  \n",
       "2                           1.0                       1.0  "
      ]
     },
     "execution_count": 33,
     "metadata": {},
     "output_type": "execute_result"
    }
   ],
   "source": [
    "data_condenados.loc[data_condenados.capacitacion_laboral_al_ingresar_descripcion == 'No tiene ni oficio ni profesión', 'Sin_Capacitacion_Laboral'] = 1\n",
    "data_condenados.loc[data_condenados.capacitacion_laboral_al_ingresar_descripcion != 'No tiene ni oficio ni profesión', 'Sin_Capacitacion_Laboral'] = 0\n",
    "\n",
    "data_condenados = data_condenados.drop(columns='capacitacion_laboral_al_ingresar_descripcion')\n",
    "\n",
    "data_condenados.head(2)"
   ]
  },
  {
   "cell_type": "code",
   "execution_count": 34,
   "metadata": {},
   "outputs": [
    {
     "data": {
      "text/plain": [
       "No participa de ningún programa educativo         21277\n",
       "Si - educación formal - PRIMARIA (EGB)            10662\n",
       "Si - educación formal - SECUNDARIA (Polimodal)     9520\n",
       "Si - educación no formal (Cursos)                  4166\n",
       "Si - educación formal - UNIVERSITARIA              1058\n",
       "Si - educación formal - TERCIARIA                   709\n",
       "Name: participacion_programa_educativo_descripcion, dtype: int64"
      ]
     },
     "execution_count": 34,
     "metadata": {},
     "output_type": "execute_result"
    }
   ],
   "source": [
    "data_condenados.participacion_programa_educativo_descripcion.value_counts()"
   ]
  },
  {
   "cell_type": "code",
   "execution_count": 35,
   "metadata": {},
   "outputs": [
    {
     "data": {
      "text/html": [
       "<div>\n",
       "<style scoped>\n",
       "    .dataframe tbody tr th:only-of-type {\n",
       "        vertical-align: middle;\n",
       "    }\n",
       "\n",
       "    .dataframe tbody tr th {\n",
       "        vertical-align: top;\n",
       "    }\n",
       "\n",
       "    .dataframe thead th {\n",
       "        text-align: right;\n",
       "    }\n",
       "</style>\n",
       "<table border=\"1\" class=\"dataframe\">\n",
       "  <thead>\n",
       "    <tr style=\"text-align: right;\">\n",
       "      <th></th>\n",
       "      <th>provincia_descripcion</th>\n",
       "      <th>edad</th>\n",
       "      <th>participacion_programa_laboral</th>\n",
       "      <th>participo_alteracion_orden_ult_anio_descripcion</th>\n",
       "      <th>calificacion_conducta_descripcion</th>\n",
       "      <th>tentativa_fugas_evasiones_descripcion</th>\n",
       "      <th>duracion_condena_meses</th>\n",
       "      <th>es_reincidente_descripcion</th>\n",
       "      <th>Genero_Varon</th>\n",
       "      <th>Estado_Civil_Soltero</th>\n",
       "      <th>Nivel Instruccion Agrupado_Primario</th>\n",
       "      <th>Nivel Instruccion Agrupado_Secundario</th>\n",
       "      <th>Nivel Instruccion Agrupado_Superior</th>\n",
       "      <th>Situacion_Laboral_Desocupado</th>\n",
       "      <th>Sin_Capacitacion_Laboral</th>\n",
       "      <th>Participa_Programa_Educativo</th>\n",
       "    </tr>\n",
       "  </thead>\n",
       "  <tbody>\n",
       "    <tr>\n",
       "      <th>1</th>\n",
       "      <td>Chaco</td>\n",
       "      <td>42</td>\n",
       "      <td>0.0</td>\n",
       "      <td>No participó de ninguna alteración</td>\n",
       "      <td>Sin calificación</td>\n",
       "      <td>No</td>\n",
       "      <td>48</td>\n",
       "      <td>Primario/a</td>\n",
       "      <td>1.0</td>\n",
       "      <td>1.0</td>\n",
       "      <td>0</td>\n",
       "      <td>1</td>\n",
       "      <td>0</td>\n",
       "      <td>0.0</td>\n",
       "      <td>0.0</td>\n",
       "      <td>0.0</td>\n",
       "    </tr>\n",
       "    <tr>\n",
       "      <th>2</th>\n",
       "      <td>Chaco</td>\n",
       "      <td>26</td>\n",
       "      <td>0.0</td>\n",
       "      <td>No participó de ninguna alteración</td>\n",
       "      <td>Sin calificación</td>\n",
       "      <td>No</td>\n",
       "      <td>48</td>\n",
       "      <td>Primario/a</td>\n",
       "      <td>1.0</td>\n",
       "      <td>1.0</td>\n",
       "      <td>0</td>\n",
       "      <td>1</td>\n",
       "      <td>0</td>\n",
       "      <td>1.0</td>\n",
       "      <td>1.0</td>\n",
       "      <td>0.0</td>\n",
       "    </tr>\n",
       "  </tbody>\n",
       "</table>\n",
       "</div>"
      ],
      "text/plain": [
       "  provincia_descripcion  edad  participacion_programa_laboral  \\\n",
       "1                 Chaco    42                             0.0   \n",
       "2                 Chaco    26                             0.0   \n",
       "\n",
       "  participo_alteracion_orden_ult_anio_descripcion  \\\n",
       "1              No participó de ninguna alteración   \n",
       "2              No participó de ninguna alteración   \n",
       "\n",
       "  calificacion_conducta_descripcion tentativa_fugas_evasiones_descripcion  \\\n",
       "1                  Sin calificación                                    No   \n",
       "2                  Sin calificación                                    No   \n",
       "\n",
       "   duracion_condena_meses es_reincidente_descripcion  Genero_Varon  \\\n",
       "1                      48                 Primario/a           1.0   \n",
       "2                      48                 Primario/a           1.0   \n",
       "\n",
       "   Estado_Civil_Soltero  Nivel Instruccion Agrupado_Primario  \\\n",
       "1                   1.0                                    0   \n",
       "2                   1.0                                    0   \n",
       "\n",
       "   Nivel Instruccion Agrupado_Secundario  Nivel Instruccion Agrupado_Superior  \\\n",
       "1                                      1                                    0   \n",
       "2                                      1                                    0   \n",
       "\n",
       "   Situacion_Laboral_Desocupado  Sin_Capacitacion_Laboral  \\\n",
       "1                           0.0                       0.0   \n",
       "2                           1.0                       1.0   \n",
       "\n",
       "   Participa_Programa_Educativo  \n",
       "1                           0.0  \n",
       "2                           0.0  "
      ]
     },
     "execution_count": 35,
     "metadata": {},
     "output_type": "execute_result"
    }
   ],
   "source": [
    "data_condenados.loc[data_condenados.participacion_programa_educativo_descripcion == 'No participa de ningún programa educativo', 'Participa_Programa_Educativo'] = 0\n",
    "data_condenados.loc[data_condenados.participacion_programa_educativo_descripcion != 'No participa de ningún programa educativo', 'Participa_Programa_Educativo'] = 1\n",
    "\n",
    "data_condenados = data_condenados.drop(columns='participacion_programa_educativo_descripcion')\n",
    "\n",
    "data_condenados.head(2)"
   ]
  },
  {
   "cell_type": "code",
   "execution_count": 36,
   "metadata": {},
   "outputs": [
    {
     "data": {
      "text/plain": [
       "No participó de ninguna alteración                   41954\n",
       "SI - Alteración del orden SIN heridos, ni rehenes     2942\n",
       "SI - Alteración del orden con heridos o muertos       1778\n",
       "SI - Alteración del orden con daños                    619\n",
       "SI - Alteración del orden con rehenes                   99\n",
       "Name: participo_alteracion_orden_ult_anio_descripcion, dtype: int64"
      ]
     },
     "execution_count": 36,
     "metadata": {},
     "output_type": "execute_result"
    }
   ],
   "source": [
    "data_condenados.participo_alteracion_orden_ult_anio_descripcion.value_counts()"
   ]
  },
  {
   "cell_type": "code",
   "execution_count": 37,
   "metadata": {},
   "outputs": [
    {
     "data": {
      "text/html": [
       "<div>\n",
       "<style scoped>\n",
       "    .dataframe tbody tr th:only-of-type {\n",
       "        vertical-align: middle;\n",
       "    }\n",
       "\n",
       "    .dataframe tbody tr th {\n",
       "        vertical-align: top;\n",
       "    }\n",
       "\n",
       "    .dataframe thead th {\n",
       "        text-align: right;\n",
       "    }\n",
       "</style>\n",
       "<table border=\"1\" class=\"dataframe\">\n",
       "  <thead>\n",
       "    <tr style=\"text-align: right;\">\n",
       "      <th></th>\n",
       "      <th>provincia_descripcion</th>\n",
       "      <th>edad</th>\n",
       "      <th>participacion_programa_laboral</th>\n",
       "      <th>calificacion_conducta_descripcion</th>\n",
       "      <th>tentativa_fugas_evasiones_descripcion</th>\n",
       "      <th>duracion_condena_meses</th>\n",
       "      <th>es_reincidente_descripcion</th>\n",
       "      <th>Genero_Varon</th>\n",
       "      <th>Estado_Civil_Soltero</th>\n",
       "      <th>Nivel Instruccion Agrupado_Primario</th>\n",
       "      <th>Nivel Instruccion Agrupado_Secundario</th>\n",
       "      <th>Nivel Instruccion Agrupado_Superior</th>\n",
       "      <th>Situacion_Laboral_Desocupado</th>\n",
       "      <th>Sin_Capacitacion_Laboral</th>\n",
       "      <th>Participa_Programa_Educativo</th>\n",
       "      <th>Participa_Alteracion_Orden</th>\n",
       "    </tr>\n",
       "  </thead>\n",
       "  <tbody>\n",
       "    <tr>\n",
       "      <th>1</th>\n",
       "      <td>Chaco</td>\n",
       "      <td>42</td>\n",
       "      <td>0.0</td>\n",
       "      <td>Sin calificación</td>\n",
       "      <td>No</td>\n",
       "      <td>48</td>\n",
       "      <td>Primario/a</td>\n",
       "      <td>1.0</td>\n",
       "      <td>1.0</td>\n",
       "      <td>0</td>\n",
       "      <td>1</td>\n",
       "      <td>0</td>\n",
       "      <td>0.0</td>\n",
       "      <td>0.0</td>\n",
       "      <td>0.0</td>\n",
       "      <td>0.0</td>\n",
       "    </tr>\n",
       "    <tr>\n",
       "      <th>2</th>\n",
       "      <td>Chaco</td>\n",
       "      <td>26</td>\n",
       "      <td>0.0</td>\n",
       "      <td>Sin calificación</td>\n",
       "      <td>No</td>\n",
       "      <td>48</td>\n",
       "      <td>Primario/a</td>\n",
       "      <td>1.0</td>\n",
       "      <td>1.0</td>\n",
       "      <td>0</td>\n",
       "      <td>1</td>\n",
       "      <td>0</td>\n",
       "      <td>1.0</td>\n",
       "      <td>1.0</td>\n",
       "      <td>0.0</td>\n",
       "      <td>0.0</td>\n",
       "    </tr>\n",
       "  </tbody>\n",
       "</table>\n",
       "</div>"
      ],
      "text/plain": [
       "  provincia_descripcion  edad  participacion_programa_laboral  \\\n",
       "1                 Chaco    42                             0.0   \n",
       "2                 Chaco    26                             0.0   \n",
       "\n",
       "  calificacion_conducta_descripcion tentativa_fugas_evasiones_descripcion  \\\n",
       "1                  Sin calificación                                    No   \n",
       "2                  Sin calificación                                    No   \n",
       "\n",
       "   duracion_condena_meses es_reincidente_descripcion  Genero_Varon  \\\n",
       "1                      48                 Primario/a           1.0   \n",
       "2                      48                 Primario/a           1.0   \n",
       "\n",
       "   Estado_Civil_Soltero  Nivel Instruccion Agrupado_Primario  \\\n",
       "1                   1.0                                    0   \n",
       "2                   1.0                                    0   \n",
       "\n",
       "   Nivel Instruccion Agrupado_Secundario  Nivel Instruccion Agrupado_Superior  \\\n",
       "1                                      1                                    0   \n",
       "2                                      1                                    0   \n",
       "\n",
       "   Situacion_Laboral_Desocupado  Sin_Capacitacion_Laboral  \\\n",
       "1                           0.0                       0.0   \n",
       "2                           1.0                       1.0   \n",
       "\n",
       "   Participa_Programa_Educativo  Participa_Alteracion_Orden  \n",
       "1                           0.0                         0.0  \n",
       "2                           0.0                         0.0  "
      ]
     },
     "execution_count": 37,
     "metadata": {},
     "output_type": "execute_result"
    }
   ],
   "source": [
    "data_condenados.loc[data_condenados.participo_alteracion_orden_ult_anio_descripcion == 'No participó de ninguna alteración', 'Participa_Alteracion_Orden'] = 0\n",
    "data_condenados.loc[data_condenados.participo_alteracion_orden_ult_anio_descripcion != 'No participó de ninguna alteración', 'Participa_Alteracion_Orden'] = 1\n",
    "\n",
    "data_condenados = data_condenados.drop(columns='participo_alteracion_orden_ult_anio_descripcion')\n",
    "\n",
    "data_condenados.head(2)"
   ]
  },
  {
   "cell_type": "code",
   "execution_count": 38,
   "metadata": {},
   "outputs": [
    {
     "data": {
      "text/plain": [
       "Ejemplar            29674\n",
       "Muy buena            6983\n",
       "Buena                5832\n",
       "Sin calificación     1671\n",
       "Regular              1456\n",
       "Mala                 1161\n",
       "Pésima                615\n",
       "Name: calificacion_conducta_descripcion, dtype: int64"
      ]
     },
     "execution_count": 38,
     "metadata": {},
     "output_type": "execute_result"
    }
   ],
   "source": [
    "data_condenados.calificacion_conducta_descripcion.value_counts()"
   ]
  },
  {
   "cell_type": "code",
   "execution_count": 39,
   "metadata": {},
   "outputs": [
    {
     "data": {
      "text/plain": [
       "Ejemplar            27.488711\n",
       "Muy buena           25.103824\n",
       "Buena               27.932099\n",
       "Sin calificación    36.086176\n",
       "Regular             38.942308\n",
       "Mala                44.788975\n",
       "Pésima              35.772358\n",
       "Name: calificacion_conducta_descripcion, dtype: float64"
      ]
     },
     "execution_count": 39,
     "metadata": {},
     "output_type": "execute_result"
    }
   ],
   "source": [
    "reincidente = data_condenados.es_reincidente_descripcion != 'Primario/a'\n",
    "\n",
    "(data_condenados[reincidente].calificacion_conducta_descripcion.value_counts()/data_condenados.calificacion_conducta_descripcion.value_counts() )* 100"
   ]
  },
  {
   "cell_type": "code",
   "execution_count": 40,
   "metadata": {},
   "outputs": [
    {
     "data": {
      "text/html": [
       "<div>\n",
       "<style scoped>\n",
       "    .dataframe tbody tr th:only-of-type {\n",
       "        vertical-align: middle;\n",
       "    }\n",
       "\n",
       "    .dataframe tbody tr th {\n",
       "        vertical-align: top;\n",
       "    }\n",
       "\n",
       "    .dataframe thead th {\n",
       "        text-align: right;\n",
       "    }\n",
       "</style>\n",
       "<table border=\"1\" class=\"dataframe\">\n",
       "  <thead>\n",
       "    <tr style=\"text-align: right;\">\n",
       "      <th></th>\n",
       "      <th>provincia_descripcion</th>\n",
       "      <th>edad</th>\n",
       "      <th>participacion_programa_laboral</th>\n",
       "      <th>tentativa_fugas_evasiones_descripcion</th>\n",
       "      <th>duracion_condena_meses</th>\n",
       "      <th>es_reincidente_descripcion</th>\n",
       "      <th>Genero_Varon</th>\n",
       "      <th>Estado_Civil_Soltero</th>\n",
       "      <th>Nivel Instruccion Agrupado_Primario</th>\n",
       "      <th>Nivel Instruccion Agrupado_Secundario</th>\n",
       "      <th>Nivel Instruccion Agrupado_Superior</th>\n",
       "      <th>Situacion_Laboral_Desocupado</th>\n",
       "      <th>Sin_Capacitacion_Laboral</th>\n",
       "      <th>Participa_Programa_Educativo</th>\n",
       "      <th>Participa_Alteracion_Orden</th>\n",
       "      <th>Nivel_Conducta_Malo</th>\n",
       "      <th>Nivel_Conducta_Sin calificación</th>\n",
       "    </tr>\n",
       "  </thead>\n",
       "  <tbody>\n",
       "    <tr>\n",
       "      <th>1</th>\n",
       "      <td>Chaco</td>\n",
       "      <td>42</td>\n",
       "      <td>0.0</td>\n",
       "      <td>No</td>\n",
       "      <td>48</td>\n",
       "      <td>Primario/a</td>\n",
       "      <td>1.0</td>\n",
       "      <td>1.0</td>\n",
       "      <td>0</td>\n",
       "      <td>1</td>\n",
       "      <td>0</td>\n",
       "      <td>0.0</td>\n",
       "      <td>0.0</td>\n",
       "      <td>0.0</td>\n",
       "      <td>0.0</td>\n",
       "      <td>0</td>\n",
       "      <td>1</td>\n",
       "    </tr>\n",
       "    <tr>\n",
       "      <th>2</th>\n",
       "      <td>Chaco</td>\n",
       "      <td>26</td>\n",
       "      <td>0.0</td>\n",
       "      <td>No</td>\n",
       "      <td>48</td>\n",
       "      <td>Primario/a</td>\n",
       "      <td>1.0</td>\n",
       "      <td>1.0</td>\n",
       "      <td>0</td>\n",
       "      <td>1</td>\n",
       "      <td>0</td>\n",
       "      <td>1.0</td>\n",
       "      <td>1.0</td>\n",
       "      <td>0.0</td>\n",
       "      <td>0.0</td>\n",
       "      <td>0</td>\n",
       "      <td>1</td>\n",
       "    </tr>\n",
       "    <tr>\n",
       "      <th>3</th>\n",
       "      <td>Chaco</td>\n",
       "      <td>24</td>\n",
       "      <td>0.0</td>\n",
       "      <td>No</td>\n",
       "      <td>48</td>\n",
       "      <td>Primario/a</td>\n",
       "      <td>1.0</td>\n",
       "      <td>1.0</td>\n",
       "      <td>0</td>\n",
       "      <td>1</td>\n",
       "      <td>0</td>\n",
       "      <td>1.0</td>\n",
       "      <td>1.0</td>\n",
       "      <td>0.0</td>\n",
       "      <td>0.0</td>\n",
       "      <td>0</td>\n",
       "      <td>1</td>\n",
       "    </tr>\n",
       "  </tbody>\n",
       "</table>\n",
       "</div>"
      ],
      "text/plain": [
       "  provincia_descripcion  edad  participacion_programa_laboral  \\\n",
       "1                 Chaco    42                             0.0   \n",
       "2                 Chaco    26                             0.0   \n",
       "3                 Chaco    24                             0.0   \n",
       "\n",
       "  tentativa_fugas_evasiones_descripcion  duracion_condena_meses  \\\n",
       "1                                    No                      48   \n",
       "2                                    No                      48   \n",
       "3                                    No                      48   \n",
       "\n",
       "  es_reincidente_descripcion  Genero_Varon  Estado_Civil_Soltero  \\\n",
       "1                 Primario/a           1.0                   1.0   \n",
       "2                 Primario/a           1.0                   1.0   \n",
       "3                 Primario/a           1.0                   1.0   \n",
       "\n",
       "   Nivel Instruccion Agrupado_Primario  Nivel Instruccion Agrupado_Secundario  \\\n",
       "1                                    0                                      1   \n",
       "2                                    0                                      1   \n",
       "3                                    0                                      1   \n",
       "\n",
       "   Nivel Instruccion Agrupado_Superior  Situacion_Laboral_Desocupado  \\\n",
       "1                                    0                           0.0   \n",
       "2                                    0                           1.0   \n",
       "3                                    0                           1.0   \n",
       "\n",
       "   Sin_Capacitacion_Laboral  Participa_Programa_Educativo  \\\n",
       "1                       0.0                           0.0   \n",
       "2                       1.0                           0.0   \n",
       "3                       1.0                           0.0   \n",
       "\n",
       "   Participa_Alteracion_Orden  Nivel_Conducta_Malo  \\\n",
       "1                         0.0                    0   \n",
       "2                         0.0                    0   \n",
       "3                         0.0                    0   \n",
       "\n",
       "   Nivel_Conducta_Sin calificación  \n",
       "1                                1  \n",
       "2                                1  \n",
       "3                                1  "
      ]
     },
     "execution_count": 40,
     "metadata": {},
     "output_type": "execute_result"
    }
   ],
   "source": [
    "#Bueno = Ejemplar + Muy Buena + Buena\n",
    "#Malo = Regular + Mala + Pesima\n",
    "#Sin calificación\n",
    "\n",
    "data_condenados.loc[data_condenados.calificacion_conducta_descripcion == 'Sin calificación', 'Nivel_Conducta'] = 'Sin calificación'\n",
    "data_condenados.loc[data_condenados.calificacion_conducta_descripcion == 'Ejemplar', 'Nivel_Conducta'] = 'Bueno'\n",
    "data_condenados.loc[data_condenados.calificacion_conducta_descripcion == 'Muy Buena', 'Nivel_Conducta'] = 'Bueno'\n",
    "data_condenados.loc[data_condenados.calificacion_conducta_descripcion == 'Buena', 'Nivel_Conducta'] = 'Bueno'\n",
    "data_condenados.loc[data_condenados.calificacion_conducta_descripcion == 'Regular', 'Nivel_Conducta'] = 'Malo'\n",
    "data_condenados.loc[data_condenados.calificacion_conducta_descripcion == 'Mala', 'Nivel_Conducta'] = 'Malo'\n",
    "data_condenados.loc[data_condenados.calificacion_conducta_descripcion == 'Pésima', 'Nivel_Conducta'] = 'Malo'\n",
    "\n",
    "\n",
    "\n",
    "data_condenados = pd.get_dummies(data_condenados,columns=['Nivel_Conducta'], drop_first=True)\n",
    "\n",
    "data_condenados = data_condenados.drop(columns='calificacion_conducta_descripcion')\n",
    "\n",
    "\n",
    "data_condenados.head(3)"
   ]
  },
  {
   "cell_type": "code",
   "execution_count": 41,
   "metadata": {},
   "outputs": [
    {
     "data": {
      "text/plain": [
       "Primario/a     33943\n",
       "Reincidente     8809\n",
       "Reiterante      4640\n",
       "Name: es_reincidente_descripcion, dtype: int64"
      ]
     },
     "execution_count": 41,
     "metadata": {},
     "output_type": "execute_result"
    }
   ],
   "source": [
    "data_condenados.es_reincidente_descripcion.value_counts()"
   ]
  },
  {
   "cell_type": "code",
   "execution_count": 42,
   "metadata": {},
   "outputs": [
    {
     "data": {
      "text/html": [
       "<div>\n",
       "<style scoped>\n",
       "    .dataframe tbody tr th:only-of-type {\n",
       "        vertical-align: middle;\n",
       "    }\n",
       "\n",
       "    .dataframe tbody tr th {\n",
       "        vertical-align: top;\n",
       "    }\n",
       "\n",
       "    .dataframe thead th {\n",
       "        text-align: right;\n",
       "    }\n",
       "</style>\n",
       "<table border=\"1\" class=\"dataframe\">\n",
       "  <thead>\n",
       "    <tr style=\"text-align: right;\">\n",
       "      <th></th>\n",
       "      <th>provincia_descripcion</th>\n",
       "      <th>edad</th>\n",
       "      <th>participacion_programa_laboral</th>\n",
       "      <th>tentativa_fugas_evasiones_descripcion</th>\n",
       "      <th>duracion_condena_meses</th>\n",
       "      <th>Genero_Varon</th>\n",
       "      <th>Estado_Civil_Soltero</th>\n",
       "      <th>Nivel Instruccion Agrupado_Primario</th>\n",
       "      <th>Nivel Instruccion Agrupado_Secundario</th>\n",
       "      <th>Nivel Instruccion Agrupado_Superior</th>\n",
       "      <th>Situacion_Laboral_Desocupado</th>\n",
       "      <th>Sin_Capacitacion_Laboral</th>\n",
       "      <th>Participa_Programa_Educativo</th>\n",
       "      <th>Participa_Alteracion_Orden</th>\n",
       "      <th>Nivel_Conducta_Malo</th>\n",
       "      <th>Nivel_Conducta_Sin calificación</th>\n",
       "      <th>Reincidente</th>\n",
       "    </tr>\n",
       "  </thead>\n",
       "  <tbody>\n",
       "    <tr>\n",
       "      <th>1</th>\n",
       "      <td>Chaco</td>\n",
       "      <td>42</td>\n",
       "      <td>0.0</td>\n",
       "      <td>No</td>\n",
       "      <td>48</td>\n",
       "      <td>1.0</td>\n",
       "      <td>1.0</td>\n",
       "      <td>0</td>\n",
       "      <td>1</td>\n",
       "      <td>0</td>\n",
       "      <td>0.0</td>\n",
       "      <td>0.0</td>\n",
       "      <td>0.0</td>\n",
       "      <td>0.0</td>\n",
       "      <td>0</td>\n",
       "      <td>1</td>\n",
       "      <td>0.0</td>\n",
       "    </tr>\n",
       "    <tr>\n",
       "      <th>2</th>\n",
       "      <td>Chaco</td>\n",
       "      <td>26</td>\n",
       "      <td>0.0</td>\n",
       "      <td>No</td>\n",
       "      <td>48</td>\n",
       "      <td>1.0</td>\n",
       "      <td>1.0</td>\n",
       "      <td>0</td>\n",
       "      <td>1</td>\n",
       "      <td>0</td>\n",
       "      <td>1.0</td>\n",
       "      <td>1.0</td>\n",
       "      <td>0.0</td>\n",
       "      <td>0.0</td>\n",
       "      <td>0</td>\n",
       "      <td>1</td>\n",
       "      <td>0.0</td>\n",
       "    </tr>\n",
       "  </tbody>\n",
       "</table>\n",
       "</div>"
      ],
      "text/plain": [
       "  provincia_descripcion  edad  participacion_programa_laboral  \\\n",
       "1                 Chaco    42                             0.0   \n",
       "2                 Chaco    26                             0.0   \n",
       "\n",
       "  tentativa_fugas_evasiones_descripcion  duracion_condena_meses  Genero_Varon  \\\n",
       "1                                    No                      48           1.0   \n",
       "2                                    No                      48           1.0   \n",
       "\n",
       "   Estado_Civil_Soltero  Nivel Instruccion Agrupado_Primario  \\\n",
       "1                   1.0                                    0   \n",
       "2                   1.0                                    0   \n",
       "\n",
       "   Nivel Instruccion Agrupado_Secundario  Nivel Instruccion Agrupado_Superior  \\\n",
       "1                                      1                                    0   \n",
       "2                                      1                                    0   \n",
       "\n",
       "   Situacion_Laboral_Desocupado  Sin_Capacitacion_Laboral  \\\n",
       "1                           0.0                       0.0   \n",
       "2                           1.0                       1.0   \n",
       "\n",
       "   Participa_Programa_Educativo  Participa_Alteracion_Orden  \\\n",
       "1                           0.0                         0.0   \n",
       "2                           0.0                         0.0   \n",
       "\n",
       "   Nivel_Conducta_Malo  Nivel_Conducta_Sin calificación  Reincidente  \n",
       "1                    0                                1          0.0  \n",
       "2                    0                                1          0.0  "
      ]
     },
     "execution_count": 42,
     "metadata": {},
     "output_type": "execute_result"
    }
   ],
   "source": [
    "data_condenados.loc[data_condenados.es_reincidente_descripcion == 'Primario/a', 'Reincidente'] = 0\n",
    "data_condenados.loc[data_condenados.es_reincidente_descripcion != 'Primario/a', 'Reincidente'] = 1\n",
    "\n",
    "data_condenados = data_condenados.drop(columns='es_reincidente_descripcion')\n",
    "\n",
    "data_condenados.head(2)"
   ]
  },
  {
   "cell_type": "code",
   "execution_count": 43,
   "metadata": {},
   "outputs": [
    {
     "data": {
      "text/plain": [
       "(47392, 17)"
      ]
     },
     "execution_count": 43,
     "metadata": {},
     "output_type": "execute_result"
    }
   ],
   "source": [
    "data_condenados.shape"
   ]
  },
  {
   "cell_type": "code",
   "execution_count": 44,
   "metadata": {},
   "outputs": [
    {
     "data": {
      "text/plain": [
       "No                          47071\n",
       "SI. tentativa de fuga         178\n",
       "SI. tentativa de evasión      143\n",
       "Name: tentativa_fugas_evasiones_descripcion, dtype: int64"
      ]
     },
     "execution_count": 44,
     "metadata": {},
     "output_type": "execute_result"
    }
   ],
   "source": [
    "data_condenados.tentativa_fugas_evasiones_descripcion.value_counts()"
   ]
  },
  {
   "cell_type": "code",
   "execution_count": 45,
   "metadata": {},
   "outputs": [
    {
     "data": {
      "text/html": [
       "<div>\n",
       "<style scoped>\n",
       "    .dataframe tbody tr th:only-of-type {\n",
       "        vertical-align: middle;\n",
       "    }\n",
       "\n",
       "    .dataframe tbody tr th {\n",
       "        vertical-align: top;\n",
       "    }\n",
       "\n",
       "    .dataframe thead th {\n",
       "        text-align: right;\n",
       "    }\n",
       "</style>\n",
       "<table border=\"1\" class=\"dataframe\">\n",
       "  <thead>\n",
       "    <tr style=\"text-align: right;\">\n",
       "      <th></th>\n",
       "      <th>provincia_descripcion</th>\n",
       "      <th>edad</th>\n",
       "      <th>participacion_programa_laboral</th>\n",
       "      <th>duracion_condena_meses</th>\n",
       "      <th>Genero_Varon</th>\n",
       "      <th>Estado_Civil_Soltero</th>\n",
       "      <th>Nivel Instruccion Agrupado_Primario</th>\n",
       "      <th>Nivel Instruccion Agrupado_Secundario</th>\n",
       "      <th>Nivel Instruccion Agrupado_Superior</th>\n",
       "      <th>Situacion_Laboral_Desocupado</th>\n",
       "      <th>Sin_Capacitacion_Laboral</th>\n",
       "      <th>Participa_Programa_Educativo</th>\n",
       "      <th>Participa_Alteracion_Orden</th>\n",
       "      <th>Nivel_Conducta_Malo</th>\n",
       "      <th>Nivel_Conducta_Sin calificación</th>\n",
       "      <th>Reincidente</th>\n",
       "      <th>Intento de fuga</th>\n",
       "    </tr>\n",
       "  </thead>\n",
       "  <tbody>\n",
       "    <tr>\n",
       "      <th>1</th>\n",
       "      <td>Chaco</td>\n",
       "      <td>42</td>\n",
       "      <td>0.0</td>\n",
       "      <td>48</td>\n",
       "      <td>1.0</td>\n",
       "      <td>1.0</td>\n",
       "      <td>0</td>\n",
       "      <td>1</td>\n",
       "      <td>0</td>\n",
       "      <td>0.0</td>\n",
       "      <td>0.0</td>\n",
       "      <td>0.0</td>\n",
       "      <td>0.0</td>\n",
       "      <td>0</td>\n",
       "      <td>1</td>\n",
       "      <td>0.0</td>\n",
       "      <td>0.0</td>\n",
       "    </tr>\n",
       "    <tr>\n",
       "      <th>2</th>\n",
       "      <td>Chaco</td>\n",
       "      <td>26</td>\n",
       "      <td>0.0</td>\n",
       "      <td>48</td>\n",
       "      <td>1.0</td>\n",
       "      <td>1.0</td>\n",
       "      <td>0</td>\n",
       "      <td>1</td>\n",
       "      <td>0</td>\n",
       "      <td>1.0</td>\n",
       "      <td>1.0</td>\n",
       "      <td>0.0</td>\n",
       "      <td>0.0</td>\n",
       "      <td>0</td>\n",
       "      <td>1</td>\n",
       "      <td>0.0</td>\n",
       "      <td>0.0</td>\n",
       "    </tr>\n",
       "  </tbody>\n",
       "</table>\n",
       "</div>"
      ],
      "text/plain": [
       "  provincia_descripcion  edad  participacion_programa_laboral  \\\n",
       "1                 Chaco    42                             0.0   \n",
       "2                 Chaco    26                             0.0   \n",
       "\n",
       "   duracion_condena_meses  Genero_Varon  Estado_Civil_Soltero  \\\n",
       "1                      48           1.0                   1.0   \n",
       "2                      48           1.0                   1.0   \n",
       "\n",
       "   Nivel Instruccion Agrupado_Primario  Nivel Instruccion Agrupado_Secundario  \\\n",
       "1                                    0                                      1   \n",
       "2                                    0                                      1   \n",
       "\n",
       "   Nivel Instruccion Agrupado_Superior  Situacion_Laboral_Desocupado  \\\n",
       "1                                    0                           0.0   \n",
       "2                                    0                           1.0   \n",
       "\n",
       "   Sin_Capacitacion_Laboral  Participa_Programa_Educativo  \\\n",
       "1                       0.0                           0.0   \n",
       "2                       1.0                           0.0   \n",
       "\n",
       "   Participa_Alteracion_Orden  Nivel_Conducta_Malo  \\\n",
       "1                         0.0                    0   \n",
       "2                         0.0                    0   \n",
       "\n",
       "   Nivel_Conducta_Sin calificación  Reincidente  Intento de fuga  \n",
       "1                                1          0.0              0.0  \n",
       "2                                1          0.0              0.0  "
      ]
     },
     "execution_count": 45,
     "metadata": {},
     "output_type": "execute_result"
    }
   ],
   "source": [
    "data_condenados.loc[data_condenados.tentativa_fugas_evasiones_descripcion == 'No', 'Intento de fuga'] = 0\n",
    "data_condenados.loc[data_condenados.tentativa_fugas_evasiones_descripcion != 'No', 'Intento de fuga'] = 1\n",
    "\n",
    "data_condenados = data_condenados.drop(columns='tentativa_fugas_evasiones_descripcion')\n",
    "\n",
    "data_condenados.head(2)"
   ]
  },
  {
   "cell_type": "code",
   "execution_count": 46,
   "metadata": {},
   "outputs": [
    {
     "data": {
      "image/png": "[encoded data removed]",
      "text/plain": [
       "<Figure size 640x480 with 2 Axes>"
      ]
     },
     "metadata": {},
     "output_type": "display_data"
    }
   ],
   "source": [
    "dataplot = sns.heatmap(data_condenados.corr(), cmap=\"YlGnBu\", annot=False)"
   ]
  },
  {
   "cell_type": "code",
   "execution_count": 47,
   "metadata": {},
   "outputs": [
    {
     "data": {
      "text/html": [
       "<div>\n",
       "<style scoped>\n",
       "    .dataframe tbody tr th:only-of-type {\n",
       "        vertical-align: middle;\n",
       "    }\n",
       "\n",
       "    .dataframe tbody tr th {\n",
       "        vertical-align: top;\n",
       "    }\n",
       "\n",
       "    .dataframe thead th {\n",
       "        text-align: right;\n",
       "    }\n",
       "</style>\n",
       "<table border=\"1\" class=\"dataframe\">\n",
       "  <thead>\n",
       "    <tr style=\"text-align: right;\">\n",
       "      <th></th>\n",
       "      <th>edad</th>\n",
       "      <th>participacion_programa_laboral</th>\n",
       "      <th>duracion_condena_meses</th>\n",
       "      <th>Genero_Varon</th>\n",
       "      <th>Estado_Civil_Soltero</th>\n",
       "      <th>Nivel Instruccion Agrupado_Primario</th>\n",
       "      <th>Nivel Instruccion Agrupado_Secundario</th>\n",
       "      <th>Nivel Instruccion Agrupado_Superior</th>\n",
       "      <th>Situacion_Laboral_Desocupado</th>\n",
       "      <th>Sin_Capacitacion_Laboral</th>\n",
       "      <th>Participa_Programa_Educativo</th>\n",
       "      <th>Participa_Alteracion_Orden</th>\n",
       "      <th>Nivel_Conducta_Malo</th>\n",
       "      <th>Nivel_Conducta_Sin calificación</th>\n",
       "      <th>Reincidente</th>\n",
       "      <th>Intento de fuga</th>\n",
       "    </tr>\n",
       "  </thead>\n",
       "  <tbody>\n",
       "    <tr>\n",
       "      <th>edad</th>\n",
       "      <td>1.000000</td>\n",
       "      <td>0.056209</td>\n",
       "      <td>0.255288</td>\n",
       "      <td>-0.024759</td>\n",
       "      <td>-0.216886</td>\n",
       "      <td>0.012602</td>\n",
       "      <td>-0.044620</td>\n",
       "      <td>0.090126</td>\n",
       "      <td>-0.126731</td>\n",
       "      <td>-0.088481</td>\n",
       "      <td>0.006967</td>\n",
       "      <td>-0.140199</td>\n",
       "      <td>-0.128096</td>\n",
       "      <td>0.009477</td>\n",
       "      <td>-0.016810</td>\n",
       "      <td>-0.019730</td>\n",
       "    </tr>\n",
       "    <tr>\n",
       "      <th>participacion_programa_laboral</th>\n",
       "      <td>0.056209</td>\n",
       "      <td>1.000000</td>\n",
       "      <td>0.067724</td>\n",
       "      <td>-0.042377</td>\n",
       "      <td>-0.032291</td>\n",
       "      <td>-0.022262</td>\n",
       "      <td>0.007791</td>\n",
       "      <td>0.031620</td>\n",
       "      <td>-0.092994</td>\n",
       "      <td>-0.121703</td>\n",
       "      <td>0.227057</td>\n",
       "      <td>-0.035790</td>\n",
       "      <td>-0.052918</td>\n",
       "      <td>-0.016460</td>\n",
       "      <td>-0.017624</td>\n",
       "      <td>-0.021354</td>\n",
       "    </tr>\n",
       "    <tr>\n",
       "      <th>duracion_condena_meses</th>\n",
       "      <td>0.255288</td>\n",
       "      <td>0.067724</td>\n",
       "      <td>1.000000</td>\n",
       "      <td>0.021881</td>\n",
       "      <td>-0.071465</td>\n",
       "      <td>-0.013738</td>\n",
       "      <td>-0.013629</td>\n",
       "      <td>0.074306</td>\n",
       "      <td>-0.004048</td>\n",
       "      <td>-0.010476</td>\n",
       "      <td>0.013722</td>\n",
       "      <td>-0.003988</td>\n",
       "      <td>-0.034285</td>\n",
       "      <td>-0.035231</td>\n",
       "      <td>-0.064097</td>\n",
       "      <td>0.043478</td>\n",
       "    </tr>\n",
       "    <tr>\n",
       "      <th>Genero_Varon</th>\n",
       "      <td>-0.024759</td>\n",
       "      <td>-0.042377</td>\n",
       "      <td>0.021881</td>\n",
       "      <td>1.000000</td>\n",
       "      <td>-0.026124</td>\n",
       "      <td>0.015292</td>\n",
       "      <td>-0.014942</td>\n",
       "      <td>-0.016029</td>\n",
       "      <td>-0.077066</td>\n",
       "      <td>-0.102632</td>\n",
       "      <td>-0.049568</td>\n",
       "      <td>-0.067561</td>\n",
       "      <td>-0.046609</td>\n",
       "      <td>0.003551</td>\n",
       "      <td>0.034783</td>\n",
       "      <td>0.015904</td>\n",
       "    </tr>\n",
       "    <tr>\n",
       "      <th>Estado_Civil_Soltero</th>\n",
       "      <td>-0.216886</td>\n",
       "      <td>-0.032291</td>\n",
       "      <td>-0.071465</td>\n",
       "      <td>-0.026124</td>\n",
       "      <td>1.000000</td>\n",
       "      <td>0.019312</td>\n",
       "      <td>0.000560</td>\n",
       "      <td>-0.032649</td>\n",
       "      <td>0.059181</td>\n",
       "      <td>0.072318</td>\n",
       "      <td>-0.021435</td>\n",
       "      <td>0.035137</td>\n",
       "      <td>0.068564</td>\n",
       "      <td>-0.005922</td>\n",
       "      <td>-0.005705</td>\n",
       "      <td>-0.075761</td>\n",
       "    </tr>\n",
       "    <tr>\n",
       "      <th>Nivel Instruccion Agrupado_Primario</th>\n",
       "      <td>0.012602</td>\n",
       "      <td>-0.022262</td>\n",
       "      <td>-0.013738</td>\n",
       "      <td>0.015292</td>\n",
       "      <td>0.019312</td>\n",
       "      <td>1.000000</td>\n",
       "      <td>-0.863090</td>\n",
       "      <td>-0.174883</td>\n",
       "      <td>0.038214</td>\n",
       "      <td>0.041382</td>\n",
       "      <td>0.025573</td>\n",
       "      <td>-0.033210</td>\n",
       "      <td>0.003051</td>\n",
       "      <td>-0.017984</td>\n",
       "      <td>0.013534</td>\n",
       "      <td>-0.049940</td>\n",
       "    </tr>\n",
       "    <tr>\n",
       "      <th>Nivel Instruccion Agrupado_Secundario</th>\n",
       "      <td>-0.044620</td>\n",
       "      <td>0.007791</td>\n",
       "      <td>-0.013629</td>\n",
       "      <td>-0.014942</td>\n",
       "      <td>0.000560</td>\n",
       "      <td>-0.863090</td>\n",
       "      <td>1.000000</td>\n",
       "      <td>-0.111059</td>\n",
       "      <td>-0.040544</td>\n",
       "      <td>-0.032627</td>\n",
       "      <td>-0.016228</td>\n",
       "      <td>0.038582</td>\n",
       "      <td>0.012378</td>\n",
       "      <td>0.015404</td>\n",
       "      <td>-0.007886</td>\n",
       "      <td>0.060439</td>\n",
       "    </tr>\n",
       "    <tr>\n",
       "      <th>Nivel Instruccion Agrupado_Superior</th>\n",
       "      <td>0.090126</td>\n",
       "      <td>0.031620</td>\n",
       "      <td>0.074306</td>\n",
       "      <td>-0.016029</td>\n",
       "      <td>-0.032649</td>\n",
       "      <td>-0.174883</td>\n",
       "      <td>-0.111059</td>\n",
       "      <td>1.000000</td>\n",
       "      <td>-0.036130</td>\n",
       "      <td>-0.049274</td>\n",
       "      <td>0.043450</td>\n",
       "      <td>-0.027834</td>\n",
       "      <td>-0.025749</td>\n",
       "      <td>0.004854</td>\n",
       "      <td>-0.024241</td>\n",
       "      <td>-0.012388</td>\n",
       "    </tr>\n",
       "    <tr>\n",
       "      <th>Situacion_Laboral_Desocupado</th>\n",
       "      <td>-0.126731</td>\n",
       "      <td>-0.092994</td>\n",
       "      <td>-0.004048</td>\n",
       "      <td>-0.077066</td>\n",
       "      <td>0.059181</td>\n",
       "      <td>0.038214</td>\n",
       "      <td>-0.040544</td>\n",
       "      <td>-0.036130</td>\n",
       "      <td>1.000000</td>\n",
       "      <td>0.566012</td>\n",
       "      <td>0.022631</td>\n",
       "      <td>-0.007262</td>\n",
       "      <td>0.021198</td>\n",
       "      <td>-0.010494</td>\n",
       "      <td>0.040770</td>\n",
       "      <td>-0.021054</td>\n",
       "    </tr>\n",
       "    <tr>\n",
       "      <th>Sin_Capacitacion_Laboral</th>\n",
       "      <td>-0.088481</td>\n",
       "      <td>-0.121703</td>\n",
       "      <td>-0.010476</td>\n",
       "      <td>-0.102632</td>\n",
       "      <td>0.072318</td>\n",
       "      <td>0.041382</td>\n",
       "      <td>-0.032627</td>\n",
       "      <td>-0.049274</td>\n",
       "      <td>0.566012</td>\n",
       "      <td>1.000000</td>\n",
       "      <td>-0.019837</td>\n",
       "      <td>0.046825</td>\n",
       "      <td>0.061282</td>\n",
       "      <td>0.000354</td>\n",
       "      <td>-0.004634</td>\n",
       "      <td>-0.032322</td>\n",
       "    </tr>\n",
       "    <tr>\n",
       "      <th>Participa_Programa_Educativo</th>\n",
       "      <td>0.006967</td>\n",
       "      <td>0.227057</td>\n",
       "      <td>0.013722</td>\n",
       "      <td>-0.049568</td>\n",
       "      <td>-0.021435</td>\n",
       "      <td>0.025573</td>\n",
       "      <td>-0.016228</td>\n",
       "      <td>0.043450</td>\n",
       "      <td>0.022631</td>\n",
       "      <td>-0.019837</td>\n",
       "      <td>1.000000</td>\n",
       "      <td>-0.049192</td>\n",
       "      <td>-0.057213</td>\n",
       "      <td>-0.031234</td>\n",
       "      <td>0.014024</td>\n",
       "      <td>-0.066145</td>\n",
       "    </tr>\n",
       "    <tr>\n",
       "      <th>Participa_Alteracion_Orden</th>\n",
       "      <td>-0.140199</td>\n",
       "      <td>-0.035790</td>\n",
       "      <td>-0.003988</td>\n",
       "      <td>-0.067561</td>\n",
       "      <td>0.035137</td>\n",
       "      <td>-0.033210</td>\n",
       "      <td>0.038582</td>\n",
       "      <td>-0.027834</td>\n",
       "      <td>-0.007262</td>\n",
       "      <td>0.046825</td>\n",
       "      <td>-0.049192</td>\n",
       "      <td>1.000000</td>\n",
       "      <td>0.342248</td>\n",
       "      <td>0.002247</td>\n",
       "      <td>0.012599</td>\n",
       "      <td>0.059866</td>\n",
       "    </tr>\n",
       "    <tr>\n",
       "      <th>Nivel_Conducta_Malo</th>\n",
       "      <td>-0.128096</td>\n",
       "      <td>-0.052918</td>\n",
       "      <td>-0.034285</td>\n",
       "      <td>-0.046609</td>\n",
       "      <td>0.068564</td>\n",
       "      <td>0.003051</td>\n",
       "      <td>0.012378</td>\n",
       "      <td>-0.025749</td>\n",
       "      <td>0.021198</td>\n",
       "      <td>0.061282</td>\n",
       "      <td>-0.057213</td>\n",
       "      <td>0.342248</td>\n",
       "      <td>1.000000</td>\n",
       "      <td>-0.051719</td>\n",
       "      <td>0.072376</td>\n",
       "      <td>-0.010094</td>\n",
       "    </tr>\n",
       "    <tr>\n",
       "      <th>Nivel_Conducta_Sin calificación</th>\n",
       "      <td>0.009477</td>\n",
       "      <td>-0.016460</td>\n",
       "      <td>-0.035231</td>\n",
       "      <td>0.003551</td>\n",
       "      <td>-0.005922</td>\n",
       "      <td>-0.017984</td>\n",
       "      <td>0.015404</td>\n",
       "      <td>0.004854</td>\n",
       "      <td>-0.010494</td>\n",
       "      <td>0.000354</td>\n",
       "      <td>-0.031234</td>\n",
       "      <td>0.002247</td>\n",
       "      <td>-0.051719</td>\n",
       "      <td>1.000000</td>\n",
       "      <td>0.032686</td>\n",
       "      <td>-0.012998</td>\n",
       "    </tr>\n",
       "    <tr>\n",
       "      <th>Reincidente</th>\n",
       "      <td>-0.016810</td>\n",
       "      <td>-0.017624</td>\n",
       "      <td>-0.064097</td>\n",
       "      <td>0.034783</td>\n",
       "      <td>-0.005705</td>\n",
       "      <td>0.013534</td>\n",
       "      <td>-0.007886</td>\n",
       "      <td>-0.024241</td>\n",
       "      <td>0.040770</td>\n",
       "      <td>-0.004634</td>\n",
       "      <td>0.014024</td>\n",
       "      <td>0.012599</td>\n",
       "      <td>0.072376</td>\n",
       "      <td>0.032686</td>\n",
       "      <td>1.000000</td>\n",
       "      <td>0.030760</td>\n",
       "    </tr>\n",
       "    <tr>\n",
       "      <th>Intento de fuga</th>\n",
       "      <td>-0.019730</td>\n",
       "      <td>-0.021354</td>\n",
       "      <td>0.043478</td>\n",
       "      <td>0.015904</td>\n",
       "      <td>-0.075761</td>\n",
       "      <td>-0.049940</td>\n",
       "      <td>0.060439</td>\n",
       "      <td>-0.012388</td>\n",
       "      <td>-0.021054</td>\n",
       "      <td>-0.032322</td>\n",
       "      <td>-0.066145</td>\n",
       "      <td>0.059866</td>\n",
       "      <td>-0.010094</td>\n",
       "      <td>-0.012998</td>\n",
       "      <td>0.030760</td>\n",
       "      <td>1.000000</td>\n",
       "    </tr>\n",
       "  </tbody>\n",
       "</table>\n",
       "</div>"
      ],
      "text/plain": [
       "                                           edad  \\\n",
       "edad                                   1.000000   \n",
       "participacion_programa_laboral         0.056209   \n",
       "duracion_condena_meses                 0.255288   \n",
       "Genero_Varon                          -0.024759   \n",
       "Estado_Civil_Soltero                  -0.216886   \n",
       "Nivel Instruccion Agrupado_Primario    0.012602   \n",
       "Nivel Instruccion Agrupado_Secundario -0.044620   \n",
       "Nivel Instruccion Agrupado_Superior    0.090126   \n",
       "Situacion_Laboral_Desocupado          -0.126731   \n",
       "Sin_Capacitacion_Laboral              -0.088481   \n",
       "Participa_Programa_Educativo           0.006967   \n",
       "Participa_Alteracion_Orden            -0.140199   \n",
       "Nivel_Conducta_Malo                   -0.128096   \n",
       "Nivel_Conducta_Sin calificación        0.009477   \n",
       "Reincidente                           -0.016810   \n",
       "Intento de fuga                       -0.019730   \n",
       "\n",
       "                                       participacion_programa_laboral  \\\n",
       "edad                                                         0.056209   \n",
       "participacion_programa_laboral                               1.000000   \n",
       "duracion_condena_meses                                       0.067724   \n",
       "Genero_Varon                                                -0.042377   \n",
       "Estado_Civil_Soltero                                        -0.032291   \n",
       "Nivel Instruccion Agrupado_Primario                         -0.022262   \n",
       "Nivel Instruccion Agrupado_Secundario                        0.007791   \n",
       "Nivel Instruccion Agrupado_Superior                          0.031620   \n",
       "Situacion_Laboral_Desocupado                                -0.092994   \n",
       "Sin_Capacitacion_Laboral                                    -0.121703   \n",
       "Participa_Programa_Educativo                                 0.227057   \n",
       "Participa_Alteracion_Orden                                  -0.035790   \n",
       "Nivel_Conducta_Malo                                         -0.052918   \n",
       "Nivel_Conducta_Sin calificación                             -0.016460   \n",
       "Reincidente                                                 -0.017624   \n",
       "Intento de fuga                                             -0.021354   \n",
       "\n",
       "                                       duracion_condena_meses  Genero_Varon  \\\n",
       "edad                                                 0.255288     -0.024759   \n",
       "participacion_programa_laboral                       0.067724     -0.042377   \n",
       "duracion_condena_meses                               1.000000      0.021881   \n",
       "Genero_Varon                                         0.021881      1.000000   \n",
       "Estado_Civil_Soltero                                -0.071465     -0.026124   \n",
       "Nivel Instruccion Agrupado_Primario                 -0.013738      0.015292   \n",
       "Nivel Instruccion Agrupado_Secundario               -0.013629     -0.014942   \n",
       "Nivel Instruccion Agrupado_Superior                  0.074306     -0.016029   \n",
       "Situacion_Laboral_Desocupado                        -0.004048     -0.077066   \n",
       "Sin_Capacitacion_Laboral                            -0.010476     -0.102632   \n",
       "Participa_Programa_Educativo                         0.013722     -0.049568   \n",
       "Participa_Alteracion_Orden                          -0.003988     -0.067561   \n",
       "Nivel_Conducta_Malo                                 -0.034285     -0.046609   \n",
       "Nivel_Conducta_Sin calificación                     -0.035231      0.003551   \n",
       "Reincidente                                         -0.064097      0.034783   \n",
       "Intento de fuga                                      0.043478      0.015904   \n",
       "\n",
       "                                       Estado_Civil_Soltero  \\\n",
       "edad                                              -0.216886   \n",
       "participacion_programa_laboral                    -0.032291   \n",
       "duracion_condena_meses                            -0.071465   \n",
       "Genero_Varon                                      -0.026124   \n",
       "Estado_Civil_Soltero                               1.000000   \n",
       "Nivel Instruccion Agrupado_Primario                0.019312   \n",
       "Nivel Instruccion Agrupado_Secundario              0.000560   \n",
       "Nivel Instruccion Agrupado_Superior               -0.032649   \n",
       "Situacion_Laboral_Desocupado                       0.059181   \n",
       "Sin_Capacitacion_Laboral                           0.072318   \n",
       "Participa_Programa_Educativo                      -0.021435   \n",
       "Participa_Alteracion_Orden                         0.035137   \n",
       "Nivel_Conducta_Malo                                0.068564   \n",
       "Nivel_Conducta_Sin calificación                   -0.005922   \n",
       "Reincidente                                       -0.005705   \n",
       "Intento de fuga                                   -0.075761   \n",
       "\n",
       "                                       Nivel Instruccion Agrupado_Primario  \\\n",
       "edad                                                              0.012602   \n",
       "participacion_programa_laboral                                   -0.022262   \n",
       "duracion_condena_meses                                           -0.013738   \n",
       "Genero_Varon                                                      0.015292   \n",
       "Estado_Civil_Soltero                                              0.019312   \n",
       "Nivel Instruccion Agrupado_Primario                               1.000000   \n",
       "Nivel Instruccion Agrupado_Secundario                            -0.863090   \n",
       "Nivel Instruccion Agrupado_Superior                              -0.174883   \n",
       "Situacion_Laboral_Desocupado                                      0.038214   \n",
       "Sin_Capacitacion_Laboral                                          0.041382   \n",
       "Participa_Programa_Educativo                                      0.025573   \n",
       "Participa_Alteracion_Orden                                       -0.033210   \n",
       "Nivel_Conducta_Malo                                               0.003051   \n",
       "Nivel_Conducta_Sin calificación                                  -0.017984   \n",
       "Reincidente                                                       0.013534   \n",
       "Intento de fuga                                                  -0.049940   \n",
       "\n",
       "                                       Nivel Instruccion Agrupado_Secundario  \\\n",
       "edad                                                               -0.044620   \n",
       "participacion_programa_laboral                                      0.007791   \n",
       "duracion_condena_meses                                             -0.013629   \n",
       "Genero_Varon                                                       -0.014942   \n",
       "Estado_Civil_Soltero                                                0.000560   \n",
       "Nivel Instruccion Agrupado_Primario                                -0.863090   \n",
       "Nivel Instruccion Agrupado_Secundario                               1.000000   \n",
       "Nivel Instruccion Agrupado_Superior                                -0.111059   \n",
       "Situacion_Laboral_Desocupado                                       -0.040544   \n",
       "Sin_Capacitacion_Laboral                                           -0.032627   \n",
       "Participa_Programa_Educativo                                       -0.016228   \n",
       "Participa_Alteracion_Orden                                          0.038582   \n",
       "Nivel_Conducta_Malo                                                 0.012378   \n",
       "Nivel_Conducta_Sin calificación                                     0.015404   \n",
       "Reincidente                                                        -0.007886   \n",
       "Intento de fuga                                                     0.060439   \n",
       "\n",
       "                                       Nivel Instruccion Agrupado_Superior  \\\n",
       "edad                                                              0.090126   \n",
       "participacion_programa_laboral                                    0.031620   \n",
       "duracion_condena_meses                                            0.074306   \n",
       "Genero_Varon                                                     -0.016029   \n",
       "Estado_Civil_Soltero                                             -0.032649   \n",
       "Nivel Instruccion Agrupado_Primario                              -0.174883   \n",
       "Nivel Instruccion Agrupado_Secundario                            -0.111059   \n",
       "Nivel Instruccion Agrupado_Superior                               1.000000   \n",
       "Situacion_Laboral_Desocupado                                     -0.036130   \n",
       "Sin_Capacitacion_Laboral                                         -0.049274   \n",
       "Participa_Programa_Educativo                                      0.043450   \n",
       "Participa_Alteracion_Orden                                       -0.027834   \n",
       "Nivel_Conducta_Malo                                              -0.025749   \n",
       "Nivel_Conducta_Sin calificación                                   0.004854   \n",
       "Reincidente                                                      -0.024241   \n",
       "Intento de fuga                                                  -0.012388   \n",
       "\n",
       "                                       Situacion_Laboral_Desocupado  \\\n",
       "edad                                                      -0.126731   \n",
       "participacion_programa_laboral                            -0.092994   \n",
       "duracion_condena_meses                                    -0.004048   \n",
       "Genero_Varon                                              -0.077066   \n",
       "Estado_Civil_Soltero                                       0.059181   \n",
       "Nivel Instruccion Agrupado_Primario                        0.038214   \n",
       "Nivel Instruccion Agrupado_Secundario                     -0.040544   \n",
       "Nivel Instruccion Agrupado_Superior                       -0.036130   \n",
       "Situacion_Laboral_Desocupado                               1.000000   \n",
       "Sin_Capacitacion_Laboral                                   0.566012   \n",
       "Participa_Programa_Educativo                               0.022631   \n",
       "Participa_Alteracion_Orden                                -0.007262   \n",
       "Nivel_Conducta_Malo                                        0.021198   \n",
       "Nivel_Conducta_Sin calificación                           -0.010494   \n",
       "Reincidente                                                0.040770   \n",
       "Intento de fuga                                           -0.021054   \n",
       "\n",
       "                                       Sin_Capacitacion_Laboral  \\\n",
       "edad                                                  -0.088481   \n",
       "participacion_programa_laboral                        -0.121703   \n",
       "duracion_condena_meses                                -0.010476   \n",
       "Genero_Varon                                          -0.102632   \n",
       "Estado_Civil_Soltero                                   0.072318   \n",
       "Nivel Instruccion Agrupado_Primario                    0.041382   \n",
       "Nivel Instruccion Agrupado_Secundario                 -0.032627   \n",
       "Nivel Instruccion Agrupado_Superior                   -0.049274   \n",
       "Situacion_Laboral_Desocupado                           0.566012   \n",
       "Sin_Capacitacion_Laboral                               1.000000   \n",
       "Participa_Programa_Educativo                          -0.019837   \n",
       "Participa_Alteracion_Orden                             0.046825   \n",
       "Nivel_Conducta_Malo                                    0.061282   \n",
       "Nivel_Conducta_Sin calificación                        0.000354   \n",
       "Reincidente                                           -0.004634   \n",
       "Intento de fuga                                       -0.032322   \n",
       "\n",
       "                                       Participa_Programa_Educativo  \\\n",
       "edad                                                       0.006967   \n",
       "participacion_programa_laboral                             0.227057   \n",
       "duracion_condena_meses                                     0.013722   \n",
       "Genero_Varon                                              -0.049568   \n",
       "Estado_Civil_Soltero                                      -0.021435   \n",
       "Nivel Instruccion Agrupado_Primario                        0.025573   \n",
       "Nivel Instruccion Agrupado_Secundario                     -0.016228   \n",
       "Nivel Instruccion Agrupado_Superior                        0.043450   \n",
       "Situacion_Laboral_Desocupado                               0.022631   \n",
       "Sin_Capacitacion_Laboral                                  -0.019837   \n",
       "Participa_Programa_Educativo                               1.000000   \n",
       "Participa_Alteracion_Orden                                -0.049192   \n",
       "Nivel_Conducta_Malo                                       -0.057213   \n",
       "Nivel_Conducta_Sin calificación                           -0.031234   \n",
       "Reincidente                                                0.014024   \n",
       "Intento de fuga                                           -0.066145   \n",
       "\n",
       "                                       Participa_Alteracion_Orden  \\\n",
       "edad                                                    -0.140199   \n",
       "participacion_programa_laboral                          -0.035790   \n",
       "duracion_condena_meses                                  -0.003988   \n",
       "Genero_Varon                                            -0.067561   \n",
       "Estado_Civil_Soltero                                     0.035137   \n",
       "Nivel Instruccion Agrupado_Primario                     -0.033210   \n",
       "Nivel Instruccion Agrupado_Secundario                    0.038582   \n",
       "Nivel Instruccion Agrupado_Superior                     -0.027834   \n",
       "Situacion_Laboral_Desocupado                            -0.007262   \n",
       "Sin_Capacitacion_Laboral                                 0.046825   \n",
       "Participa_Programa_Educativo                            -0.049192   \n",
       "Participa_Alteracion_Orden                               1.000000   \n",
       "Nivel_Conducta_Malo                                      0.342248   \n",
       "Nivel_Conducta_Sin calificación                          0.002247   \n",
       "Reincidente                                              0.012599   \n",
       "Intento de fuga                                          0.059866   \n",
       "\n",
       "                                       Nivel_Conducta_Malo  \\\n",
       "edad                                             -0.128096   \n",
       "participacion_programa_laboral                   -0.052918   \n",
       "duracion_condena_meses                           -0.034285   \n",
       "Genero_Varon                                     -0.046609   \n",
       "Estado_Civil_Soltero                              0.068564   \n",
       "Nivel Instruccion Agrupado_Primario               0.003051   \n",
       "Nivel Instruccion Agrupado_Secundario             0.012378   \n",
       "Nivel Instruccion Agrupado_Superior              -0.025749   \n",
       "Situacion_Laboral_Desocupado                      0.021198   \n",
       "Sin_Capacitacion_Laboral                          0.061282   \n",
       "Participa_Programa_Educativo                     -0.057213   \n",
       "Participa_Alteracion_Orden                        0.342248   \n",
       "Nivel_Conducta_Malo                               1.000000   \n",
       "Nivel_Conducta_Sin calificación                  -0.051719   \n",
       "Reincidente                                       0.072376   \n",
       "Intento de fuga                                  -0.010094   \n",
       "\n",
       "                                       Nivel_Conducta_Sin calificación  \\\n",
       "edad                                                          0.009477   \n",
       "participacion_programa_laboral                               -0.016460   \n",
       "duracion_condena_meses                                       -0.035231   \n",
       "Genero_Varon                                                  0.003551   \n",
       "Estado_Civil_Soltero                                         -0.005922   \n",
       "Nivel Instruccion Agrupado_Primario                          -0.017984   \n",
       "Nivel Instruccion Agrupado_Secundario                         0.015404   \n",
       "Nivel Instruccion Agrupado_Superior                           0.004854   \n",
       "Situacion_Laboral_Desocupado                                 -0.010494   \n",
       "Sin_Capacitacion_Laboral                                      0.000354   \n",
       "Participa_Programa_Educativo                                 -0.031234   \n",
       "Participa_Alteracion_Orden                                    0.002247   \n",
       "Nivel_Conducta_Malo                                          -0.051719   \n",
       "Nivel_Conducta_Sin calificación                               1.000000   \n",
       "Reincidente                                                   0.032686   \n",
       "Intento de fuga                                              -0.012998   \n",
       "\n",
       "                                       Reincidente  Intento de fuga  \n",
       "edad                                     -0.016810        -0.019730  \n",
       "participacion_programa_laboral           -0.017624        -0.021354  \n",
       "duracion_condena_meses                   -0.064097         0.043478  \n",
       "Genero_Varon                              0.034783         0.015904  \n",
       "Estado_Civil_Soltero                     -0.005705        -0.075761  \n",
       "Nivel Instruccion Agrupado_Primario       0.013534        -0.049940  \n",
       "Nivel Instruccion Agrupado_Secundario    -0.007886         0.060439  \n",
       "Nivel Instruccion Agrupado_Superior      -0.024241        -0.012388  \n",
       "Situacion_Laboral_Desocupado              0.040770        -0.021054  \n",
       "Sin_Capacitacion_Laboral                 -0.004634        -0.032322  \n",
       "Participa_Programa_Educativo              0.014024        -0.066145  \n",
       "Participa_Alteracion_Orden                0.012599         0.059866  \n",
       "Nivel_Conducta_Malo                       0.072376        -0.010094  \n",
       "Nivel_Conducta_Sin calificación           0.032686        -0.012998  \n",
       "Reincidente                               1.000000         0.030760  \n",
       "Intento de fuga                           0.030760         1.000000  "
      ]
     },
     "execution_count": 47,
     "metadata": {},
     "output_type": "execute_result"
    }
   ],
   "source": [
    "data_condenados.corr()"
   ]
  },
  {
   "cell_type": "code",
   "execution_count": 48,
   "metadata": {},
   "outputs": [
    {
     "data": {
      "image/png": "[encoded data removed]",
      "text/plain": [
       "<Figure size 800x800 with 1 Axes>"
      ]
     },
     "metadata": {},
     "output_type": "display_data"
    }
   ],
   "source": [
    "plt.figure(figsize=(8,8))\n",
    "sns.scatterplot(x = data_condenados['edad'], y = data_condenados['duracion_condena_meses'], hue=data_condenados['Reincidente'], palette='rainbow')\n",
    "plt.xlabel('edad')\n",
    "plt.ylabel('Duracion condena meses');"
   ]
  },
  {
   "attachments": {},
   "cell_type": "markdown",
   "metadata": {},
   "source": [
    "Train, test, split"
   ]
  },
  {
   "cell_type": "code",
   "execution_count": 49,
   "metadata": {},
   "outputs": [],
   "source": [
    "#Train, Test y split\n",
    "X = data_condenados.drop(['provincia_descripcion',\"Reincidente\"], axis=1)\n",
    "y = data_condenados['Reincidente']\n",
    "\n",
    "X_train, X_test, y_train, y_test = train_test_split(X, y, test_size = 0.3, random_state = 1237, stratify= data_condenados[\"Reincidente\"])"
   ]
  },
  {
   "cell_type": "code",
   "execution_count": 50,
   "metadata": {},
   "outputs": [],
   "source": [
    "#Scaler\n",
    "scaler = StandardScaler()\n",
    "\n",
    "columnas_a_escalar = [\"edad\",\"duracion_condena_meses\"]\n",
    "\n",
    "data_train_scaled = scaler.fit_transform(X_train[columnas_a_escalar])\n",
    "data_test_scaled = scaler.transform(X_test[columnas_a_escalar])\n",
    "\n",
    "#Se crean dos dataframes con los datos escalados de train y test para luego concatenar con las dummies de X_train y X_test no escaladas\n",
    "\n",
    "data_train_condenados_scaled = pd.DataFrame(data_train_scaled, columns = columnas_a_escalar) \n",
    "data_test_condenados_scaled = pd.DataFrame(data_test_scaled, columns = columnas_a_escalar)\n",
    "\n",
    "#Mantenemos los indices iniciales\n",
    "data_test_condenados_scaled.index=X_test.index\n",
    "data_train_condenados_scaled.index=X_train.index\n",
    "\n",
    "#Creamos X_train e X_test escalados, con las dummies incluidad\n",
    "X_train_scaled = pd.concat([X_train.drop(columns=columnas_a_escalar), data_train_condenados_scaled],axis=1)\n",
    "X_test_scaled = pd.concat([X_test.drop(columns=columnas_a_escalar), data_test_condenados_scaled],axis=1)"
   ]
  },
  {
   "cell_type": "code",
   "execution_count": 51,
   "metadata": {},
   "outputs": [
    {
     "data": {
      "text/html": [
       "<div>\n",
       "<style scoped>\n",
       "    .dataframe tbody tr th:only-of-type {\n",
       "        vertical-align: middle;\n",
       "    }\n",
       "\n",
       "    .dataframe tbody tr th {\n",
       "        vertical-align: top;\n",
       "    }\n",
       "\n",
       "    .dataframe thead th {\n",
       "        text-align: right;\n",
       "    }\n",
       "</style>\n",
       "<table border=\"1\" class=\"dataframe\">\n",
       "  <thead>\n",
       "    <tr style=\"text-align: right;\">\n",
       "      <th></th>\n",
       "      <th>participacion_programa_laboral</th>\n",
       "      <th>Genero_Varon</th>\n",
       "      <th>Estado_Civil_Soltero</th>\n",
       "      <th>Nivel Instruccion Agrupado_Primario</th>\n",
       "      <th>Nivel Instruccion Agrupado_Secundario</th>\n",
       "      <th>Nivel Instruccion Agrupado_Superior</th>\n",
       "      <th>Situacion_Laboral_Desocupado</th>\n",
       "      <th>Sin_Capacitacion_Laboral</th>\n",
       "      <th>Participa_Programa_Educativo</th>\n",
       "      <th>Participa_Alteracion_Orden</th>\n",
       "      <th>Nivel_Conducta_Malo</th>\n",
       "      <th>Nivel_Conducta_Sin calificación</th>\n",
       "      <th>Intento de fuga</th>\n",
       "      <th>edad</th>\n",
       "      <th>duracion_condena_meses</th>\n",
       "    </tr>\n",
       "  </thead>\n",
       "  <tbody>\n",
       "    <tr>\n",
       "      <th>83297</th>\n",
       "      <td>0.0</td>\n",
       "      <td>1.0</td>\n",
       "      <td>1.0</td>\n",
       "      <td>1</td>\n",
       "      <td>0</td>\n",
       "      <td>0</td>\n",
       "      <td>1.0</td>\n",
       "      <td>1.0</td>\n",
       "      <td>1.0</td>\n",
       "      <td>0.0</td>\n",
       "      <td>0</td>\n",
       "      <td>0</td>\n",
       "      <td>0.0</td>\n",
       "      <td>-0.563531</td>\n",
       "      <td>-0.877681</td>\n",
       "    </tr>\n",
       "    <tr>\n",
       "      <th>21711</th>\n",
       "      <td>0.0</td>\n",
       "      <td>0.0</td>\n",
       "      <td>0.0</td>\n",
       "      <td>0</td>\n",
       "      <td>1</td>\n",
       "      <td>0</td>\n",
       "      <td>0.0</td>\n",
       "      <td>0.0</td>\n",
       "      <td>1.0</td>\n",
       "      <td>0.0</td>\n",
       "      <td>0</td>\n",
       "      <td>0</td>\n",
       "      <td>0.0</td>\n",
       "      <td>1.203149</td>\n",
       "      <td>2.854257</td>\n",
       "    </tr>\n",
       "  </tbody>\n",
       "</table>\n",
       "</div>"
      ],
      "text/plain": [
       "       participacion_programa_laboral  Genero_Varon  Estado_Civil_Soltero  \\\n",
       "83297                             0.0           1.0                   1.0   \n",
       "21711                             0.0           0.0                   0.0   \n",
       "\n",
       "       Nivel Instruccion Agrupado_Primario  \\\n",
       "83297                                    1   \n",
       "21711                                    0   \n",
       "\n",
       "       Nivel Instruccion Agrupado_Secundario  \\\n",
       "83297                                      0   \n",
       "21711                                      1   \n",
       "\n",
       "       Nivel Instruccion Agrupado_Superior  Situacion_Laboral_Desocupado  \\\n",
       "83297                                    0                           1.0   \n",
       "21711                                    0                           0.0   \n",
       "\n",
       "       Sin_Capacitacion_Laboral  Participa_Programa_Educativo  \\\n",
       "83297                       1.0                           1.0   \n",
       "21711                       0.0                           1.0   \n",
       "\n",
       "       Participa_Alteracion_Orden  Nivel_Conducta_Malo  \\\n",
       "83297                         0.0                    0   \n",
       "21711                         0.0                    0   \n",
       "\n",
       "       Nivel_Conducta_Sin calificación  Intento de fuga      edad  \\\n",
       "83297                                0              0.0 -0.563531   \n",
       "21711                                0              0.0  1.203149   \n",
       "\n",
       "       duracion_condena_meses  \n",
       "83297               -0.877681  \n",
       "21711                2.854257  "
      ]
     },
     "metadata": {},
     "output_type": "display_data"
    },
    {
     "data": {
      "text/plain": [
       "33174"
      ]
     },
     "metadata": {},
     "output_type": "display_data"
    }
   ],
   "source": [
    "display(X_train_scaled.head(2))\n",
    "display(X_train_scaled.shape[0])\n"
   ]
  },
  {
   "cell_type": "code",
   "execution_count": 52,
   "metadata": {},
   "outputs": [
    {
     "data": {
      "text/html": [
       "<div>\n",
       "<style scoped>\n",
       "    .dataframe tbody tr th:only-of-type {\n",
       "        vertical-align: middle;\n",
       "    }\n",
       "\n",
       "    .dataframe tbody tr th {\n",
       "        vertical-align: top;\n",
       "    }\n",
       "\n",
       "    .dataframe thead th {\n",
       "        text-align: right;\n",
       "    }\n",
       "</style>\n",
       "<table border=\"1\" class=\"dataframe\">\n",
       "  <thead>\n",
       "    <tr style=\"text-align: right;\">\n",
       "      <th></th>\n",
       "      <th>participacion_programa_laboral</th>\n",
       "      <th>Genero_Varon</th>\n",
       "      <th>Estado_Civil_Soltero</th>\n",
       "      <th>Nivel Instruccion Agrupado_Primario</th>\n",
       "      <th>Nivel Instruccion Agrupado_Secundario</th>\n",
       "      <th>Nivel Instruccion Agrupado_Superior</th>\n",
       "      <th>Situacion_Laboral_Desocupado</th>\n",
       "      <th>Sin_Capacitacion_Laboral</th>\n",
       "      <th>Participa_Programa_Educativo</th>\n",
       "      <th>Participa_Alteracion_Orden</th>\n",
       "      <th>Nivel_Conducta_Malo</th>\n",
       "      <th>Nivel_Conducta_Sin calificación</th>\n",
       "      <th>Intento de fuga</th>\n",
       "      <th>edad</th>\n",
       "      <th>duracion_condena_meses</th>\n",
       "    </tr>\n",
       "  </thead>\n",
       "  <tbody>\n",
       "    <tr>\n",
       "      <th>9882</th>\n",
       "      <td>0.0</td>\n",
       "      <td>1.0</td>\n",
       "      <td>0.0</td>\n",
       "      <td>0</td>\n",
       "      <td>0</td>\n",
       "      <td>0</td>\n",
       "      <td>1.0</td>\n",
       "      <td>1.0</td>\n",
       "      <td>0.0</td>\n",
       "      <td>0.0</td>\n",
       "      <td>0</td>\n",
       "      <td>0</td>\n",
       "      <td>0.0</td>\n",
       "      <td>1.821487</td>\n",
       "      <td>-0.69997</td>\n",
       "    </tr>\n",
       "    <tr>\n",
       "      <th>11563</th>\n",
       "      <td>0.0</td>\n",
       "      <td>1.0</td>\n",
       "      <td>1.0</td>\n",
       "      <td>1</td>\n",
       "      <td>0</td>\n",
       "      <td>0</td>\n",
       "      <td>0.0</td>\n",
       "      <td>0.0</td>\n",
       "      <td>1.0</td>\n",
       "      <td>0.0</td>\n",
       "      <td>0</td>\n",
       "      <td>0</td>\n",
       "      <td>0.0</td>\n",
       "      <td>-0.210195</td>\n",
       "      <td>-0.07798</td>\n",
       "    </tr>\n",
       "  </tbody>\n",
       "</table>\n",
       "</div>"
      ],
      "text/plain": [
       "       participacion_programa_laboral  Genero_Varon  Estado_Civil_Soltero  \\\n",
       "9882                              0.0           1.0                   0.0   \n",
       "11563                             0.0           1.0                   1.0   \n",
       "\n",
       "       Nivel Instruccion Agrupado_Primario  \\\n",
       "9882                                     0   \n",
       "11563                                    1   \n",
       "\n",
       "       Nivel Instruccion Agrupado_Secundario  \\\n",
       "9882                                       0   \n",
       "11563                                      0   \n",
       "\n",
       "       Nivel Instruccion Agrupado_Superior  Situacion_Laboral_Desocupado  \\\n",
       "9882                                     0                           1.0   \n",
       "11563                                    0                           0.0   \n",
       "\n",
       "       Sin_Capacitacion_Laboral  Participa_Programa_Educativo  \\\n",
       "9882                        1.0                           0.0   \n",
       "11563                       0.0                           1.0   \n",
       "\n",
       "       Participa_Alteracion_Orden  Nivel_Conducta_Malo  \\\n",
       "9882                          0.0                    0   \n",
       "11563                         0.0                    0   \n",
       "\n",
       "       Nivel_Conducta_Sin calificación  Intento de fuga      edad  \\\n",
       "9882                                 0              0.0  1.821487   \n",
       "11563                                0              0.0 -0.210195   \n",
       "\n",
       "       duracion_condena_meses  \n",
       "9882                 -0.69997  \n",
       "11563                -0.07798  "
      ]
     },
     "metadata": {},
     "output_type": "display_data"
    },
    {
     "data": {
      "text/plain": [
       "14218"
      ]
     },
     "metadata": {},
     "output_type": "display_data"
    }
   ],
   "source": [
    "display(X_test_scaled.head(2))\n",
    "display(X_test_scaled.shape[0])"
   ]
  },
  {
   "attachments": {},
   "cell_type": "markdown",
   "metadata": {},
   "source": [
    "La hipótesis nula a comparar con los dintintos modelos es de 0.716"
   ]
  },
  {
   "cell_type": "code",
   "execution_count": 53,
   "metadata": {},
   "outputs": [
    {
     "data": {
      "text/plain": [
       "0.0    71.621793\n",
       "1.0    28.378207\n",
       "Name: Reincidente, dtype: float64"
      ]
     },
     "execution_count": 53,
     "metadata": {},
     "output_type": "execute_result"
    }
   ],
   "source": [
    "# La hipotesis nula seria 0,716\n",
    "\n",
    "data_condenados.Reincidente.value_counts() / data_condenados.__len__() * 100"
   ]
  },
  {
   "attachments": {},
   "cell_type": "markdown",
   "metadata": {},
   "source": [
    "# Modelos\n",
    "\n",
    "## Naive Bayes "
   ]
  },
  {
   "cell_type": "code",
   "execution_count": 54,
   "metadata": {},
   "outputs": [
    {
     "data": {
      "text/plain": [
       "GaussianNB()"
      ]
     },
     "execution_count": 54,
     "metadata": {},
     "output_type": "execute_result"
    }
   ],
   "source": [
    "gnb = GaussianNB()\n",
    "\n",
    "gnb.fit(X_train_scaled, y_train)"
   ]
  },
  {
   "cell_type": "code",
   "execution_count": 55,
   "metadata": {},
   "outputs": [
    {
     "data": {
      "text/plain": [
       "BernoulliNB()"
      ]
     },
     "execution_count": 55,
     "metadata": {},
     "output_type": "execute_result"
    }
   ],
   "source": [
    "bernoulli = BernoulliNB()\n",
    "\n",
    "bernoulli.fit(X_train_scaled, y_train)"
   ]
  },
  {
   "cell_type": "code",
   "execution_count": 56,
   "metadata": {},
   "outputs": [
    {
     "data": {
      "text/plain": [
       "(array([0., 0., 1., ..., 0., 0., 0.]), array([0., 0., 0., ..., 0., 0., 0.]))"
      ]
     },
     "execution_count": 56,
     "metadata": {},
     "output_type": "execute_result"
    }
   ],
   "source": [
    "y_pred_gnb = gnb.predict(X_test_scaled)\n",
    "y_pred_bnb = bernoulli.predict(X_test_scaled)\n",
    "\n",
    "y_pred_gnb, y_pred_bnb"
   ]
  },
  {
   "cell_type": "code",
   "execution_count": 57,
   "metadata": {},
   "outputs": [
    {
     "data": {
      "text/plain": [
       "0.6981291320860881"
      ]
     },
     "execution_count": 57,
     "metadata": {},
     "output_type": "execute_result"
    }
   ],
   "source": [
    "# accuracy Gaussian\n",
    "accuracy_score(y_test, y_pred_gnb)"
   ]
  },
  {
   "cell_type": "code",
   "execution_count": 58,
   "metadata": {},
   "outputs": [
    {
     "data": {
      "text/plain": [
       "0.7167674778449852"
      ]
     },
     "execution_count": 58,
     "metadata": {},
     "output_type": "execute_result"
    }
   ],
   "source": [
    "# acurracy Bernoulli\n",
    "accuracy_score(y_test, y_pred_bnb)"
   ]
  },
  {
   "cell_type": "code",
   "execution_count": 59,
   "metadata": {},
   "outputs": [
    {
     "name": "stdout",
     "output_type": "stream",
     "text": [
      "Confusion matrix GaussianNB\n",
      "\n",
      " [[9298  885]\n",
      " [3407  628]]\n",
      "\n",
      "True Positives(TP) =  628\n",
      "\n",
      "True Negatives(TN) =  9298\n",
      "\n",
      "False Positives(FP) =  885\n",
      "\n",
      "False Negatives(FN) =  3407\n"
     ]
    }
   ],
   "source": [
    "conf_mat_gnb = confusion_matrix(y_test, y_pred_gnb)\n",
    "\n",
    "print('Confusion matrix GaussianNB\\n\\n', conf_mat_gnb)\n",
    "\n",
    "print('\\nTrue Positives(TP) = ', conf_mat_gnb[1,1])\n",
    "\n",
    "print('\\nTrue Negatives(TN) = ', conf_mat_gnb[0,0])\n",
    "\n",
    "print('\\nFalse Positives(FP) = ', conf_mat_gnb[0,1])\n",
    "\n",
    "print('\\nFalse Negatives(FN) = ', conf_mat_gnb[1,0])"
   ]
  },
  {
   "cell_type": "code",
   "execution_count": 60,
   "metadata": {},
   "outputs": [
    {
     "data": {
      "image/png": "[encoded data removed]",
      "text/plain": [
       "<Figure size 640x480 with 2 Axes>"
      ]
     },
     "metadata": {},
     "output_type": "display_data"
    }
   ],
   "source": [
    "conf_mat_df = pd.DataFrame(data=conf_mat_gnb, \n",
    "                           index=['Actual Negative: 0', 'Actual Positive: 1'], \n",
    "                           columns=['Predict Negative: 0', 'Predict Positive: 1'])\n",
    "\n",
    "sns.heatmap(conf_mat_df, annot=True, fmt='d', cmap='YlGnBu');"
   ]
  },
  {
   "cell_type": "code",
   "execution_count": 61,
   "metadata": {},
   "outputs": [
    {
     "name": "stdout",
     "output_type": "stream",
     "text": [
      "Confusion matrix BernoulliNB\n",
      "\n",
      " [[10174     9]\n",
      " [ 4018    17]]\n",
      "\n",
      "True Positives(TP) =  17\n",
      "\n",
      "True Negatives(TN) =  10174\n",
      "\n",
      "False Positives(FP) =  9\n",
      "\n",
      "False Negatives(FN) =  4018\n"
     ]
    }
   ],
   "source": [
    "conf_mat_bnb = confusion_matrix(y_test, y_pred_bnb)\n",
    "\n",
    "print('Confusion matrix BernoulliNB\\n\\n', conf_mat_bnb)\n",
    "\n",
    "print('\\nTrue Positives(TP) = ', conf_mat_bnb[1,1])\n",
    "\n",
    "print('\\nTrue Negatives(TN) = ', conf_mat_bnb[0,0])\n",
    "\n",
    "print('\\nFalse Positives(FP) = ', conf_mat_bnb[0,1])\n",
    "\n",
    "print('\\nFalse Negatives(FN) = ', conf_mat_bnb[1,0])"
   ]
  },
  {
   "cell_type": "code",
   "execution_count": 62,
   "metadata": {},
   "outputs": [
    {
     "data": {
      "image/png": "[encoded data removed]",
      "text/plain": [
       "<Figure size 640x480 with 2 Axes>"
      ]
     },
     "metadata": {},
     "output_type": "display_data"
    }
   ],
   "source": [
    "conf_mat_df = pd.DataFrame(data=conf_mat_bnb, \n",
    "                           index=['Actual Negative: 0', 'Actual Positive: 1'], \n",
    "                           columns=['Predict Negative: 0', 'Predict Positive: 1'])\n",
    "\n",
    "sns.heatmap(conf_mat_df, annot=True, fmt='d', cmap='YlGnBu');"
   ]
  },
  {
   "cell_type": "code",
   "execution_count": 63,
   "metadata": {},
   "outputs": [
    {
     "data": {
      "text/html": [
       "<div>\n",
       "<style scoped>\n",
       "    .dataframe tbody tr th:only-of-type {\n",
       "        vertical-align: middle;\n",
       "    }\n",
       "\n",
       "    .dataframe tbody tr th {\n",
       "        vertical-align: top;\n",
       "    }\n",
       "\n",
       "    .dataframe thead th {\n",
       "        text-align: right;\n",
       "    }\n",
       "</style>\n",
       "<table border=\"1\" class=\"dataframe\">\n",
       "  <thead>\n",
       "    <tr style=\"text-align: right;\">\n",
       "      <th></th>\n",
       "      <th>Modelo</th>\n",
       "      <th>Accuracy</th>\n",
       "      <th>Recall</th>\n",
       "      <th>Precision</th>\n",
       "      <th>F1-Score</th>\n",
       "    </tr>\n",
       "  </thead>\n",
       "  <tbody>\n",
       "    <tr>\n",
       "      <th>0</th>\n",
       "      <td>Naive Bayes Gaussiano</td>\n",
       "      <td>0.698129</td>\n",
       "      <td>0.155638</td>\n",
       "      <td>0.415069</td>\n",
       "      <td>0.415069</td>\n",
       "    </tr>\n",
       "    <tr>\n",
       "      <th>1</th>\n",
       "      <td>Naive Bayes Bernoulli</td>\n",
       "      <td>0.716767</td>\n",
       "      <td>0.004213</td>\n",
       "      <td>0.653846</td>\n",
       "      <td>0.653846</td>\n",
       "    </tr>\n",
       "  </tbody>\n",
       "</table>\n",
       "</div>"
      ],
      "text/plain": [
       "                  Modelo  Accuracy    Recall  Precision  F1-Score\n",
       "0  Naive Bayes Gaussiano  0.698129  0.155638   0.415069  0.415069\n",
       "1  Naive Bayes Bernoulli  0.716767  0.004213   0.653846  0.653846"
      ]
     },
     "execution_count": 63,
     "metadata": {},
     "output_type": "execute_result"
    }
   ],
   "source": [
    "d=[('Naive Bayes Gaussiano', accuracy_score(y_test, y_pred_gnb), recall_score(y_test, y_pred_gnb), precision_score(y_test, y_pred_gnb), precision_score(y_test, y_pred_gnb)),('Naive Bayes Bernoulli', accuracy_score(y_test, y_pred_bnb), recall_score(y_test, y_pred_bnb), precision_score(y_test, y_pred_bnb), precision_score(y_test, y_pred_bnb))]\n",
    "df_resultados = pd.DataFrame(data=d, columns = ['Modelo' , 'Accuracy', 'Recall', 'Precision', 'F1-Score'])\n",
    "df_resultados"
   ]
  },
  {
   "attachments": {},
   "cell_type": "markdown",
   "metadata": {},
   "source": [
    "## KNN"
   ]
  },
  {
   "cell_type": "code",
   "execution_count": 64,
   "metadata": {},
   "outputs": [],
   "source": [
    "def scores_knn(X, y, start,stop, folds, metrica):\n",
    "    \n",
    "    # Usamos cross validation con 10 folds\n",
    "    kf = KFold(n_splits=folds, shuffle=True, random_state=12)\n",
    "\n",
    "    scores_para_df = []\n",
    "\n",
    "    for i in range(start, stop):\n",
    "    \n",
    "        # En cada iteración, instanciamos el modelo con un hiperparámetro distinto\n",
    "        model = KNeighborsClassifier(metric=metrica,n_neighbors=i)\n",
    "    \n",
    "        # cross_val_scores nos devuelve un array de 5 resultados,\n",
    "        # uno por cada partición que hizo automáticamente CV\n",
    "        cv_scores = cross_val_score(model, X, y, cv=kf)\n",
    "    \n",
    "        # Para cada valor de n_neighbours, creamos un diccionario con el valor\n",
    "        # de n_neighbours y la media de los scores\n",
    "        dict_row_score = {'score_medio':np.mean(cv_scores), 'n_neighbors':i}\n",
    "    \n",
    "        # Guardamos cada uno en la lista de diccionarios\n",
    "        scores_para_df.append(dict_row_score)\n",
    "\n",
    "    # Creamos el DataFrame a partir de la lista de diccionarios\n",
    "    df_scores = pd.DataFrame(scores_para_df)\n",
    "    \n",
    "    # Retornamos el DF\n",
    "    return df_scores    "
   ]
  },
  {
   "cell_type": "code",
   "execution_count": 65,
   "metadata": {},
   "outputs": [
    {
     "data": {
      "text/html": [
       "<div>\n",
       "<style scoped>\n",
       "    .dataframe tbody tr th:only-of-type {\n",
       "        vertical-align: middle;\n",
       "    }\n",
       "\n",
       "    .dataframe tbody tr th {\n",
       "        vertical-align: top;\n",
       "    }\n",
       "\n",
       "    .dataframe thead th {\n",
       "        text-align: right;\n",
       "    }\n",
       "</style>\n",
       "<table border=\"1\" class=\"dataframe\">\n",
       "  <thead>\n",
       "    <tr style=\"text-align: right;\">\n",
       "      <th></th>\n",
       "      <th>score_medio</th>\n",
       "      <th>n_neighbors</th>\n",
       "    </tr>\n",
       "  </thead>\n",
       "  <tbody>\n",
       "    <tr>\n",
       "      <th>0</th>\n",
       "      <td>0.722011</td>\n",
       "      <td>40</td>\n",
       "    </tr>\n",
       "    <tr>\n",
       "      <th>1</th>\n",
       "      <td>0.722433</td>\n",
       "      <td>41</td>\n",
       "    </tr>\n",
       "    <tr>\n",
       "      <th>2</th>\n",
       "      <td>0.721921</td>\n",
       "      <td>42</td>\n",
       "    </tr>\n",
       "  </tbody>\n",
       "</table>\n",
       "</div>"
      ],
      "text/plain": [
       "   score_medio  n_neighbors\n",
       "0     0.722011           40\n",
       "1     0.722433           41\n",
       "2     0.721921           42"
      ]
     },
     "execution_count": 65,
     "metadata": {},
     "output_type": "execute_result"
    }
   ],
   "source": [
    "df_scores = scores_knn(X_train_scaled, y_train, 1, 101, 5, 'euclidean')\n",
    "df_scores.head(3)"
   ]
  },
  {
   "cell_type": "code",
   "execution_count": 66,
   "metadata": {},
   "outputs": [
    {
     "data": {
      "text/html": [
       "<div>\n",
       "<style scoped>\n",
       "    .dataframe tbody tr th:only-of-type {\n",
       "        vertical-align: middle;\n",
       "    }\n",
       "\n",
       "    .dataframe tbody tr th {\n",
       "        vertical-align: top;\n",
       "    }\n",
       "\n",
       "    .dataframe thead th {\n",
       "        text-align: right;\n",
       "    }\n",
       "</style>\n",
       "<table border=\"1\" class=\"dataframe\">\n",
       "  <thead>\n",
       "    <tr style=\"text-align: right;\">\n",
       "      <th></th>\n",
       "      <th>score_medio</th>\n",
       "      <th>n_neighbors</th>\n",
       "    </tr>\n",
       "  </thead>\n",
       "  <tbody>\n",
       "    <tr>\n",
       "      <th>9</th>\n",
       "      <td>0.723187</td>\n",
       "      <td>49</td>\n",
       "    </tr>\n",
       "  </tbody>\n",
       "</table>\n",
       "</div>"
      ],
      "text/plain": [
       "   score_medio  n_neighbors\n",
       "9     0.723187           49"
      ]
     },
     "execution_count": 66,
     "metadata": {},
     "output_type": "execute_result"
    }
   ],
   "source": [
    "df_scores.loc[df_scores.score_medio == df_scores.score_medio.max()]"
   ]
  },
  {
   "cell_type": "code",
   "execution_count": 67,
   "metadata": {},
   "outputs": [
    {
     "data": {
      "image/png": "[encoded data removed]",
      "text/plain": [
       "<Figure size 640x480 with 1 Axes>"
      ]
     },
     "metadata": {},
     "output_type": "display_data"
    }
   ],
   "source": [
    "plt.plot(df_scores['n_neighbors'], df_scores['score_medio'], color='b')\n",
    "plt.xlabel('Valor de K'); plt.ylabel('Accuracy')\n",
    "plt.grid(); plt.show()"
   ]
  },
  {
   "cell_type": "code",
   "execution_count": 68,
   "metadata": {},
   "outputs": [
    {
     "data": {
      "text/plain": [
       "array([[9953,  230],\n",
       "       [3718,  317]], dtype=int64)"
      ]
     },
     "metadata": {},
     "output_type": "display_data"
    },
    {
     "data": {
      "image/png": "[encoded data removed]",
      "text/plain": [
       "<Figure size 640x480 with 2 Axes>"
      ]
     },
     "metadata": {},
     "output_type": "display_data"
    }
   ],
   "source": [
    "knn = KNeighborsClassifier(metric='euclidean',n_neighbors=58)\n",
    "knn.fit(X_train_scaled, y_train)\n",
    "y_pred_knn = knn.predict(X_test_scaled)\n",
    "display(confusion_matrix(y_test, y_pred_knn))\n",
    "sns.heatmap(confusion_matrix(y_test, y_pred_knn), annot=True, fmt='d')\n",
    "plt.ylabel('Verdaderos')\n",
    "plt.xlabel('Predichos');"
   ]
  },
  {
   "cell_type": "code",
   "execution_count": 69,
   "metadata": {},
   "outputs": [
    {
     "data": {
      "text/html": [
       "<div>\n",
       "<style scoped>\n",
       "    .dataframe tbody tr th:only-of-type {\n",
       "        vertical-align: middle;\n",
       "    }\n",
       "\n",
       "    .dataframe tbody tr th {\n",
       "        vertical-align: top;\n",
       "    }\n",
       "\n",
       "    .dataframe thead th {\n",
       "        text-align: right;\n",
       "    }\n",
       "</style>\n",
       "<table border=\"1\" class=\"dataframe\">\n",
       "  <thead>\n",
       "    <tr style=\"text-align: right;\">\n",
       "      <th></th>\n",
       "      <th>Modelo</th>\n",
       "      <th>Accuracy</th>\n",
       "      <th>Recall</th>\n",
       "      <th>Precision</th>\n",
       "      <th>F1-Score</th>\n",
       "    </tr>\n",
       "  </thead>\n",
       "  <tbody>\n",
       "    <tr>\n",
       "      <th>0</th>\n",
       "      <td>Naive Bayes Gaussiano</td>\n",
       "      <td>0.698129</td>\n",
       "      <td>0.155638</td>\n",
       "      <td>0.415069</td>\n",
       "      <td>0.415069</td>\n",
       "    </tr>\n",
       "    <tr>\n",
       "      <th>1</th>\n",
       "      <td>Naive Bayes Bernoulli</td>\n",
       "      <td>0.716767</td>\n",
       "      <td>0.004213</td>\n",
       "      <td>0.653846</td>\n",
       "      <td>0.653846</td>\n",
       "    </tr>\n",
       "    <tr>\n",
       "      <th>2</th>\n",
       "      <td>KNN (k=58)</td>\n",
       "      <td>0.722324</td>\n",
       "      <td>0.078563</td>\n",
       "      <td>0.579525</td>\n",
       "      <td>0.579525</td>\n",
       "    </tr>\n",
       "  </tbody>\n",
       "</table>\n",
       "</div>"
      ],
      "text/plain": [
       "                  Modelo  Accuracy    Recall  Precision  F1-Score\n",
       "0  Naive Bayes Gaussiano  0.698129  0.155638   0.415069  0.415069\n",
       "1  Naive Bayes Bernoulli  0.716767  0.004213   0.653846  0.653846\n",
       "2             KNN (k=58)  0.722324  0.078563   0.579525  0.579525"
      ]
     },
     "execution_count": 69,
     "metadata": {},
     "output_type": "execute_result"
    }
   ],
   "source": [
    "df_resultados = df_resultados.append({'Modelo' : 'KNN (k=58)' , 'Accuracy' : accuracy_score(y_test, y_pred_knn) , 'Recall' : recall_score(y_test, y_pred_knn), 'Precision': precision_score(y_test, y_pred_knn), 'F1-Score': precision_score(y_test, y_pred_knn)} , ignore_index=True)\n",
    "df_resultados\n"
   ]
  },
  {
   "attachments": {},
   "cell_type": "markdown",
   "metadata": {},
   "source": [
    "REGRESION LOGISTICA"
   ]
  },
  {
   "cell_type": "code",
   "execution_count": 70,
   "metadata": {},
   "outputs": [],
   "source": [
    "logistic_regression = LogisticRegression()"
   ]
  },
  {
   "cell_type": "code",
   "execution_count": 71,
   "metadata": {},
   "outputs": [
    {
     "name": "stdout",
     "output_type": "stream",
     "text": [
      "[[-0.03948434  0.48845335 -0.02530291 -0.07753303 -0.14779903 -0.3886983\n",
      "   0.30836325 -0.18885413  0.12383093 -0.04581977  0.64557461  0.34080426\n",
      "   0.85755309  0.02978115 -0.15955667]]\n",
      "[-1.43155836]\n"
     ]
    }
   ],
   "source": [
    "logistic_regression.fit(X_train_scaled, y_train)\n",
    "# Y visualizamos los coeficientes\n",
    "print(logistic_regression.coef_)\n",
    "print(logistic_regression.intercept_)"
   ]
  },
  {
   "cell_type": "code",
   "execution_count": 72,
   "metadata": {},
   "outputs": [],
   "source": [
    "y_train_pred_lr = logistic_regression.predict(X_train_scaled)\n",
    "y_test_pred_lr = logistic_regression.predict(X_test_scaled)"
   ]
  },
  {
   "cell_type": "code",
   "execution_count": 73,
   "metadata": {},
   "outputs": [
    {
     "data": {
      "text/plain": [
       "0.7160641440427626"
      ]
     },
     "execution_count": 73,
     "metadata": {},
     "output_type": "execute_result"
    }
   ],
   "source": [
    "accuracy_score(y_test, y_test_pred_lr)"
   ]
  },
  {
   "cell_type": "code",
   "execution_count": 74,
   "metadata": {},
   "outputs": [
    {
     "data": {
      "text/plain": [
       "0.7166154217158015"
      ]
     },
     "execution_count": 74,
     "metadata": {},
     "output_type": "execute_result"
    }
   ],
   "source": [
    "accuracy_score(y_train, y_train_pred_lr)"
   ]
  },
  {
   "cell_type": "code",
   "execution_count": 75,
   "metadata": {},
   "outputs": [
    {
     "data": {
      "image/png": "[encoded data removed]",
      "text/plain": [
       "<Figure size 640x480 with 2 Axes>"
      ]
     },
     "metadata": {},
     "output_type": "display_data"
    }
   ],
   "source": [
    "confusion_matrix(y_test, y_test_pred_lr)\n",
    "sns.heatmap(confusion_matrix(y_test, y_test_pred_lr), annot=True, fmt='d')\n",
    "plt.ylabel('Verdaderos')\n",
    "plt.xlabel('Predichos');"
   ]
  },
  {
   "cell_type": "code",
   "execution_count": 76,
   "metadata": {},
   "outputs": [
    {
     "data": {
      "text/html": [
       "<div>\n",
       "<style scoped>\n",
       "    .dataframe tbody tr th:only-of-type {\n",
       "        vertical-align: middle;\n",
       "    }\n",
       "\n",
       "    .dataframe tbody tr th {\n",
       "        vertical-align: top;\n",
       "    }\n",
       "\n",
       "    .dataframe thead th {\n",
       "        text-align: right;\n",
       "    }\n",
       "</style>\n",
       "<table border=\"1\" class=\"dataframe\">\n",
       "  <thead>\n",
       "    <tr style=\"text-align: right;\">\n",
       "      <th></th>\n",
       "      <th>Modelo</th>\n",
       "      <th>Accuracy</th>\n",
       "      <th>Recall</th>\n",
       "      <th>Precision</th>\n",
       "      <th>F1-Score</th>\n",
       "    </tr>\n",
       "  </thead>\n",
       "  <tbody>\n",
       "    <tr>\n",
       "      <th>0</th>\n",
       "      <td>Naive Bayes Gaussiano</td>\n",
       "      <td>0.698129</td>\n",
       "      <td>0.155638</td>\n",
       "      <td>0.415069</td>\n",
       "      <td>0.415069</td>\n",
       "    </tr>\n",
       "    <tr>\n",
       "      <th>1</th>\n",
       "      <td>Naive Bayes Bernoulli</td>\n",
       "      <td>0.716767</td>\n",
       "      <td>0.004213</td>\n",
       "      <td>0.653846</td>\n",
       "      <td>0.653846</td>\n",
       "    </tr>\n",
       "    <tr>\n",
       "      <th>2</th>\n",
       "      <td>KNN (k=58)</td>\n",
       "      <td>0.722324</td>\n",
       "      <td>0.078563</td>\n",
       "      <td>0.579525</td>\n",
       "      <td>0.579525</td>\n",
       "    </tr>\n",
       "    <tr>\n",
       "      <th>3</th>\n",
       "      <td>Regresión logística</td>\n",
       "      <td>0.716064</td>\n",
       "      <td>0.003222</td>\n",
       "      <td>0.464286</td>\n",
       "      <td>0.464286</td>\n",
       "    </tr>\n",
       "  </tbody>\n",
       "</table>\n",
       "</div>"
      ],
      "text/plain": [
       "                  Modelo  Accuracy    Recall  Precision  F1-Score\n",
       "0  Naive Bayes Gaussiano  0.698129  0.155638   0.415069  0.415069\n",
       "1  Naive Bayes Bernoulli  0.716767  0.004213   0.653846  0.653846\n",
       "2             KNN (k=58)  0.722324  0.078563   0.579525  0.579525\n",
       "3    Regresión logística  0.716064  0.003222   0.464286  0.464286"
      ]
     },
     "execution_count": 76,
     "metadata": {},
     "output_type": "execute_result"
    }
   ],
   "source": [
    "df_resultados = df_resultados.append({'Modelo' : 'Regresión logística' , 'Accuracy' : accuracy_score(y_test, y_test_pred_lr) , 'Recall' : recall_score(y_test, y_test_pred_lr), 'Precision': precision_score(y_test, y_test_pred_lr), 'F1-Score': precision_score(y_test, y_test_pred_lr)} , ignore_index=True)\n",
    "df_resultados"
   ]
  },
  {
   "attachments": {},
   "cell_type": "markdown",
   "metadata": {},
   "source": [
    "#### Modificando umbrales"
   ]
  },
  {
   "cell_type": "code",
   "execution_count": 77,
   "metadata": {},
   "outputs": [
    {
     "data": {
      "text/plain": [
       "array([[0.68965517, 0.31034483],\n",
       "       [0.77586207, 0.22413793],\n",
       "       [0.68965517, 0.31034483],\n",
       "       ...,\n",
       "       [0.72413793, 0.27586207],\n",
       "       [0.79310345, 0.20689655],\n",
       "       [0.79310345, 0.20689655]])"
      ]
     },
     "execution_count": 77,
     "metadata": {},
     "output_type": "execute_result"
    }
   ],
   "source": [
    "y_pred_proba = knn.predict_proba(X_test_scaled)\n",
    "y_pred_proba"
   ]
  },
  {
   "cell_type": "code",
   "execution_count": 78,
   "metadata": {},
   "outputs": [
    {
     "name": "stdout",
     "output_type": "stream",
     "text": [
      "Matrix Original\n"
     ]
    },
    {
     "data": {
      "text/plain": [
       "array([[9953,  230],\n",
       "       [3718,  317]], dtype=int64)"
      ]
     },
     "metadata": {},
     "output_type": "display_data"
    },
    {
     "name": "stdout",
     "output_type": "stream",
     "text": [
      "\n",
      "Matrix unbral 40%\n"
     ]
    },
    {
     "data": {
      "text/plain": [
       "array([[9331,  852],\n",
       "       [3152,  883]], dtype=int64)"
      ]
     },
     "metadata": {},
     "output_type": "display_data"
    },
    {
     "name": "stdout",
     "output_type": "stream",
     "text": [
      "\n",
      "Matrix unbral 50%\n"
     ]
    },
    {
     "data": {
      "text/plain": [
       "array([[9953,  230],\n",
       "       [3718,  317]], dtype=int64)"
      ]
     },
     "metadata": {},
     "output_type": "display_data"
    },
    {
     "name": "stdout",
     "output_type": "stream",
     "text": [
      "\n",
      "Matrix unbral 60%\n"
     ]
    },
    {
     "data": {
      "text/plain": [
       "array([[10135,    48],\n",
       "       [ 3938,    97]], dtype=int64)"
      ]
     },
     "metadata": {},
     "output_type": "display_data"
    },
    {
     "name": "stdout",
     "output_type": "stream",
     "text": [
      "\n",
      "Matrix unbral 70%\n"
     ]
    },
    {
     "data": {
      "text/plain": [
       "array([[10181,     2],\n",
       "       [ 4007,    28]], dtype=int64)"
      ]
     },
     "metadata": {},
     "output_type": "display_data"
    },
    {
     "data": {
      "text/html": [
       "<div>\n",
       "<style scoped>\n",
       "    .dataframe tbody tr th:only-of-type {\n",
       "        vertical-align: middle;\n",
       "    }\n",
       "\n",
       "    .dataframe tbody tr th {\n",
       "        vertical-align: top;\n",
       "    }\n",
       "\n",
       "    .dataframe thead th {\n",
       "        text-align: right;\n",
       "    }\n",
       "</style>\n",
       "<table border=\"1\" class=\"dataframe\">\n",
       "  <thead>\n",
       "    <tr style=\"text-align: right;\">\n",
       "      <th></th>\n",
       "      <th>Modelo</th>\n",
       "      <th>Accuracy</th>\n",
       "      <th>Recall</th>\n",
       "      <th>Precision</th>\n",
       "      <th>F1-Score</th>\n",
       "    </tr>\n",
       "  </thead>\n",
       "  <tbody>\n",
       "    <tr>\n",
       "      <th>0</th>\n",
       "      <td>Naive Bayes Gaussiano</td>\n",
       "      <td>0.698129</td>\n",
       "      <td>0.155638</td>\n",
       "      <td>0.415069</td>\n",
       "      <td>0.415069</td>\n",
       "    </tr>\n",
       "    <tr>\n",
       "      <th>1</th>\n",
       "      <td>Naive Bayes Bernoulli</td>\n",
       "      <td>0.716767</td>\n",
       "      <td>0.004213</td>\n",
       "      <td>0.653846</td>\n",
       "      <td>0.653846</td>\n",
       "    </tr>\n",
       "    <tr>\n",
       "      <th>2</th>\n",
       "      <td>KNN (k=58)</td>\n",
       "      <td>0.722324</td>\n",
       "      <td>0.078563</td>\n",
       "      <td>0.579525</td>\n",
       "      <td>0.579525</td>\n",
       "    </tr>\n",
       "    <tr>\n",
       "      <th>3</th>\n",
       "      <td>Regresión logística</td>\n",
       "      <td>0.716064</td>\n",
       "      <td>0.003222</td>\n",
       "      <td>0.464286</td>\n",
       "      <td>0.464286</td>\n",
       "    </tr>\n",
       "    <tr>\n",
       "      <th>4</th>\n",
       "      <td>KNN (p=4)</td>\n",
       "      <td>0.718385</td>\n",
       "      <td>0.218835</td>\n",
       "      <td>0.508934</td>\n",
       "      <td>0.508934</td>\n",
       "    </tr>\n",
       "    <tr>\n",
       "      <th>5</th>\n",
       "      <td>KNN (p=5)</td>\n",
       "      <td>0.722324</td>\n",
       "      <td>0.078563</td>\n",
       "      <td>0.579525</td>\n",
       "      <td>0.579525</td>\n",
       "    </tr>\n",
       "    <tr>\n",
       "      <th>6</th>\n",
       "      <td>KNN (p=6)</td>\n",
       "      <td>0.719651</td>\n",
       "      <td>0.024040</td>\n",
       "      <td>0.668966</td>\n",
       "      <td>0.668966</td>\n",
       "    </tr>\n",
       "    <tr>\n",
       "      <th>7</th>\n",
       "      <td>KNN (p=7)</td>\n",
       "      <td>0.718033</td>\n",
       "      <td>0.006939</td>\n",
       "      <td>0.933333</td>\n",
       "      <td>0.933333</td>\n",
       "    </tr>\n",
       "  </tbody>\n",
       "</table>\n",
       "</div>"
      ],
      "text/plain": [
       "                  Modelo  Accuracy    Recall  Precision  F1-Score\n",
       "0  Naive Bayes Gaussiano  0.698129  0.155638   0.415069  0.415069\n",
       "1  Naive Bayes Bernoulli  0.716767  0.004213   0.653846  0.653846\n",
       "2             KNN (k=58)  0.722324  0.078563   0.579525  0.579525\n",
       "3    Regresión logística  0.716064  0.003222   0.464286  0.464286\n",
       "4              KNN (p=4)  0.718385  0.218835   0.508934  0.508934\n",
       "5              KNN (p=5)  0.722324  0.078563   0.579525  0.579525\n",
       "6              KNN (p=6)  0.719651  0.024040   0.668966  0.668966\n",
       "7              KNN (p=7)  0.718033  0.006939   0.933333  0.933333"
      ]
     },
     "execution_count": 78,
     "metadata": {},
     "output_type": "execute_result"
    }
   ],
   "source": [
    "print('Matrix Original')\n",
    "display(confusion_matrix(y_test,y_pred_knn))\n",
    "\n",
    "for i in range (4,8):\n",
    "    j=i/10\n",
    "    y_pred_i = binarize(y_pred_proba, threshold=j)[:,1]\n",
    "    y_pred_i= (y_pred_proba[:,1] > j).astype(int)\n",
    "\n",
    "    print('')\n",
    "    print(f'Matrix unbral {i*10}%')\n",
    "    display(confusion_matrix(y_test,y_pred_i))\n",
    "    \n",
    "    df_resultados = df_resultados.append({'Modelo' : 'KNN (p='+str(i)+')', 'Accuracy' : accuracy_score(y_test, y_pred_i) , 'Recall' : recall_score(y_test, y_pred_i), 'Precision': precision_score(y_test, y_pred_i), 'F1-Score': precision_score(y_test, y_pred_i)} , ignore_index=True)\n",
    "\n",
    "df_resultados"
   ]
  },
  {
   "attachments": {},
   "cell_type": "markdown",
   "metadata": {},
   "source": [
    "#### Curvas ROC"
   ]
  },
  {
   "cell_type": "code",
   "execution_count": 79,
   "metadata": {},
   "outputs": [
    {
     "data": {
      "image/png": "[encoded data removed]",
      "text/plain": [
       "<Figure size 640x480 with 1 Axes>"
      ]
     },
     "metadata": {},
     "output_type": "display_data"
    }
   ],
   "source": [
    "fpr_log1,tpr_log1,thr_log1 = roc_curve(y_test, y_pred_proba[:,1])\n",
    "df1 = pd.DataFrame(dict(fpr=fpr_log1, tpr=tpr_log1, thr = thr_log1))\n",
    "\n",
    "y_pred_07 = binarize(y_pred_proba, threshold=0.7)[:,1]\n",
    "y_pred_07= (y_pred_proba[:,1] > 0.7).astype(int)\n",
    "fpr_log2,tpr_log2,thr_log2 = roc_curve(y_test, y_pred_07)\n",
    "df2 = pd.DataFrame(dict(fpr=fpr_log2, tpr=tpr_log2, thr = thr_log2))\n",
    "\n",
    "plt.axis([0, 1.01, 0, 1.01])\n",
    "plt.xlabel('1 - Specificty'); plt.ylabel('TPR / Sensitivity'); plt.title('ROC Curve')\n",
    "plt.plot(df1['fpr'],df1['tpr'])\n",
    "plt.plot(df2['fpr'],df2['tpr'],mec='b')\n",
    "plt.plot(np.arange(0,1, step =0.01), np.arange(0,1, step =0.01))\n",
    "plt.show()"
   ]
  },
  {
   "cell_type": "code",
   "execution_count": 80,
   "metadata": {},
   "outputs": [
    {
     "name": "stdout",
     "output_type": "stream",
     "text": [
      "AUC1= 0.6441484160799135\n",
      "AUC2= 0.503371437757197\n"
     ]
    }
   ],
   "source": [
    "print('AUC1=', auc(fpr_log1, tpr_log1))\n",
    "print('AUC2=', auc(fpr_log2, tpr_log2))"
   ]
  },
  {
   "cell_type": "code",
   "execution_count": 81,
   "metadata": {},
   "outputs": [
    {
     "data": {
      "image/png": "[encoded data removed]",
      "text/plain": [
       "<Figure size 640x480 with 1 Axes>"
      ]
     },
     "metadata": {},
     "output_type": "display_data"
    }
   ],
   "source": [
    "y_pred_knn_proba = knn.predict_proba(X_test)\n",
    "y_pred_bayes_gnb_proba = gnb.predict_proba(X_test)\n",
    "y_pred_bayes_bnb_proba = bernoulli.predict_proba(X_test)\n",
    "y_pred_lr_proba = logistic_regression.predict_proba(X_test)\n",
    "\n",
    "fpr_log_knn,tpr_log_knn,thr_log_knn = roc_curve(y_test, y_pred_knn_proba[:,1])\n",
    "fpr_log_bayes_gnb,tpr_log_bayes_gnb,thr_log_bayes_gnb = roc_curve(y_test, y_pred_bayes_gnb_proba[:,1])\n",
    "fpr_log_bayes_bnb,tpr_log_bayes_bnb,thr_log_bayes_bnb = roc_curve(y_test, y_pred_bayes_bnb_proba[:,1])\n",
    "fpr_log_lr,tpr_log_lr,thr_log_lr = roc_curve(y_test, y_pred_lr_proba[:,1])\n",
    "\n",
    "df_knn = pd.DataFrame(dict(fpr=fpr_log_knn, tpr=tpr_log_knn, thr = thr_log_knn))\n",
    "plt.plot(df_knn['fpr'],df_knn['tpr'], label='KNN')\n",
    "\n",
    "df_bayes_gnb = pd.DataFrame(dict(fpr=fpr_log_bayes_gnb, tpr=tpr_log_bayes_gnb, thr = thr_log_bayes_gnb))\n",
    "plt.plot(df_bayes_gnb['fpr'],df_bayes_gnb['tpr'], label='Bayes - Gausseano')\n",
    "\n",
    "df_bayes_bnb = pd.DataFrame(dict(fpr=fpr_log_bayes_bnb, tpr=tpr_log_bayes_bnb, thr = thr_log_bayes_bnb))\n",
    "plt.plot(df_bayes_gnb['fpr'],df_bayes_gnb['tpr'], label='Bayes - Bernoulli')\n",
    "\n",
    "df_bayes_lr = pd.DataFrame(dict(fpr=fpr_log_lr, tpr=tpr_log_lr, thr = thr_log_lr))\n",
    "plt.plot(df_bayes_gnb['fpr'],df_bayes_gnb['tpr'], label='Regresión Logística')\n",
    "\n",
    "plt.axis([0, 1.01, 0, 1.01]); plt.legend()\n",
    "plt.xlabel('1 - Specificty'); plt.ylabel('TPR / Sensitivity'); plt.title('ROC Curve')\n",
    "plt.plot(np.arange(0,1, step =0.01), np.arange(0,1, step =0.01))\n",
    "plt.show()"
   ]
  },
  {
   "cell_type": "code",
   "execution_count": 82,
   "metadata": {},
   "outputs": [
    {
     "name": "stdout",
     "output_type": "stream",
     "text": [
      "AUC KNN= 0.5036885345147858\n",
      "AUC Bayes - Gausseano= 0.491532221803207\n",
      "AUC Bayes - Bernoulli= 0.5162787652623654\n",
      "AUC Regresión Logística= 0.5559551654536115\n"
     ]
    }
   ],
   "source": [
    "print('AUC KNN=', auc(fpr_log_knn, tpr_log_knn))\n",
    "print('AUC Bayes - Gausseano=', auc(fpr_log_bayes_gnb, tpr_log_bayes_gnb))\n",
    "print('AUC Bayes - Bernoulli=', auc(fpr_log_bayes_bnb, tpr_log_bayes_bnb))\n",
    "print('AUC Regresión Logística=', auc(fpr_log_lr, tpr_log_lr))"
   ]
  },
  {
   "attachments": {},
   "cell_type": "markdown",
   "metadata": {},
   "source": [
    "#### Grid y Random Search"
   ]
  },
  {
   "cell_type": "code",
   "execution_count": 83,
   "metadata": {},
   "outputs": [],
   "source": [
    "k_range = list(range(1, 70))\n",
    "param_grid = dict(n_neighbors=k_range)\n",
    "folds=StratifiedKFold(n_splits=5, random_state=19, shuffle=True)\n",
    "grid = GridSearchCV(knn, param_grid, cv=folds, scoring='accuracy')\n",
    "grid.fit(X_train_scaled, y_train)\n"
   ]
  },
  {
   "cell_type": "code",
   "execution_count": null,
   "metadata": {},
   "outputs": [],
   "source": [
    "pd.DataFrame(grid.cv_results_).head(3)"
   ]
  },
  {
   "cell_type": "code",
   "execution_count": null,
   "metadata": {},
   "outputs": [],
   "source": [
    "print(f'Mejor k: {grid.best_estimator_}')\n",
    "print(f'Mejor accuracy score: {grid.best_score_}')\n",
    "print(f'Mejor cantidad de parámetros: {grid.best_params_}')"
   ]
  },
  {
   "cell_type": "code",
   "execution_count": null,
   "metadata": {},
   "outputs": [],
   "source": [
    "y_pred_grid = grid.predict(X_test_scaled)\n",
    "confusion = confusion_matrix(y_test, y_pred_grid)\n",
    "print(confusion)"
   ]
  },
  {
   "cell_type": "code",
   "execution_count": null,
   "metadata": {},
   "outputs": [],
   "source": [
    "print (classification_report(y_test, y_pred_grid))"
   ]
  }
 ],
 "metadata": {
  "kernelspec": {
   "display_name": "dhdsblend2021",
   "language": "python",
   "name": "python3"
  },
  "language_info": {
   "codemirror_mode": {
    "name": "ipython",
    "version": 3
   },
   "file_extension": ".py",
   "mimetype": "text/x-python",
   "name": "python",
   "nbconvert_exporter": "python",
   "pygments_lexer": "ipython3",
   "version": "3.8.13"
  },
  "orig_nbformat": 4,
  "vscode": {
   "interpreter": {
    "hash": "cc4924e35c20fc5ba48bd177e25b96639877a6a2b398b88c93f5d612109f411d"
   }
  }
 },
 "nbformat": 4,
 "nbformat_minor": 2
}
