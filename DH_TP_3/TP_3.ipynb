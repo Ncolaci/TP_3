{
 "cells": [
  {
   "attachments": {},
   "cell_type": "markdown",
   "metadata": {},
   "source": [
    "Comienzo TP 3\n",
    "\n",
    "-Predicción de género musical a partir de un dataset de música."
   ]
  },
  {
   "attachments": {},
   "cell_type": "markdown",
   "metadata": {},
   "source": [
    "Impostamos las librerias utilizadas"
   ]
  },
  {
   "cell_type": "code",
   "execution_count": 1,
   "metadata": {},
   "outputs": [],
   "source": [
    "import numpy as np\n",
    "import pandas as pd\n",
    "import seaborn as sns\n",
    "from matplotlib.colors import ListedColormap\n",
    "import matplotlib.pyplot as plt\n",
    "from sklearn.model_selection import train_test_split\n",
    "from sklearn.neighbors import KNeighborsClassifier\n",
    "from sklearn.linear_model import LogisticRegression\n",
    "from sklearn.preprocessing import StandardScaler\n",
    "from sklearn.metrics import confusion_matrix\n",
    "from sklearn.metrics import accuracy_score\n",
    "from sklearn.metrics import recall_score\n",
    "from sklearn.metrics import precision_score\n",
    "from sklearn.metrics import f1_score\n",
    "from sklearn.metrics import roc_curve \n",
    "from sklearn.metrics import RocCurveDisplay\n",
    "from sklearn.naive_bayes import GaussianNB\n",
    "from sklearn.model_selection import StratifiedKFold\n",
    "from sklearn.model_selection import GridSearchCV\n",
    "from sklearn.preprocessing import OneHotEncoder \n",
    "from sklearn.preprocessing import RobustScaler"
   ]
  },
  {
   "cell_type": "markdown",
   "metadata": {},
   "source": []
  },
  {
   "cell_type": "code",
   "execution_count": 2,
   "metadata": {},
   "outputs": [
    {
     "data": {
      "text/html": [
       "<div>\n",
       "<style scoped>\n",
       "    .dataframe tbody tr th:only-of-type {\n",
       "        vertical-align: middle;\n",
       "    }\n",
       "\n",
       "    .dataframe tbody tr th {\n",
       "        vertical-align: top;\n",
       "    }\n",
       "\n",
       "    .dataframe thead th {\n",
       "        text-align: right;\n",
       "    }\n",
       "</style>\n",
       "<table border=\"1\" class=\"dataframe\">\n",
       "  <thead>\n",
       "    <tr style=\"text-align: right;\">\n",
       "      <th></th>\n",
       "      <th>instance_id</th>\n",
       "      <th>artist_name</th>\n",
       "      <th>track_name</th>\n",
       "      <th>popularity</th>\n",
       "      <th>acousticness</th>\n",
       "      <th>danceability</th>\n",
       "      <th>duration_ms</th>\n",
       "      <th>energy</th>\n",
       "      <th>instrumentalness</th>\n",
       "      <th>key</th>\n",
       "      <th>liveness</th>\n",
       "      <th>loudness</th>\n",
       "      <th>mode</th>\n",
       "      <th>speechiness</th>\n",
       "      <th>tempo</th>\n",
       "      <th>obtained_date</th>\n",
       "      <th>valence</th>\n",
       "      <th>music_genre</th>\n",
       "    </tr>\n",
       "  </thead>\n",
       "  <tbody>\n",
       "    <tr>\n",
       "      <th>0</th>\n",
       "      <td>32894.0</td>\n",
       "      <td>Röyksopp</td>\n",
       "      <td>Röyksopp's Night Out</td>\n",
       "      <td>27.0</td>\n",
       "      <td>0.00468</td>\n",
       "      <td>0.652</td>\n",
       "      <td>-1.0</td>\n",
       "      <td>0.941</td>\n",
       "      <td>0.792000</td>\n",
       "      <td>A#</td>\n",
       "      <td>0.1150</td>\n",
       "      <td>-5.201</td>\n",
       "      <td>Minor</td>\n",
       "      <td>0.0748</td>\n",
       "      <td>100.889</td>\n",
       "      <td>4-Apr</td>\n",
       "      <td>0.759</td>\n",
       "      <td>Electronic</td>\n",
       "    </tr>\n",
       "    <tr>\n",
       "      <th>1</th>\n",
       "      <td>46652.0</td>\n",
       "      <td>Thievery Corporation</td>\n",
       "      <td>The Shining Path</td>\n",
       "      <td>31.0</td>\n",
       "      <td>0.01270</td>\n",
       "      <td>0.622</td>\n",
       "      <td>218293.0</td>\n",
       "      <td>0.890</td>\n",
       "      <td>0.950000</td>\n",
       "      <td>D</td>\n",
       "      <td>0.1240</td>\n",
       "      <td>-7.043</td>\n",
       "      <td>Minor</td>\n",
       "      <td>0.0300</td>\n",
       "      <td>115.00200000000001</td>\n",
       "      <td>4-Apr</td>\n",
       "      <td>0.531</td>\n",
       "      <td>Electronic</td>\n",
       "    </tr>\n",
       "    <tr>\n",
       "      <th>2</th>\n",
       "      <td>30097.0</td>\n",
       "      <td>Dillon Francis</td>\n",
       "      <td>Hurricane</td>\n",
       "      <td>28.0</td>\n",
       "      <td>0.00306</td>\n",
       "      <td>0.620</td>\n",
       "      <td>215613.0</td>\n",
       "      <td>0.755</td>\n",
       "      <td>0.011800</td>\n",
       "      <td>G#</td>\n",
       "      <td>0.5340</td>\n",
       "      <td>-4.617</td>\n",
       "      <td>Major</td>\n",
       "      <td>0.0345</td>\n",
       "      <td>127.994</td>\n",
       "      <td>4-Apr</td>\n",
       "      <td>0.333</td>\n",
       "      <td>Electronic</td>\n",
       "    </tr>\n",
       "    <tr>\n",
       "      <th>3</th>\n",
       "      <td>62177.0</td>\n",
       "      <td>Dubloadz</td>\n",
       "      <td>Nitro</td>\n",
       "      <td>34.0</td>\n",
       "      <td>0.02540</td>\n",
       "      <td>0.774</td>\n",
       "      <td>166875.0</td>\n",
       "      <td>0.700</td>\n",
       "      <td>0.002530</td>\n",
       "      <td>C#</td>\n",
       "      <td>0.1570</td>\n",
       "      <td>-4.498</td>\n",
       "      <td>Major</td>\n",
       "      <td>0.2390</td>\n",
       "      <td>128.014</td>\n",
       "      <td>4-Apr</td>\n",
       "      <td>0.270</td>\n",
       "      <td>Electronic</td>\n",
       "    </tr>\n",
       "    <tr>\n",
       "      <th>4</th>\n",
       "      <td>24907.0</td>\n",
       "      <td>What So Not</td>\n",
       "      <td>Divide &amp; Conquer</td>\n",
       "      <td>32.0</td>\n",
       "      <td>0.00465</td>\n",
       "      <td>0.638</td>\n",
       "      <td>222369.0</td>\n",
       "      <td>0.587</td>\n",
       "      <td>0.909000</td>\n",
       "      <td>F#</td>\n",
       "      <td>0.1570</td>\n",
       "      <td>-6.266</td>\n",
       "      <td>Major</td>\n",
       "      <td>0.0413</td>\n",
       "      <td>145.036</td>\n",
       "      <td>4-Apr</td>\n",
       "      <td>0.323</td>\n",
       "      <td>Electronic</td>\n",
       "    </tr>\n",
       "    <tr>\n",
       "      <th>5</th>\n",
       "      <td>89064.0</td>\n",
       "      <td>Axel Boman</td>\n",
       "      <td>Hello</td>\n",
       "      <td>47.0</td>\n",
       "      <td>0.00523</td>\n",
       "      <td>0.755</td>\n",
       "      <td>519468.0</td>\n",
       "      <td>0.731</td>\n",
       "      <td>0.854000</td>\n",
       "      <td>D</td>\n",
       "      <td>0.2160</td>\n",
       "      <td>-10.517</td>\n",
       "      <td>Minor</td>\n",
       "      <td>0.0412</td>\n",
       "      <td>?</td>\n",
       "      <td>4-Apr</td>\n",
       "      <td>0.614</td>\n",
       "      <td>Electronic</td>\n",
       "    </tr>\n",
       "    <tr>\n",
       "      <th>6</th>\n",
       "      <td>43760.0</td>\n",
       "      <td>Jordan Comolli</td>\n",
       "      <td>Clash</td>\n",
       "      <td>46.0</td>\n",
       "      <td>0.02890</td>\n",
       "      <td>0.572</td>\n",
       "      <td>214408.0</td>\n",
       "      <td>0.803</td>\n",
       "      <td>0.000008</td>\n",
       "      <td>B</td>\n",
       "      <td>0.1060</td>\n",
       "      <td>-4.294</td>\n",
       "      <td>Major</td>\n",
       "      <td>0.3510</td>\n",
       "      <td>149.995</td>\n",
       "      <td>4-Apr</td>\n",
       "      <td>0.230</td>\n",
       "      <td>Electronic</td>\n",
       "    </tr>\n",
       "    <tr>\n",
       "      <th>7</th>\n",
       "      <td>30738.0</td>\n",
       "      <td>Hraach</td>\n",
       "      <td>Delirio</td>\n",
       "      <td>43.0</td>\n",
       "      <td>0.02970</td>\n",
       "      <td>0.809</td>\n",
       "      <td>416132.0</td>\n",
       "      <td>0.706</td>\n",
       "      <td>0.903000</td>\n",
       "      <td>G</td>\n",
       "      <td>0.0635</td>\n",
       "      <td>-9.339</td>\n",
       "      <td>Minor</td>\n",
       "      <td>0.0484</td>\n",
       "      <td>120.008</td>\n",
       "      <td>4-Apr</td>\n",
       "      <td>0.761</td>\n",
       "      <td>Electronic</td>\n",
       "    </tr>\n",
       "    <tr>\n",
       "      <th>8</th>\n",
       "      <td>84950.0</td>\n",
       "      <td>Kayzo</td>\n",
       "      <td>NEVER ALONE</td>\n",
       "      <td>39.0</td>\n",
       "      <td>0.00299</td>\n",
       "      <td>0.509</td>\n",
       "      <td>292800.0</td>\n",
       "      <td>0.921</td>\n",
       "      <td>0.000276</td>\n",
       "      <td>F</td>\n",
       "      <td>0.1780</td>\n",
       "      <td>-3.175</td>\n",
       "      <td>Minor</td>\n",
       "      <td>0.2680</td>\n",
       "      <td>149.94799999999998</td>\n",
       "      <td>4-Apr</td>\n",
       "      <td>0.273</td>\n",
       "      <td>Electronic</td>\n",
       "    </tr>\n",
       "    <tr>\n",
       "      <th>9</th>\n",
       "      <td>56950.0</td>\n",
       "      <td>Shlump</td>\n",
       "      <td>Lazer Beam</td>\n",
       "      <td>22.0</td>\n",
       "      <td>0.00934</td>\n",
       "      <td>0.578</td>\n",
       "      <td>204800.0</td>\n",
       "      <td>0.731</td>\n",
       "      <td>0.011200</td>\n",
       "      <td>A</td>\n",
       "      <td>0.1110</td>\n",
       "      <td>-7.091</td>\n",
       "      <td>Minor</td>\n",
       "      <td>0.1730</td>\n",
       "      <td>139.933</td>\n",
       "      <td>4-Apr</td>\n",
       "      <td>0.203</td>\n",
       "      <td>Electronic</td>\n",
       "    </tr>\n",
       "  </tbody>\n",
       "</table>\n",
       "</div>"
      ],
      "text/plain": [
       "   instance_id           artist_name            track_name  popularity  \\\n",
       "0      32894.0              Röyksopp  Röyksopp's Night Out        27.0   \n",
       "1      46652.0  Thievery Corporation      The Shining Path        31.0   \n",
       "2      30097.0        Dillon Francis             Hurricane        28.0   \n",
       "3      62177.0              Dubloadz                 Nitro        34.0   \n",
       "4      24907.0           What So Not      Divide & Conquer        32.0   \n",
       "5      89064.0            Axel Boman                 Hello        47.0   \n",
       "6      43760.0        Jordan Comolli                 Clash        46.0   \n",
       "7      30738.0                Hraach               Delirio        43.0   \n",
       "8      84950.0                 Kayzo           NEVER ALONE        39.0   \n",
       "9      56950.0                Shlump            Lazer Beam        22.0   \n",
       "\n",
       "   acousticness  danceability  duration_ms  energy  instrumentalness key  \\\n",
       "0       0.00468         0.652         -1.0   0.941          0.792000  A#   \n",
       "1       0.01270         0.622     218293.0   0.890          0.950000   D   \n",
       "2       0.00306         0.620     215613.0   0.755          0.011800  G#   \n",
       "3       0.02540         0.774     166875.0   0.700          0.002530  C#   \n",
       "4       0.00465         0.638     222369.0   0.587          0.909000  F#   \n",
       "5       0.00523         0.755     519468.0   0.731          0.854000   D   \n",
       "6       0.02890         0.572     214408.0   0.803          0.000008   B   \n",
       "7       0.02970         0.809     416132.0   0.706          0.903000   G   \n",
       "8       0.00299         0.509     292800.0   0.921          0.000276   F   \n",
       "9       0.00934         0.578     204800.0   0.731          0.011200   A   \n",
       "\n",
       "   liveness  loudness   mode  speechiness               tempo obtained_date  \\\n",
       "0    0.1150    -5.201  Minor       0.0748             100.889         4-Apr   \n",
       "1    0.1240    -7.043  Minor       0.0300  115.00200000000001         4-Apr   \n",
       "2    0.5340    -4.617  Major       0.0345             127.994         4-Apr   \n",
       "3    0.1570    -4.498  Major       0.2390             128.014         4-Apr   \n",
       "4    0.1570    -6.266  Major       0.0413             145.036         4-Apr   \n",
       "5    0.2160   -10.517  Minor       0.0412                   ?         4-Apr   \n",
       "6    0.1060    -4.294  Major       0.3510             149.995         4-Apr   \n",
       "7    0.0635    -9.339  Minor       0.0484             120.008         4-Apr   \n",
       "8    0.1780    -3.175  Minor       0.2680  149.94799999999998         4-Apr   \n",
       "9    0.1110    -7.091  Minor       0.1730             139.933         4-Apr   \n",
       "\n",
       "   valence music_genre  \n",
       "0    0.759  Electronic  \n",
       "1    0.531  Electronic  \n",
       "2    0.333  Electronic  \n",
       "3    0.270  Electronic  \n",
       "4    0.323  Electronic  \n",
       "5    0.614  Electronic  \n",
       "6    0.230  Electronic  \n",
       "7    0.761  Electronic  \n",
       "8    0.273  Electronic  \n",
       "9    0.203  Electronic  "
      ]
     },
     "execution_count": 2,
     "metadata": {},
     "output_type": "execute_result"
    }
   ],
   "source": [
    "data = pd.read_csv('.\\music_genre.csv',sep=',')\n",
    "\n",
    "data.head(10)\n"
   ]
  },
  {
   "cell_type": "code",
   "execution_count": 3,
   "metadata": {},
   "outputs": [
    {
     "name": "stdout",
     "output_type": "stream",
     "text": [
      "<class 'pandas.core.frame.DataFrame'>\n",
      "RangeIndex: 50005 entries, 0 to 50004\n",
      "Data columns (total 18 columns):\n",
      " #   Column            Non-Null Count  Dtype  \n",
      "---  ------            --------------  -----  \n",
      " 0   instance_id       50000 non-null  float64\n",
      " 1   artist_name       50000 non-null  object \n",
      " 2   track_name        50000 non-null  object \n",
      " 3   popularity        50000 non-null  float64\n",
      " 4   acousticness      50000 non-null  float64\n",
      " 5   danceability      50000 non-null  float64\n",
      " 6   duration_ms       50000 non-null  float64\n",
      " 7   energy            50000 non-null  float64\n",
      " 8   instrumentalness  50000 non-null  float64\n",
      " 9   key               50000 non-null  object \n",
      " 10  liveness          50000 non-null  float64\n",
      " 11  loudness          50000 non-null  float64\n",
      " 12  mode              50000 non-null  object \n",
      " 13  speechiness       50000 non-null  float64\n",
      " 14  tempo             50000 non-null  object \n",
      " 15  obtained_date     50000 non-null  object \n",
      " 16  valence           50000 non-null  float64\n",
      " 17  music_genre       50000 non-null  object \n",
      "dtypes: float64(11), object(7)\n",
      "memory usage: 6.9+ MB\n"
     ]
    }
   ],
   "source": [
    "data.info()"
   ]
  },
  {
   "cell_type": "code",
   "execution_count": 4,
   "metadata": {},
   "outputs": [],
   "source": [
    "data.replace(to_replace='?',value=np.NaN,inplace=True)"
   ]
  },
  {
   "cell_type": "code",
   "execution_count": 5,
   "metadata": {},
   "outputs": [
    {
     "data": {
      "text/plain": [
       "instance_id            5\n",
       "artist_name            5\n",
       "track_name             5\n",
       "popularity             5\n",
       "acousticness           5\n",
       "danceability           5\n",
       "duration_ms            5\n",
       "energy                 5\n",
       "instrumentalness       5\n",
       "key                    5\n",
       "liveness               5\n",
       "loudness               5\n",
       "mode                   5\n",
       "speechiness            5\n",
       "tempo               4985\n",
       "obtained_date          5\n",
       "valence                5\n",
       "music_genre            5\n",
       "dtype: int64"
      ]
     },
     "execution_count": 5,
     "metadata": {},
     "output_type": "execute_result"
    }
   ],
   "source": [
    "data.isnull().sum()"
   ]
  },
  {
   "cell_type": "code",
   "execution_count": 6,
   "metadata": {},
   "outputs": [],
   "source": [
    "data.dropna(inplace=True)"
   ]
  },
  {
   "cell_type": "code",
   "execution_count": 7,
   "metadata": {},
   "outputs": [],
   "source": [
    "data['tempo']=data.tempo.astype(float)"
   ]
  },
  {
   "cell_type": "code",
   "execution_count": 8,
   "metadata": {},
   "outputs": [
    {
     "data": {
      "text/plain": [
       "array(['Electronic', 'Anime', 'Jazz', 'Alternative', 'Country', 'Rap',\n",
       "       'Blues', 'Rock', 'Classical', 'Hip-Hop'], dtype=object)"
      ]
     },
     "execution_count": 8,
     "metadata": {},
     "output_type": "execute_result"
    }
   ],
   "source": [
    "data.music_genre.unique()"
   ]
  },
  {
   "cell_type": "code",
   "execution_count": 9,
   "metadata": {},
   "outputs": [
    {
     "data": {
      "text/plain": [
       "array(['4-Apr', '3-Apr', '5-Apr', '1-Apr'], dtype=object)"
      ]
     },
     "execution_count": 9,
     "metadata": {},
     "output_type": "execute_result"
    }
   ],
   "source": [
    "data.obtained_date.unique()"
   ]
  },
  {
   "attachments": {},
   "cell_type": "markdown",
   "metadata": {},
   "source": [
    "La fecha no ofrece ningun dato"
   ]
  },
  {
   "cell_type": "code",
   "execution_count": 10,
   "metadata": {},
   "outputs": [],
   "source": [
    "data.drop(columns=['obtained_date'],inplace=True)"
   ]
  },
  {
   "cell_type": "code",
   "execution_count": 11,
   "metadata": {},
   "outputs": [],
   "source": [
    "data.drop(columns=['instance_id','artist_name','track_name'],inplace=True)"
   ]
  },
  {
   "cell_type": "code",
   "execution_count": 12,
   "metadata": {},
   "outputs": [],
   "source": [
    "categorical_columns=[col for col in data.columns if data[col].dtype == 'object']\n",
    "numerical_columns=[col for col in data.columns if data[col].dtype  != 'object']"
   ]
  },
  {
   "cell_type": "code",
   "execution_count": 13,
   "metadata": {},
   "outputs": [
    {
     "data": {
      "text/plain": [
       "['key', 'mode', 'music_genre']"
      ]
     },
     "execution_count": 13,
     "metadata": {},
     "output_type": "execute_result"
    }
   ],
   "source": [
    "categorical_columns"
   ]
  },
  {
   "cell_type": "code",
   "execution_count": 14,
   "metadata": {},
   "outputs": [
    {
     "data": {
      "text/plain": [
       "['popularity',\n",
       " 'acousticness',\n",
       " 'danceability',\n",
       " 'duration_ms',\n",
       " 'energy',\n",
       " 'instrumentalness',\n",
       " 'liveness',\n",
       " 'loudness',\n",
       " 'speechiness',\n",
       " 'tempo',\n",
       " 'valence']"
      ]
     },
     "execution_count": 14,
     "metadata": {},
     "output_type": "execute_result"
    }
   ],
   "source": [
    "numerical_columns"
   ]
  },
  {
   "attachments": {},
   "cell_type": "markdown",
   "metadata": {},
   "source": [
    "Preparamos nuestro X e y"
   ]
  },
  {
   "cell_type": "code",
   "execution_count": 15,
   "metadata": {},
   "outputs": [],
   "source": [
    "X = data.drop(['music_genre'], axis=1)\n",
    "y = data['music_genre']"
   ]
  },
  {
   "attachments": {},
   "cell_type": "markdown",
   "metadata": {},
   "source": [
    "Train, test, split"
   ]
  },
  {
   "cell_type": "code",
   "execution_count": 16,
   "metadata": {},
   "outputs": [],
   "source": [
    "X_train, X_test, Y_train, Y_test = train_test_split(X, y, random_state = 1237)"
   ]
  },
  {
   "attachments": {},
   "cell_type": "markdown",
   "metadata": {},
   "source": [
    "Feature engineering"
   ]
  },
  {
   "cell_type": "code",
   "execution_count": 17,
   "metadata": {},
   "outputs": [],
   "source": [
    "X_categorical_columns=[col for col in categorical_columns if col != 'music_genre']"
   ]
  },
  {
   "cell_type": "code",
   "execution_count": 18,
   "metadata": {},
   "outputs": [
    {
     "data": {
      "text/plain": [
       "[array(['A#', 'D', 'G#', 'C#', 'F#', 'B', 'G', 'F', 'A', 'C', 'E', 'D#'],\n",
       "       dtype=object),\n",
       " array(['Minor', 'Major'], dtype=object)]"
      ]
     },
     "execution_count": 18,
     "metadata": {},
     "output_type": "execute_result"
    }
   ],
   "source": [
    "encoder_categories = []\n",
    "\n",
    "for col in X_categorical_columns:    \n",
    "    col_categories = data[col].unique()\n",
    "    encoder_categories.append(col_categories)\n",
    "\n",
    "encoder_categories"
   ]
  },
  {
   "cell_type": "code",
   "execution_count": 19,
   "metadata": {},
   "outputs": [
    {
     "name": "stderr",
     "output_type": "stream",
     "text": [
      "c:\\Users\\nicol\\anaconda3\\envs\\dh_sandbox\\lib\\site-packages\\sklearn\\utils\\deprecation.py:87: FutureWarning: Function get_feature_names is deprecated; get_feature_names is deprecated in 1.0 and will be removed in 1.2. Please use get_feature_names_out instead.\n",
      "  warnings.warn(msg, category=FutureWarning)\n",
      "c:\\Users\\nicol\\anaconda3\\envs\\dh_sandbox\\lib\\site-packages\\sklearn\\utils\\deprecation.py:87: FutureWarning: Function get_feature_names is deprecated; get_feature_names is deprecated in 1.0 and will be removed in 1.2. Please use get_feature_names_out instead.\n",
      "  warnings.warn(msg, category=FutureWarning)\n"
     ]
    },
    {
     "data": {
      "text/html": [
       "<div>\n",
       "<style scoped>\n",
       "    .dataframe tbody tr th:only-of-type {\n",
       "        vertical-align: middle;\n",
       "    }\n",
       "\n",
       "    .dataframe tbody tr th {\n",
       "        vertical-align: top;\n",
       "    }\n",
       "\n",
       "    .dataframe thead th {\n",
       "        text-align: right;\n",
       "    }\n",
       "</style>\n",
       "<table border=\"1\" class=\"dataframe\">\n",
       "  <thead>\n",
       "    <tr style=\"text-align: right;\">\n",
       "      <th></th>\n",
       "      <th>key_A#</th>\n",
       "      <th>key_D</th>\n",
       "      <th>key_G#</th>\n",
       "      <th>key_C#</th>\n",
       "      <th>key_F#</th>\n",
       "      <th>key_B</th>\n",
       "      <th>key_G</th>\n",
       "      <th>key_F</th>\n",
       "      <th>key_A</th>\n",
       "      <th>key_C</th>\n",
       "      <th>key_E</th>\n",
       "      <th>key_D#</th>\n",
       "      <th>mode_Minor</th>\n",
       "      <th>mode_Major</th>\n",
       "    </tr>\n",
       "  </thead>\n",
       "  <tbody>\n",
       "    <tr>\n",
       "      <th>0</th>\n",
       "      <td>0.0</td>\n",
       "      <td>0.0</td>\n",
       "      <td>0.0</td>\n",
       "      <td>0.0</td>\n",
       "      <td>0.0</td>\n",
       "      <td>0.0</td>\n",
       "      <td>0.0</td>\n",
       "      <td>0.0</td>\n",
       "      <td>0.0</td>\n",
       "      <td>0.0</td>\n",
       "      <td>0.0</td>\n",
       "      <td>1.0</td>\n",
       "      <td>0.0</td>\n",
       "      <td>1.0</td>\n",
       "    </tr>\n",
       "    <tr>\n",
       "      <th>1</th>\n",
       "      <td>0.0</td>\n",
       "      <td>0.0</td>\n",
       "      <td>0.0</td>\n",
       "      <td>0.0</td>\n",
       "      <td>0.0</td>\n",
       "      <td>0.0</td>\n",
       "      <td>0.0</td>\n",
       "      <td>1.0</td>\n",
       "      <td>0.0</td>\n",
       "      <td>0.0</td>\n",
       "      <td>0.0</td>\n",
       "      <td>0.0</td>\n",
       "      <td>1.0</td>\n",
       "      <td>0.0</td>\n",
       "    </tr>\n",
       "    <tr>\n",
       "      <th>2</th>\n",
       "      <td>0.0</td>\n",
       "      <td>0.0</td>\n",
       "      <td>0.0</td>\n",
       "      <td>0.0</td>\n",
       "      <td>0.0</td>\n",
       "      <td>1.0</td>\n",
       "      <td>0.0</td>\n",
       "      <td>0.0</td>\n",
       "      <td>0.0</td>\n",
       "      <td>0.0</td>\n",
       "      <td>0.0</td>\n",
       "      <td>0.0</td>\n",
       "      <td>1.0</td>\n",
       "      <td>0.0</td>\n",
       "    </tr>\n",
       "    <tr>\n",
       "      <th>3</th>\n",
       "      <td>0.0</td>\n",
       "      <td>0.0</td>\n",
       "      <td>0.0</td>\n",
       "      <td>1.0</td>\n",
       "      <td>0.0</td>\n",
       "      <td>0.0</td>\n",
       "      <td>0.0</td>\n",
       "      <td>0.0</td>\n",
       "      <td>0.0</td>\n",
       "      <td>0.0</td>\n",
       "      <td>0.0</td>\n",
       "      <td>0.0</td>\n",
       "      <td>1.0</td>\n",
       "      <td>0.0</td>\n",
       "    </tr>\n",
       "    <tr>\n",
       "      <th>4</th>\n",
       "      <td>0.0</td>\n",
       "      <td>0.0</td>\n",
       "      <td>0.0</td>\n",
       "      <td>0.0</td>\n",
       "      <td>0.0</td>\n",
       "      <td>0.0</td>\n",
       "      <td>1.0</td>\n",
       "      <td>0.0</td>\n",
       "      <td>0.0</td>\n",
       "      <td>0.0</td>\n",
       "      <td>0.0</td>\n",
       "      <td>0.0</td>\n",
       "      <td>1.0</td>\n",
       "      <td>0.0</td>\n",
       "    </tr>\n",
       "  </tbody>\n",
       "</table>\n",
       "</div>"
      ],
      "text/plain": [
       "   key_A#  key_D  key_G#  key_C#  key_F#  key_B  key_G  key_F  key_A  key_C  \\\n",
       "0     0.0    0.0     0.0     0.0     0.0    0.0    0.0    0.0    0.0    0.0   \n",
       "1     0.0    0.0     0.0     0.0     0.0    0.0    0.0    1.0    0.0    0.0   \n",
       "2     0.0    0.0     0.0     0.0     0.0    1.0    0.0    0.0    0.0    0.0   \n",
       "3     0.0    0.0     0.0     1.0     0.0    0.0    0.0    0.0    0.0    0.0   \n",
       "4     0.0    0.0     0.0     0.0     0.0    0.0    1.0    0.0    0.0    0.0   \n",
       "\n",
       "   key_E  key_D#  mode_Minor  mode_Major  \n",
       "0    0.0     1.0         0.0         1.0  \n",
       "1    0.0     0.0         1.0         0.0  \n",
       "2    0.0     0.0         1.0         0.0  \n",
       "3    0.0     0.0         1.0         0.0  \n",
       "4    0.0     0.0         1.0         0.0  "
      ]
     },
     "execution_count": 19,
     "metadata": {},
     "output_type": "execute_result"
    }
   ],
   "source": [
    "encoder = OneHotEncoder(categories = encoder_categories, sparse=False)\n",
    "\n",
    "encoder = encoder.fit(X_train[X_categorical_columns])\n",
    "    \n",
    "X_train_encoded = encoder.transform(X_train[X_categorical_columns])\n",
    "X_train_categorical = pd.DataFrame(X_train_encoded, columns = encoder.get_feature_names(X_categorical_columns))\n",
    "\n",
    "X_test_encoded = encoder.transform(X_test[X_categorical_columns])\n",
    "X_test_categorical = pd.DataFrame(X_test_encoded, columns = encoder.get_feature_names(X_categorical_columns))\n",
    "X_test_categorical.head()"
   ]
  },
  {
   "cell_type": "code",
   "execution_count": 20,
   "metadata": {},
   "outputs": [
    {
     "data": {
      "text/html": [
       "<div>\n",
       "<style scoped>\n",
       "    .dataframe tbody tr th:only-of-type {\n",
       "        vertical-align: middle;\n",
       "    }\n",
       "\n",
       "    .dataframe tbody tr th {\n",
       "        vertical-align: top;\n",
       "    }\n",
       "\n",
       "    .dataframe thead th {\n",
       "        text-align: right;\n",
       "    }\n",
       "</style>\n",
       "<table border=\"1\" class=\"dataframe\">\n",
       "  <thead>\n",
       "    <tr style=\"text-align: right;\">\n",
       "      <th></th>\n",
       "      <th>popularity</th>\n",
       "      <th>acousticness</th>\n",
       "      <th>danceability</th>\n",
       "      <th>duration_ms</th>\n",
       "      <th>energy</th>\n",
       "      <th>instrumentalness</th>\n",
       "      <th>liveness</th>\n",
       "      <th>loudness</th>\n",
       "      <th>speechiness</th>\n",
       "      <th>tempo</th>\n",
       "      <th>valence</th>\n",
       "    </tr>\n",
       "  </thead>\n",
       "  <tbody>\n",
       "    <tr>\n",
       "      <th>0</th>\n",
       "      <td>-0.045455</td>\n",
       "      <td>0.955994</td>\n",
       "      <td>0.579592</td>\n",
       "      <td>-0.561110</td>\n",
       "      <td>-0.545692</td>\n",
       "      <td>-0.000930</td>\n",
       "      <td>-0.191216</td>\n",
       "      <td>-0.233534</td>\n",
       "      <td>-0.3792</td>\n",
       "      <td>-0.438273</td>\n",
       "      <td>0.662404</td>\n",
       "    </tr>\n",
       "    <tr>\n",
       "      <th>1</th>\n",
       "      <td>-0.772727</td>\n",
       "      <td>1.521244</td>\n",
       "      <td>-0.559184</td>\n",
       "      <td>0.737978</td>\n",
       "      <td>-1.498433</td>\n",
       "      <td>5.735822</td>\n",
       "      <td>-0.074324</td>\n",
       "      <td>-1.739023</td>\n",
       "      <td>0.0288</td>\n",
       "      <td>-0.282569</td>\n",
       "      <td>-0.511509</td>\n",
       "    </tr>\n",
       "    <tr>\n",
       "      <th>2</th>\n",
       "      <td>0.681818</td>\n",
       "      <td>-0.265156</td>\n",
       "      <td>-1.428571</td>\n",
       "      <td>1.032782</td>\n",
       "      <td>0.900783</td>\n",
       "      <td>0.101612</td>\n",
       "      <td>1.675676</td>\n",
       "      <td>0.762925</td>\n",
       "      <td>1.7776</td>\n",
       "      <td>1.059351</td>\n",
       "      <td>-0.767263</td>\n",
       "    </tr>\n",
       "    <tr>\n",
       "      <th>3</th>\n",
       "      <td>0.818182</td>\n",
       "      <td>0.007587</td>\n",
       "      <td>0.351020</td>\n",
       "      <td>-0.450274</td>\n",
       "      <td>0.553525</td>\n",
       "      <td>-0.000996</td>\n",
       "      <td>-0.006757</td>\n",
       "      <td>0.470255</td>\n",
       "      <td>-0.2784</td>\n",
       "      <td>0.155550</td>\n",
       "      <td>1.258312</td>\n",
       "    </tr>\n",
       "    <tr>\n",
       "      <th>4</th>\n",
       "      <td>-0.500000</td>\n",
       "      <td>0.144158</td>\n",
       "      <td>-0.546939</td>\n",
       "      <td>0.898136</td>\n",
       "      <td>-0.203655</td>\n",
       "      <td>0.040888</td>\n",
       "      <td>0.250000</td>\n",
       "      <td>-0.051700</td>\n",
       "      <td>-0.2880</td>\n",
       "      <td>0.635422</td>\n",
       "      <td>-0.181586</td>\n",
       "    </tr>\n",
       "  </tbody>\n",
       "</table>\n",
       "</div>"
      ],
      "text/plain": [
       "   popularity  acousticness  danceability  duration_ms    energy  \\\n",
       "0   -0.045455      0.955994      0.579592    -0.561110 -0.545692   \n",
       "1   -0.772727      1.521244     -0.559184     0.737978 -1.498433   \n",
       "2    0.681818     -0.265156     -1.428571     1.032782  0.900783   \n",
       "3    0.818182      0.007587      0.351020    -0.450274  0.553525   \n",
       "4   -0.500000      0.144158     -0.546939     0.898136 -0.203655   \n",
       "\n",
       "   instrumentalness  liveness  loudness  speechiness     tempo   valence  \n",
       "0         -0.000930 -0.191216 -0.233534      -0.3792 -0.438273  0.662404  \n",
       "1          5.735822 -0.074324 -1.739023       0.0288 -0.282569 -0.511509  \n",
       "2          0.101612  1.675676  0.762925       1.7776  1.059351 -0.767263  \n",
       "3         -0.000996 -0.006757  0.470255      -0.2784  0.155550  1.258312  \n",
       "4          0.040888  0.250000 -0.051700      -0.2880  0.635422 -0.181586  "
      ]
     },
     "execution_count": 20,
     "metadata": {},
     "output_type": "execute_result"
    }
   ],
   "source": [
    "scaler = RobustScaler()\n",
    "\n",
    "X_train_scaled = scaler.fit_transform(X_train[numerical_columns])\n",
    "X_train_numerical = pd.DataFrame(X_train_scaled, columns = numerical_columns)\n",
    "#X_train_numerical.head()\n",
    "\n",
    "X_test_scaled = scaler.transform(X_test[numerical_columns])\n",
    "X_test_numerical = pd.DataFrame(X_test_scaled, columns = numerical_columns)\n",
    "X_test_numerical.head()"
   ]
  },
  {
   "cell_type": "code",
   "execution_count": 21,
   "metadata": {},
   "outputs": [],
   "source": [
    "Y_train_concat = Y_train.reset_index(drop=True)\n",
    "Y_test_concat = Y_test.reset_index(drop=True)\n",
    "\n",
    "data_train = pd.concat([X_train_categorical, X_train_numerical, Y_train_concat], axis=1)\n",
    "\n",
    "data_test = pd.concat([X_test_categorical, X_test_numerical, Y_test_concat], axis=1)"
   ]
  },
  {
   "cell_type": "code",
   "execution_count": 22,
   "metadata": {},
   "outputs": [
    {
     "data": {
      "text/plain": [
       "Index(['key_A#', 'key_D', 'key_G#', 'key_C#', 'key_F#', 'key_B', 'key_G',\n",
       "       'key_F', 'key_A', 'key_C', 'key_E', 'key_D#', 'mode_Minor',\n",
       "       'mode_Major', 'popularity', 'acousticness', 'danceability',\n",
       "       'duration_ms', 'energy', 'instrumentalness', 'liveness', 'loudness',\n",
       "       'speechiness', 'tempo', 'valence', 'music_genre'],\n",
       "      dtype='object')"
      ]
     },
     "execution_count": 22,
     "metadata": {},
     "output_type": "execute_result"
    }
   ],
   "source": [
    "data_train.columns"
   ]
  },
  {
   "cell_type": "code",
   "execution_count": 23,
   "metadata": {},
   "outputs": [],
   "source": [
    "X_train_2=data_train.drop(columns='music_genre')\n",
    "y_train_2=data_train['music_genre']\n",
    "X_test_2=data_test.drop(columns='music_genre')\n",
    "y_test_2=data_test['music_genre']"
   ]
  },
  {
   "cell_type": "code",
   "execution_count": 24,
   "metadata": {},
   "outputs": [
    {
     "data": {
      "text/plain": [
       "(33765, 25)"
      ]
     },
     "execution_count": 24,
     "metadata": {},
     "output_type": "execute_result"
    }
   ],
   "source": [
    "X_train_2.shape"
   ]
  },
  {
   "cell_type": "code",
   "execution_count": 25,
   "metadata": {},
   "outputs": [
    {
     "data": {
      "text/plain": [
       "(33765,)"
      ]
     },
     "execution_count": 25,
     "metadata": {},
     "output_type": "execute_result"
    }
   ],
   "source": [
    "y_train_2.shape"
   ]
  },
  {
   "cell_type": "code",
   "execution_count": 26,
   "metadata": {},
   "outputs": [
    {
     "data": {
      "text/html": [
       "<style>#sk-container-id-1 {color: black;background-color: white;}#sk-container-id-1 pre{padding: 0;}#sk-container-id-1 div.sk-toggleable {background-color: white;}#sk-container-id-1 label.sk-toggleable__label {cursor: pointer;display: block;width: 100%;margin-bottom: 0;padding: 0.3em;box-sizing: border-box;text-align: center;}#sk-container-id-1 label.sk-toggleable__label-arrow:before {content: \"▸\";float: left;margin-right: 0.25em;color: #696969;}#sk-container-id-1 label.sk-toggleable__label-arrow:hover:before {color: black;}#sk-container-id-1 div.sk-estimator:hover label.sk-toggleable__label-arrow:before {color: black;}#sk-container-id-1 div.sk-toggleable__content {max-height: 0;max-width: 0;overflow: hidden;text-align: left;background-color: #f0f8ff;}#sk-container-id-1 div.sk-toggleable__content pre {margin: 0.2em;color: black;border-radius: 0.25em;background-color: #f0f8ff;}#sk-container-id-1 input.sk-toggleable__control:checked~div.sk-toggleable__content {max-height: 200px;max-width: 100%;overflow: auto;}#sk-container-id-1 input.sk-toggleable__control:checked~label.sk-toggleable__label-arrow:before {content: \"▾\";}#sk-container-id-1 div.sk-estimator input.sk-toggleable__control:checked~label.sk-toggleable__label {background-color: #d4ebff;}#sk-container-id-1 div.sk-label input.sk-toggleable__control:checked~label.sk-toggleable__label {background-color: #d4ebff;}#sk-container-id-1 input.sk-hidden--visually {border: 0;clip: rect(1px 1px 1px 1px);clip: rect(1px, 1px, 1px, 1px);height: 1px;margin: -1px;overflow: hidden;padding: 0;position: absolute;width: 1px;}#sk-container-id-1 div.sk-estimator {font-family: monospace;background-color: #f0f8ff;border: 1px dotted black;border-radius: 0.25em;box-sizing: border-box;margin-bottom: 0.5em;}#sk-container-id-1 div.sk-estimator:hover {background-color: #d4ebff;}#sk-container-id-1 div.sk-parallel-item::after {content: \"\";width: 100%;border-bottom: 1px solid gray;flex-grow: 1;}#sk-container-id-1 div.sk-label:hover label.sk-toggleable__label {background-color: #d4ebff;}#sk-container-id-1 div.sk-serial::before {content: \"\";position: absolute;border-left: 1px solid gray;box-sizing: border-box;top: 0;bottom: 0;left: 50%;z-index: 0;}#sk-container-id-1 div.sk-serial {display: flex;flex-direction: column;align-items: center;background-color: white;padding-right: 0.2em;padding-left: 0.2em;position: relative;}#sk-container-id-1 div.sk-item {position: relative;z-index: 1;}#sk-container-id-1 div.sk-parallel {display: flex;align-items: stretch;justify-content: center;background-color: white;position: relative;}#sk-container-id-1 div.sk-item::before, #sk-container-id-1 div.sk-parallel-item::before {content: \"\";position: absolute;border-left: 1px solid gray;box-sizing: border-box;top: 0;bottom: 0;left: 50%;z-index: -1;}#sk-container-id-1 div.sk-parallel-item {display: flex;flex-direction: column;z-index: 1;position: relative;background-color: white;}#sk-container-id-1 div.sk-parallel-item:first-child::after {align-self: flex-end;width: 50%;}#sk-container-id-1 div.sk-parallel-item:last-child::after {align-self: flex-start;width: 50%;}#sk-container-id-1 div.sk-parallel-item:only-child::after {width: 0;}#sk-container-id-1 div.sk-dashed-wrapped {border: 1px dashed gray;margin: 0 0.4em 0.5em 0.4em;box-sizing: border-box;padding-bottom: 0.4em;background-color: white;}#sk-container-id-1 div.sk-label label {font-family: monospace;font-weight: bold;display: inline-block;line-height: 1.2em;}#sk-container-id-1 div.sk-label-container {text-align: center;}#sk-container-id-1 div.sk-container {/* jupyter's `normalize.less` sets `[hidden] { display: none; }` but bootstrap.min.css set `[hidden] { display: none !important; }` so we also need the `!important` here to be able to override the default hidden behavior on the sphinx rendered scikit-learn.org. See: https://github.com/scikit-learn/scikit-learn/issues/21755 */display: inline-block !important;position: relative;}#sk-container-id-1 div.sk-text-repr-fallback {display: none;}</style><div id=\"sk-container-id-1\" class=\"sk-top-container\"><div class=\"sk-text-repr-fallback\"><pre>GaussianNB()</pre><b>In a Jupyter environment, please rerun this cell to show the HTML representation or trust the notebook. <br />On GitHub, the HTML representation is unable to render, please try loading this page with nbviewer.org.</b></div><div class=\"sk-container\" hidden><div class=\"sk-item\"><div class=\"sk-estimator sk-toggleable\"><input class=\"sk-toggleable__control sk-hidden--visually\" id=\"sk-estimator-id-1\" type=\"checkbox\" checked><label for=\"sk-estimator-id-1\" class=\"sk-toggleable__label sk-toggleable__label-arrow\">GaussianNB</label><div class=\"sk-toggleable__content\"><pre>GaussianNB()</pre></div></div></div></div></div>"
      ],
      "text/plain": [
       "GaussianNB()"
      ]
     },
     "execution_count": 26,
     "metadata": {},
     "output_type": "execute_result"
    }
   ],
   "source": [
    "gnb = GaussianNB()\n",
    "gnb.fit(X_train_2, y_train_2)"
   ]
  },
  {
   "cell_type": "code",
   "execution_count": 27,
   "metadata": {},
   "outputs": [
    {
     "data": {
      "text/plain": [
       "array(['Country', 'Classical', 'Alternative', ..., 'Classical', 'Hip-Hop',\n",
       "       'Rock'], dtype='<U11')"
      ]
     },
     "execution_count": 27,
     "metadata": {},
     "output_type": "execute_result"
    }
   ],
   "source": [
    "y_pred = gnb.predict(X_test_2)\n",
    "\n",
    "y_pred"
   ]
  },
  {
   "attachments": {},
   "cell_type": "markdown",
   "metadata": {},
   "source": [
    "Performance"
   ]
  },
  {
   "cell_type": "code",
   "execution_count": 28,
   "metadata": {},
   "outputs": [
    {
     "data": {
      "text/plain": [
       "0.4103953798311861"
      ]
     },
     "execution_count": 28,
     "metadata": {},
     "output_type": "execute_result"
    }
   ],
   "source": [
    "# accuracy\n",
    "accuracy_score(y_test_2, y_pred)"
   ]
  },
  {
   "cell_type": "code",
   "execution_count": 29,
   "metadata": {},
   "outputs": [],
   "source": [
    "conf_mat = confusion_matrix(y_test_2, y_pred)"
   ]
  },
  {
   "cell_type": "code",
   "execution_count": 30,
   "metadata": {},
   "outputs": [
    {
     "data": {
      "text/plain": [
       "array([[194,   2,  44,  12, 420,  46, 192,  68,  50, 131],\n",
       "       [ 30, 309, 119, 224, 252, 141,   3,  39,   3,   2],\n",
       "       [ 38,  58, 327,  47, 365,  98,  12, 117,   4,  30],\n",
       "       [ 15,  25,  28, 966,  26,  20,   0,  33,   1,   4],\n",
       "       [ 42,   7,  59,  14, 789,  10,  90,  35,  24,  70],\n",
       "       [ 72,  59, 105,  24, 113, 467,  98, 134,  11,  20],\n",
       "       [ 45,   0,   4,   0,  97,  14, 627,  28, 265,  62],\n",
       "       [ 33,  37, 148, 187, 132, 161,  60, 341,   2,  18],\n",
       "       [ 26,   0,   3,   1, 121,   5, 601,  20, 249, 111],\n",
       "       [ 69,   1,  15,  26, 356,  19, 113,  48, 122, 350]], dtype=int64)"
      ]
     },
     "execution_count": 30,
     "metadata": {},
     "output_type": "execute_result"
    }
   ],
   "source": [
    "conf_mat"
   ]
  }
 ],
 "metadata": {
  "kernelspec": {
   "display_name": "Python 3.10.4 ('dh_sandbox')",
   "language": "python",
   "name": "python3"
  },
  "language_info": {
   "codemirror_mode": {
    "name": "ipython",
    "version": 3
   },
   "file_extension": ".py",
   "mimetype": "text/x-python",
   "name": "python",
   "nbconvert_exporter": "python",
   "pygments_lexer": "ipython3",
   "version": "3.10.4"
  },
  "orig_nbformat": 4,
  "vscode": {
   "interpreter": {
    "hash": "e762041b6299facda57750daeb7616d1b9f8b43b6e66203825dddea4ff707217"
   }
  }
 },
 "nbformat": 4,
 "nbformat_minor": 2
}
