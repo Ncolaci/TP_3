{
 "cells": [
  {
   "attachments": {},
   "cell_type": "markdown",
   "metadata": {},
   "source": [
    "Comienzo TP 3\n",
    "\n",
    "-Predicción de reicidencia a partir de un dataset de presos de la República Argentina."
   ]
  },
  {
   "attachments": {},
   "cell_type": "markdown",
   "metadata": {},
   "source": [
    "Impostamos las librerias utilizadas"
   ]
  },
  {
   "cell_type": "code",
   "execution_count": 1,
   "metadata": {},
   "outputs": [],
   "source": [
    "import numpy as np\n",
    "import pandas as pd\n",
    "pd.set_option('display.max_rows', 500)\n",
    "import seaborn as sns\n",
    "from matplotlib.colors import ListedColormap\n",
    "import matplotlib.pyplot as plt\n",
    "from sklearn.model_selection import train_test_split\n",
    "from sklearn.neighbors import KNeighborsClassifier\n",
    "from sklearn.linear_model import LogisticRegression\n",
    "from sklearn.preprocessing import StandardScaler\n",
    "from sklearn.metrics import confusion_matrix\n",
    "from sklearn.metrics import accuracy_score\n",
    "from sklearn.metrics import recall_score\n",
    "from sklearn.metrics import precision_score\n",
    "from sklearn.metrics import f1_score\n",
    "from sklearn.metrics import roc_curve \n",
    "from sklearn.metrics import RocCurveDisplay\n",
    "from sklearn.naive_bayes import GaussianNB\n",
    "from sklearn.model_selection import StratifiedKFold\n",
    "from sklearn.model_selection import GridSearchCV\n",
    "from sklearn.preprocessing import OneHotEncoder \n",
    "from sklearn.preprocessing import RobustScaler"
   ]
  },
  {
   "cell_type": "markdown",
   "metadata": {},
   "source": []
  },
  {
   "cell_type": "code",
   "execution_count": 2,
   "metadata": {},
   "outputs": [
    {
     "data": {
      "text/html": [
       "<div>\n",
       "<style scoped>\n",
       "    .dataframe tbody tr th:only-of-type {\n",
       "        vertical-align: middle;\n",
       "    }\n",
       "\n",
       "    .dataframe tbody tr th {\n",
       "        vertical-align: top;\n",
       "    }\n",
       "\n",
       "    .dataframe thead th {\n",
       "        text-align: right;\n",
       "    }\n",
       "</style>\n",
       "<table border=\"1\" class=\"dataframe\">\n",
       "  <thead>\n",
       "    <tr style=\"text-align: right;\">\n",
       "      <th></th>\n",
       "      <th>censo_anio</th>\n",
       "      <th>provincia_sneep_id</th>\n",
       "      <th>provincia_descripcion</th>\n",
       "      <th>establecimiento_id</th>\n",
       "      <th>establecimiento_descripcion</th>\n",
       "      <th>edad</th>\n",
       "      <th>genero_id</th>\n",
       "      <th>genero_descripcion</th>\n",
       "      <th>nacionalidad_id</th>\n",
       "      <th>nacionalidad_descripcion</th>\n",
       "      <th>...</th>\n",
       "      <th>participa_programa_pre_libertad</th>\n",
       "      <th>participa_programa_prision_discontinua_id</th>\n",
       "      <th>participa_programa_prision_discontinua_descripcion</th>\n",
       "      <th>participa_programa_semi_detencion_id</th>\n",
       "      <th>participa_programa_semi_detencion_descripcion</th>\n",
       "      <th>tuvo_reduccion_pena_id</th>\n",
       "      <th>tuvo_reduccion_pena_descripcion</th>\n",
       "      <th>mujer_tiene_hijos_intramuro</th>\n",
       "      <th>provincia_id</th>\n",
       "      <th>ultima_provincia_residencia_id</th>\n",
       "    </tr>\n",
       "  </thead>\n",
       "  <tbody>\n",
       "    <tr>\n",
       "      <th>0</th>\n",
       "      <td>2021</td>\n",
       "      <td>5</td>\n",
       "      <td>Chaco</td>\n",
       "      <td>196</td>\n",
       "      <td>COMPLEJO PENITENCIARIO I RESISTENCIA</td>\n",
       "      <td>36</td>\n",
       "      <td>1</td>\n",
       "      <td>Varón</td>\n",
       "      <td>1</td>\n",
       "      <td>Argentina</td>\n",
       "      <td>...</td>\n",
       "      <td>0.0</td>\n",
       "      <td>1</td>\n",
       "      <td>No está incorporado/a</td>\n",
       "      <td>1</td>\n",
       "      <td>No tiene semidetención</td>\n",
       "      <td>4</td>\n",
       "      <td>No tuvo reducción de pena</td>\n",
       "      <td>NaN</td>\n",
       "      <td>22</td>\n",
       "      <td>22.0</td>\n",
       "    </tr>\n",
       "    <tr>\n",
       "      <th>1</th>\n",
       "      <td>2021</td>\n",
       "      <td>5</td>\n",
       "      <td>Chaco</td>\n",
       "      <td>196</td>\n",
       "      <td>COMPLEJO PENITENCIARIO I RESISTENCIA</td>\n",
       "      <td>42</td>\n",
       "      <td>1</td>\n",
       "      <td>Varón</td>\n",
       "      <td>1</td>\n",
       "      <td>Argentina</td>\n",
       "      <td>...</td>\n",
       "      <td>0.0</td>\n",
       "      <td>1</td>\n",
       "      <td>No está incorporado/a</td>\n",
       "      <td>1</td>\n",
       "      <td>No tiene semidetención</td>\n",
       "      <td>4</td>\n",
       "      <td>No tuvo reducción de pena</td>\n",
       "      <td>NaN</td>\n",
       "      <td>22</td>\n",
       "      <td>22.0</td>\n",
       "    </tr>\n",
       "    <tr>\n",
       "      <th>2</th>\n",
       "      <td>2021</td>\n",
       "      <td>5</td>\n",
       "      <td>Chaco</td>\n",
       "      <td>196</td>\n",
       "      <td>COMPLEJO PENITENCIARIO I RESISTENCIA</td>\n",
       "      <td>26</td>\n",
       "      <td>1</td>\n",
       "      <td>Varón</td>\n",
       "      <td>1</td>\n",
       "      <td>Argentina</td>\n",
       "      <td>...</td>\n",
       "      <td>0.0</td>\n",
       "      <td>1</td>\n",
       "      <td>No está incorporado/a</td>\n",
       "      <td>1</td>\n",
       "      <td>No tiene semidetención</td>\n",
       "      <td>4</td>\n",
       "      <td>No tuvo reducción de pena</td>\n",
       "      <td>NaN</td>\n",
       "      <td>22</td>\n",
       "      <td>22.0</td>\n",
       "    </tr>\n",
       "    <tr>\n",
       "      <th>3</th>\n",
       "      <td>2021</td>\n",
       "      <td>5</td>\n",
       "      <td>Chaco</td>\n",
       "      <td>196</td>\n",
       "      <td>COMPLEJO PENITENCIARIO I RESISTENCIA</td>\n",
       "      <td>24</td>\n",
       "      <td>1</td>\n",
       "      <td>Varón</td>\n",
       "      <td>1</td>\n",
       "      <td>Argentina</td>\n",
       "      <td>...</td>\n",
       "      <td>0.0</td>\n",
       "      <td>1</td>\n",
       "      <td>No está incorporado/a</td>\n",
       "      <td>1</td>\n",
       "      <td>No tiene semidetención</td>\n",
       "      <td>4</td>\n",
       "      <td>No tuvo reducción de pena</td>\n",
       "      <td>NaN</td>\n",
       "      <td>22</td>\n",
       "      <td>22.0</td>\n",
       "    </tr>\n",
       "    <tr>\n",
       "      <th>4</th>\n",
       "      <td>2021</td>\n",
       "      <td>5</td>\n",
       "      <td>Chaco</td>\n",
       "      <td>196</td>\n",
       "      <td>COMPLEJO PENITENCIARIO I RESISTENCIA</td>\n",
       "      <td>29</td>\n",
       "      <td>1</td>\n",
       "      <td>Varón</td>\n",
       "      <td>1</td>\n",
       "      <td>Argentina</td>\n",
       "      <td>...</td>\n",
       "      <td>0.0</td>\n",
       "      <td>1</td>\n",
       "      <td>No está incorporado/a</td>\n",
       "      <td>1</td>\n",
       "      <td>No tiene semidetención</td>\n",
       "      <td>4</td>\n",
       "      <td>No tuvo reducción de pena</td>\n",
       "      <td>NaN</td>\n",
       "      <td>22</td>\n",
       "      <td>22.0</td>\n",
       "    </tr>\n",
       "  </tbody>\n",
       "</table>\n",
       "<p>5 rows × 86 columns</p>\n",
       "</div>"
      ],
      "text/plain": [
       "   censo_anio  provincia_sneep_id provincia_descripcion  establecimiento_id  \\\n",
       "0        2021                   5                 Chaco                 196   \n",
       "1        2021                   5                 Chaco                 196   \n",
       "2        2021                   5                 Chaco                 196   \n",
       "3        2021                   5                 Chaco                 196   \n",
       "4        2021                   5                 Chaco                 196   \n",
       "\n",
       "            establecimiento_descripcion  edad  genero_id genero_descripcion  \\\n",
       "0  COMPLEJO PENITENCIARIO I RESISTENCIA    36          1              Varón   \n",
       "1  COMPLEJO PENITENCIARIO I RESISTENCIA    42          1              Varón   \n",
       "2  COMPLEJO PENITENCIARIO I RESISTENCIA    26          1              Varón   \n",
       "3  COMPLEJO PENITENCIARIO I RESISTENCIA    24          1              Varón   \n",
       "4  COMPLEJO PENITENCIARIO I RESISTENCIA    29          1              Varón   \n",
       "\n",
       "   nacionalidad_id nacionalidad_descripcion  ...  \\\n",
       "0                1                Argentina  ...   \n",
       "1                1                Argentina  ...   \n",
       "2                1                Argentina  ...   \n",
       "3                1                Argentina  ...   \n",
       "4                1                Argentina  ...   \n",
       "\n",
       "   participa_programa_pre_libertad participa_programa_prision_discontinua_id  \\\n",
       "0                              0.0                                         1   \n",
       "1                              0.0                                         1   \n",
       "2                              0.0                                         1   \n",
       "3                              0.0                                         1   \n",
       "4                              0.0                                         1   \n",
       "\n",
       "   participa_programa_prision_discontinua_descripcion  \\\n",
       "0                              No está incorporado/a    \n",
       "1                              No está incorporado/a    \n",
       "2                              No está incorporado/a    \n",
       "3                              No está incorporado/a    \n",
       "4                              No está incorporado/a    \n",
       "\n",
       "  participa_programa_semi_detencion_id  \\\n",
       "0                                    1   \n",
       "1                                    1   \n",
       "2                                    1   \n",
       "3                                    1   \n",
       "4                                    1   \n",
       "\n",
       "   participa_programa_semi_detencion_descripcion tuvo_reduccion_pena_id  \\\n",
       "0                         No tiene semidetención                      4   \n",
       "1                         No tiene semidetención                      4   \n",
       "2                         No tiene semidetención                      4   \n",
       "3                         No tiene semidetención                      4   \n",
       "4                         No tiene semidetención                      4   \n",
       "\n",
       "   tuvo_reduccion_pena_descripcion mujer_tiene_hijos_intramuro  provincia_id  \\\n",
       "0        No tuvo reducción de pena                         NaN            22   \n",
       "1        No tuvo reducción de pena                         NaN            22   \n",
       "2        No tuvo reducción de pena                         NaN            22   \n",
       "3        No tuvo reducción de pena                         NaN            22   \n",
       "4        No tuvo reducción de pena                         NaN            22   \n",
       "\n",
       "  ultima_provincia_residencia_id  \n",
       "0                           22.0  \n",
       "1                           22.0  \n",
       "2                           22.0  \n",
       "3                           22.0  \n",
       "4                           22.0  \n",
       "\n",
       "[5 rows x 86 columns]"
      ]
     },
     "execution_count": 2,
     "metadata": {},
     "output_type": "execute_result"
    }
   ],
   "source": [
    "data = pd.DataFrame(pd.read_csv('.\\sneep-2021.csv',sep=','))\n",
    "\n",
    "data.head(5)\n"
   ]
  },
  {
   "cell_type": "code",
   "execution_count": 3,
   "metadata": {},
   "outputs": [
    {
     "data": {
      "text/plain": [
       "(101267, 86)"
      ]
     },
     "execution_count": 3,
     "metadata": {},
     "output_type": "execute_result"
    }
   ],
   "source": [
    "data.shape"
   ]
  },
  {
   "attachments": {},
   "cell_type": "markdown",
   "metadata": {},
   "source": [
    "Nos quedamos con solo los presos condenados."
   ]
  },
  {
   "cell_type": "code",
   "execution_count": 4,
   "metadata": {},
   "outputs": [
    {
     "data": {
      "text/plain": [
       "array(['Condenado/a', 'Procesado/a', 'Inimputable', 'Otra situación'],\n",
       "      dtype=object)"
      ]
     },
     "execution_count": 4,
     "metadata": {},
     "output_type": "execute_result"
    }
   ],
   "source": [
    "data[\"situacion_legal_descripcion\"].unique()"
   ]
  },
  {
   "cell_type": "code",
   "execution_count": 5,
   "metadata": {},
   "outputs": [],
   "source": [
    "condenados = data[\"situacion_legal_descripcion\"]=='Condenado/a'\n",
    "\n",
    "data_condenados = data[condenados]"
   ]
  },
  {
   "cell_type": "code",
   "execution_count": 12,
   "metadata": {},
   "outputs": [
    {
     "data": {
      "text/plain": [
       "(55933, 86)"
      ]
     },
     "execution_count": 12,
     "metadata": {},
     "output_type": "execute_result"
    }
   ],
   "source": [
    "data_condenados.shape"
   ]
  },
  {
   "attachments": {},
   "cell_type": "markdown",
   "metadata": {},
   "source": [
    "Eliminamos las columnas que no utilizaremos"
   ]
  },
  {
   "cell_type": "code",
   "execution_count": 8,
   "metadata": {},
   "outputs": [],
   "source": []
  },
  {
   "cell_type": "code",
   "execution_count": 14,
   "metadata": {},
   "outputs": [
    {
     "data": {
      "text/plain": [
       "censo_anio                                                0\n",
       "provincia_sneep_id                                        0\n",
       "provincia_descripcion                                     0\n",
       "establecimiento_id                                        0\n",
       "establecimiento_descripcion                               0\n",
       "edad                                                      0\n",
       "genero_id                                                 0\n",
       "genero_descripcion                                        0\n",
       "nacionalidad_id                                           0\n",
       "nacionalidad_descripcion                                 27\n",
       "estado_civil_id                                           0\n",
       "estado_civil_descripcion                               1342\n",
       "nivel_instruccion_id                                      0\n",
       "nivel_instruccion_descripcion                           863\n",
       "ultima_situacion_laboral_id                               0\n",
       "ultima_situacion_laboral_descripcion                   1195\n",
       "capacitacion_laboral_al_ingresar_id                       0\n",
       "capacitacion_laboral_al_ingresar_descripcion            303\n",
       "ultimo_lugar_residencia_id                                0\n",
       "ultimo_lugar_residencia_descripcion                      50\n",
       "ultima_provincia_residencia_sneep_id                      0\n",
       "ultima_provincia_residencia_descripcion                 195\n",
       "jurisdiccion_id                                           0\n",
       "jurisdiccion_descripcion                                  5\n",
       "situacion_legal_id                                        0\n",
       "situacion_legal_descripcion                               0\n",
       "fecha_detencion                                        2136\n",
       "fecha_condenado                                        4290\n",
       "establecimiento_procedencia_id                            0\n",
       "establecimiento_procedencia_descripcion                  52\n",
       "delito1_id                                                0\n",
       "delito1_descripcion                                     877\n",
       "delito2_id                                                0\n",
       "delito2_descripcion                                   42997\n",
       "delito3_id                                                0\n",
       "delito3_descripcion                                   52326\n",
       "delito4_id                                                0\n",
       "delito4_descripcion                                   54678\n",
       "delito5_id                                                0\n",
       "delito5_descripcion                                   55210\n",
       "horas_trabajo_remunerado_id                               0\n",
       "horas_trabajo_remunerado_descripcion                   2678\n",
       "participacion_programa_laboral                         1661\n",
       "participacion_programa_educativo_id                       0\n",
       "participacion_programa_educativo_descripcion           1605\n",
       "participacion_actividades_deportivas                   1014\n",
       "recibio_atencion_medica_ult_anio                          0\n",
       "recibio_atencion_medica_ult_anio_descripcion           2718\n",
       "recibio_visitas_ultimo_anio                              51\n",
       "participo_alteracion_orden_ult_anio_id                    0\n",
       "participo_alteracion_orden_ult_anio_descripcion          83\n",
       "tipo_infraccion_disciplinaria_id                          0\n",
       "tipo_infraccion_disciplinaria_descripcion               185\n",
       "sancion_aplicada_id                                       0\n",
       "sancion_aplicada_descripcion                          47026\n",
       "calificacion_conducta_id                                  0\n",
       "calificacion_conducta_descripcion                       649\n",
       "tentativa_fugas_evasiones_id                              0\n",
       "tentativa_fugas_evasiones_descripcion                   123\n",
       "tentativa_suicidio                                        0\n",
       "fue_lesionado_id                                          0\n",
       "fue_lesionado_descripcion                              1420\n",
       "duracion_condena_anios                                    0\n",
       "duracion_condena_meses                                    0\n",
       "duracion_condena_rango                                    0\n",
       "tipo_condena                                           1240\n",
       "es_reincidente_id                                         0\n",
       "es_reincidente_descripcion                             2217\n",
       "tiene_periodo_progresividad_id                            0\n",
       "tiene_periodo_progresividad_descripcion                1392\n",
       "reparticion_id                                            0\n",
       "reparticion_descripcion                                   0\n",
       "tuvo_salidas_transitorias_id                              0\n",
       "tuvo_salidas_transitorias_descripcion                   948\n",
       "incorporado_reg_semi_libertad_id                          0\n",
       "incorporado_reg_semi_libertad_descripcion               467\n",
       "participa_programa_pre_libertad                        1299\n",
       "participa_programa_prision_discontinua_id                 0\n",
       "participa_programa_prision_discontinua_descripcion      685\n",
       "participa_programa_semi_detencion_id                      0\n",
       "participa_programa_semi_detencion_descripcion           313\n",
       "tuvo_reduccion_pena_id                                    0\n",
       "tuvo_reduccion_pena_descripcion                        1992\n",
       "mujer_tiene_hijos_intramuro                           53970\n",
       "provincia_id                                              0\n",
       "ultima_provincia_residencia_id                          195\n",
       "dtype: int64"
      ]
     },
     "execution_count": 14,
     "metadata": {},
     "output_type": "execute_result"
    }
   ],
   "source": [
    "data_condenados.isnull().sum()"
   ]
  },
  {
   "cell_type": "code",
   "execution_count": 10,
   "metadata": {},
   "outputs": [],
   "source": [
    "data.dropna(inplace=True)"
   ]
  },
  {
   "cell_type": "code",
   "execution_count": 11,
   "metadata": {},
   "outputs": [
    {
     "ename": "AttributeError",
     "evalue": "'DataFrame' object has no attribute 'tempo'",
     "output_type": "error",
     "traceback": [
      "\u001b[1;31m---------------------------------------------------------------------------\u001b[0m",
      "\u001b[1;31mAttributeError\u001b[0m                            Traceback (most recent call last)",
      "\u001b[1;32mc:\\Users\\nicol\\OneDrive\\Documents\\GitRepo\\TP_3\\DH_TP_3\\TP_3.ipynb Cell 15\u001b[0m in \u001b[0;36m<cell line: 1>\u001b[1;34m()\u001b[0m\n\u001b[1;32m----> <a href='vscode-notebook-cell:/c%3A/Users/nicol/OneDrive/Documents/GitRepo/TP_3/DH_TP_3/TP_3.ipynb#X12sZmlsZQ%3D%3D?line=0'>1</a>\u001b[0m data[\u001b[39m'\u001b[39m\u001b[39mtempo\u001b[39m\u001b[39m'\u001b[39m]\u001b[39m=\u001b[39mdata\u001b[39m.\u001b[39;49mtempo\u001b[39m.\u001b[39mastype(\u001b[39mfloat\u001b[39m)\n",
      "File \u001b[1;32mc:\\Users\\nicol\\anaconda3\\envs\\dh_sandbox\\lib\\site-packages\\pandas\\core\\generic.py:5575\u001b[0m, in \u001b[0;36mNDFrame.__getattr__\u001b[1;34m(self, name)\u001b[0m\n\u001b[0;32m   5568\u001b[0m \u001b[39mif\u001b[39;00m (\n\u001b[0;32m   5569\u001b[0m     name \u001b[39mnot\u001b[39;00m \u001b[39min\u001b[39;00m \u001b[39mself\u001b[39m\u001b[39m.\u001b[39m_internal_names_set\n\u001b[0;32m   5570\u001b[0m     \u001b[39mand\u001b[39;00m name \u001b[39mnot\u001b[39;00m \u001b[39min\u001b[39;00m \u001b[39mself\u001b[39m\u001b[39m.\u001b[39m_metadata\n\u001b[0;32m   5571\u001b[0m     \u001b[39mand\u001b[39;00m name \u001b[39mnot\u001b[39;00m \u001b[39min\u001b[39;00m \u001b[39mself\u001b[39m\u001b[39m.\u001b[39m_accessors\n\u001b[0;32m   5572\u001b[0m     \u001b[39mand\u001b[39;00m \u001b[39mself\u001b[39m\u001b[39m.\u001b[39m_info_axis\u001b[39m.\u001b[39m_can_hold_identifiers_and_holds_name(name)\n\u001b[0;32m   5573\u001b[0m ):\n\u001b[0;32m   5574\u001b[0m     \u001b[39mreturn\u001b[39;00m \u001b[39mself\u001b[39m[name]\n\u001b[1;32m-> 5575\u001b[0m \u001b[39mreturn\u001b[39;00m \u001b[39mobject\u001b[39;49m\u001b[39m.\u001b[39;49m\u001b[39m__getattribute__\u001b[39;49m(\u001b[39mself\u001b[39;49m, name)\n",
      "\u001b[1;31mAttributeError\u001b[0m: 'DataFrame' object has no attribute 'tempo'"
     ]
    }
   ],
   "source": [
    "data['tempo']=data.tempo.astype(float)"
   ]
  },
  {
   "cell_type": "code",
   "execution_count": null,
   "metadata": {},
   "outputs": [
    {
     "data": {
      "text/plain": [
       "array(['Electronic', 'Anime', 'Jazz', 'Alternative', 'Country', 'Rap',\n",
       "       'Blues', 'Rock', 'Classical', 'Hip-Hop'], dtype=object)"
      ]
     },
     "execution_count": 8,
     "metadata": {},
     "output_type": "execute_result"
    }
   ],
   "source": [
    "data.music_genre.unique()"
   ]
  },
  {
   "cell_type": "code",
   "execution_count": null,
   "metadata": {},
   "outputs": [
    {
     "data": {
      "text/plain": [
       "array(['4-Apr', '3-Apr', '5-Apr', '1-Apr'], dtype=object)"
      ]
     },
     "execution_count": 9,
     "metadata": {},
     "output_type": "execute_result"
    }
   ],
   "source": [
    "data.obtained_date.unique()"
   ]
  },
  {
   "attachments": {},
   "cell_type": "markdown",
   "metadata": {},
   "source": [
    "La fecha no ofrece ningun dato"
   ]
  },
  {
   "cell_type": "code",
   "execution_count": null,
   "metadata": {},
   "outputs": [],
   "source": [
    "data.drop(columns=['obtained_date'],inplace=True)"
   ]
  },
  {
   "cell_type": "code",
   "execution_count": null,
   "metadata": {},
   "outputs": [],
   "source": [
    "data.drop(columns=['instance_id','artist_name','track_name'],inplace=True)"
   ]
  },
  {
   "cell_type": "code",
   "execution_count": null,
   "metadata": {},
   "outputs": [],
   "source": [
    "categorical_columns=[col for col in data.columns if data[col].dtype == 'object']\n",
    "numerical_columns=[col for col in data.columns if data[col].dtype  != 'object']"
   ]
  },
  {
   "cell_type": "code",
   "execution_count": null,
   "metadata": {},
   "outputs": [
    {
     "data": {
      "text/plain": [
       "['key', 'mode', 'music_genre']"
      ]
     },
     "execution_count": 13,
     "metadata": {},
     "output_type": "execute_result"
    }
   ],
   "source": [
    "categorical_columns"
   ]
  },
  {
   "cell_type": "code",
   "execution_count": null,
   "metadata": {},
   "outputs": [
    {
     "data": {
      "text/plain": [
       "['popularity',\n",
       " 'acousticness',\n",
       " 'danceability',\n",
       " 'duration_ms',\n",
       " 'energy',\n",
       " 'instrumentalness',\n",
       " 'liveness',\n",
       " 'loudness',\n",
       " 'speechiness',\n",
       " 'tempo',\n",
       " 'valence']"
      ]
     },
     "execution_count": 14,
     "metadata": {},
     "output_type": "execute_result"
    }
   ],
   "source": [
    "numerical_columns"
   ]
  },
  {
   "attachments": {},
   "cell_type": "markdown",
   "metadata": {},
   "source": [
    "Preparamos nuestro X e y"
   ]
  },
  {
   "cell_type": "code",
   "execution_count": null,
   "metadata": {},
   "outputs": [],
   "source": [
    "X = data.drop(['music_genre'], axis=1)\n",
    "y = data['music_genre']"
   ]
  },
  {
   "attachments": {},
   "cell_type": "markdown",
   "metadata": {},
   "source": [
    "Train, test, split"
   ]
  },
  {
   "cell_type": "code",
   "execution_count": null,
   "metadata": {},
   "outputs": [],
   "source": [
    "X_train, X_test, Y_train, Y_test = train_test_split(X, y, random_state = 1237)"
   ]
  },
  {
   "attachments": {},
   "cell_type": "markdown",
   "metadata": {},
   "source": [
    "Feature engineering"
   ]
  },
  {
   "cell_type": "code",
   "execution_count": null,
   "metadata": {},
   "outputs": [],
   "source": [
    "X_categorical_columns=[col for col in categorical_columns if col != 'music_genre']"
   ]
  },
  {
   "cell_type": "code",
   "execution_count": null,
   "metadata": {},
   "outputs": [
    {
     "data": {
      "text/plain": [
       "[array(['A#', 'D', 'G#', 'C#', 'F#', 'B', 'G', 'F', 'A', 'C', 'E', 'D#'],\n",
       "       dtype=object),\n",
       " array(['Minor', 'Major'], dtype=object)]"
      ]
     },
     "execution_count": 18,
     "metadata": {},
     "output_type": "execute_result"
    }
   ],
   "source": [
    "encoder_categories = []\n",
    "\n",
    "for col in X_categorical_columns:    \n",
    "    col_categories = data[col].unique()\n",
    "    encoder_categories.append(col_categories)\n",
    "\n",
    "encoder_categories"
   ]
  },
  {
   "cell_type": "code",
   "execution_count": null,
   "metadata": {},
   "outputs": [
    {
     "name": "stderr",
     "output_type": "stream",
     "text": [
      "c:\\Users\\nicol\\anaconda3\\envs\\dh_sandbox\\lib\\site-packages\\sklearn\\utils\\deprecation.py:87: FutureWarning: Function get_feature_names is deprecated; get_feature_names is deprecated in 1.0 and will be removed in 1.2. Please use get_feature_names_out instead.\n",
      "  warnings.warn(msg, category=FutureWarning)\n",
      "c:\\Users\\nicol\\anaconda3\\envs\\dh_sandbox\\lib\\site-packages\\sklearn\\utils\\deprecation.py:87: FutureWarning: Function get_feature_names is deprecated; get_feature_names is deprecated in 1.0 and will be removed in 1.2. Please use get_feature_names_out instead.\n",
      "  warnings.warn(msg, category=FutureWarning)\n"
     ]
    },
    {
     "data": {
      "text/html": [
       "<div>\n",
       "<style scoped>\n",
       "    .dataframe tbody tr th:only-of-type {\n",
       "        vertical-align: middle;\n",
       "    }\n",
       "\n",
       "    .dataframe tbody tr th {\n",
       "        vertical-align: top;\n",
       "    }\n",
       "\n",
       "    .dataframe thead th {\n",
       "        text-align: right;\n",
       "    }\n",
       "</style>\n",
       "<table border=\"1\" class=\"dataframe\">\n",
       "  <thead>\n",
       "    <tr style=\"text-align: right;\">\n",
       "      <th></th>\n",
       "      <th>key_A#</th>\n",
       "      <th>key_D</th>\n",
       "      <th>key_G#</th>\n",
       "      <th>key_C#</th>\n",
       "      <th>key_F#</th>\n",
       "      <th>key_B</th>\n",
       "      <th>key_G</th>\n",
       "      <th>key_F</th>\n",
       "      <th>key_A</th>\n",
       "      <th>key_C</th>\n",
       "      <th>key_E</th>\n",
       "      <th>key_D#</th>\n",
       "      <th>mode_Minor</th>\n",
       "      <th>mode_Major</th>\n",
       "    </tr>\n",
       "  </thead>\n",
       "  <tbody>\n",
       "    <tr>\n",
       "      <th>0</th>\n",
       "      <td>0.0</td>\n",
       "      <td>0.0</td>\n",
       "      <td>0.0</td>\n",
       "      <td>0.0</td>\n",
       "      <td>0.0</td>\n",
       "      <td>0.0</td>\n",
       "      <td>0.0</td>\n",
       "      <td>0.0</td>\n",
       "      <td>0.0</td>\n",
       "      <td>0.0</td>\n",
       "      <td>0.0</td>\n",
       "      <td>1.0</td>\n",
       "      <td>0.0</td>\n",
       "      <td>1.0</td>\n",
       "    </tr>\n",
       "    <tr>\n",
       "      <th>1</th>\n",
       "      <td>0.0</td>\n",
       "      <td>0.0</td>\n",
       "      <td>0.0</td>\n",
       "      <td>0.0</td>\n",
       "      <td>0.0</td>\n",
       "      <td>0.0</td>\n",
       "      <td>0.0</td>\n",
       "      <td>1.0</td>\n",
       "      <td>0.0</td>\n",
       "      <td>0.0</td>\n",
       "      <td>0.0</td>\n",
       "      <td>0.0</td>\n",
       "      <td>1.0</td>\n",
       "      <td>0.0</td>\n",
       "    </tr>\n",
       "    <tr>\n",
       "      <th>2</th>\n",
       "      <td>0.0</td>\n",
       "      <td>0.0</td>\n",
       "      <td>0.0</td>\n",
       "      <td>0.0</td>\n",
       "      <td>0.0</td>\n",
       "      <td>1.0</td>\n",
       "      <td>0.0</td>\n",
       "      <td>0.0</td>\n",
       "      <td>0.0</td>\n",
       "      <td>0.0</td>\n",
       "      <td>0.0</td>\n",
       "      <td>0.0</td>\n",
       "      <td>1.0</td>\n",
       "      <td>0.0</td>\n",
       "    </tr>\n",
       "    <tr>\n",
       "      <th>3</th>\n",
       "      <td>0.0</td>\n",
       "      <td>0.0</td>\n",
       "      <td>0.0</td>\n",
       "      <td>1.0</td>\n",
       "      <td>0.0</td>\n",
       "      <td>0.0</td>\n",
       "      <td>0.0</td>\n",
       "      <td>0.0</td>\n",
       "      <td>0.0</td>\n",
       "      <td>0.0</td>\n",
       "      <td>0.0</td>\n",
       "      <td>0.0</td>\n",
       "      <td>1.0</td>\n",
       "      <td>0.0</td>\n",
       "    </tr>\n",
       "    <tr>\n",
       "      <th>4</th>\n",
       "      <td>0.0</td>\n",
       "      <td>0.0</td>\n",
       "      <td>0.0</td>\n",
       "      <td>0.0</td>\n",
       "      <td>0.0</td>\n",
       "      <td>0.0</td>\n",
       "      <td>1.0</td>\n",
       "      <td>0.0</td>\n",
       "      <td>0.0</td>\n",
       "      <td>0.0</td>\n",
       "      <td>0.0</td>\n",
       "      <td>0.0</td>\n",
       "      <td>1.0</td>\n",
       "      <td>0.0</td>\n",
       "    </tr>\n",
       "  </tbody>\n",
       "</table>\n",
       "</div>"
      ],
      "text/plain": [
       "   key_A#  key_D  key_G#  key_C#  key_F#  key_B  key_G  key_F  key_A  key_C  \\\n",
       "0     0.0    0.0     0.0     0.0     0.0    0.0    0.0    0.0    0.0    0.0   \n",
       "1     0.0    0.0     0.0     0.0     0.0    0.0    0.0    1.0    0.0    0.0   \n",
       "2     0.0    0.0     0.0     0.0     0.0    1.0    0.0    0.0    0.0    0.0   \n",
       "3     0.0    0.0     0.0     1.0     0.0    0.0    0.0    0.0    0.0    0.0   \n",
       "4     0.0    0.0     0.0     0.0     0.0    0.0    1.0    0.0    0.0    0.0   \n",
       "\n",
       "   key_E  key_D#  mode_Minor  mode_Major  \n",
       "0    0.0     1.0         0.0         1.0  \n",
       "1    0.0     0.0         1.0         0.0  \n",
       "2    0.0     0.0         1.0         0.0  \n",
       "3    0.0     0.0         1.0         0.0  \n",
       "4    0.0     0.0         1.0         0.0  "
      ]
     },
     "execution_count": 19,
     "metadata": {},
     "output_type": "execute_result"
    }
   ],
   "source": [
    "encoder = OneHotEncoder(categories = encoder_categories, sparse=False)\n",
    "\n",
    "encoder = encoder.fit(X_train[X_categorical_columns])\n",
    "    \n",
    "X_train_encoded = encoder.transform(X_train[X_categorical_columns])\n",
    "X_train_categorical = pd.DataFrame(X_train_encoded, columns = encoder.get_feature_names(X_categorical_columns))\n",
    "\n",
    "X_test_encoded = encoder.transform(X_test[X_categorical_columns])\n",
    "X_test_categorical = pd.DataFrame(X_test_encoded, columns = encoder.get_feature_names(X_categorical_columns))\n",
    "X_test_categorical.head()"
   ]
  },
  {
   "cell_type": "code",
   "execution_count": null,
   "metadata": {},
   "outputs": [
    {
     "data": {
      "text/html": [
       "<div>\n",
       "<style scoped>\n",
       "    .dataframe tbody tr th:only-of-type {\n",
       "        vertical-align: middle;\n",
       "    }\n",
       "\n",
       "    .dataframe tbody tr th {\n",
       "        vertical-align: top;\n",
       "    }\n",
       "\n",
       "    .dataframe thead th {\n",
       "        text-align: right;\n",
       "    }\n",
       "</style>\n",
       "<table border=\"1\" class=\"dataframe\">\n",
       "  <thead>\n",
       "    <tr style=\"text-align: right;\">\n",
       "      <th></th>\n",
       "      <th>popularity</th>\n",
       "      <th>acousticness</th>\n",
       "      <th>danceability</th>\n",
       "      <th>duration_ms</th>\n",
       "      <th>energy</th>\n",
       "      <th>instrumentalness</th>\n",
       "      <th>liveness</th>\n",
       "      <th>loudness</th>\n",
       "      <th>speechiness</th>\n",
       "      <th>tempo</th>\n",
       "      <th>valence</th>\n",
       "    </tr>\n",
       "  </thead>\n",
       "  <tbody>\n",
       "    <tr>\n",
       "      <th>0</th>\n",
       "      <td>-0.045455</td>\n",
       "      <td>0.955994</td>\n",
       "      <td>0.579592</td>\n",
       "      <td>-0.561110</td>\n",
       "      <td>-0.545692</td>\n",
       "      <td>-0.000930</td>\n",
       "      <td>-0.191216</td>\n",
       "      <td>-0.233534</td>\n",
       "      <td>-0.3792</td>\n",
       "      <td>-0.438273</td>\n",
       "      <td>0.662404</td>\n",
       "    </tr>\n",
       "    <tr>\n",
       "      <th>1</th>\n",
       "      <td>-0.772727</td>\n",
       "      <td>1.521244</td>\n",
       "      <td>-0.559184</td>\n",
       "      <td>0.737978</td>\n",
       "      <td>-1.498433</td>\n",
       "      <td>5.735822</td>\n",
       "      <td>-0.074324</td>\n",
       "      <td>-1.739023</td>\n",
       "      <td>0.0288</td>\n",
       "      <td>-0.282569</td>\n",
       "      <td>-0.511509</td>\n",
       "    </tr>\n",
       "    <tr>\n",
       "      <th>2</th>\n",
       "      <td>0.681818</td>\n",
       "      <td>-0.265156</td>\n",
       "      <td>-1.428571</td>\n",
       "      <td>1.032782</td>\n",
       "      <td>0.900783</td>\n",
       "      <td>0.101612</td>\n",
       "      <td>1.675676</td>\n",
       "      <td>0.762925</td>\n",
       "      <td>1.7776</td>\n",
       "      <td>1.059351</td>\n",
       "      <td>-0.767263</td>\n",
       "    </tr>\n",
       "    <tr>\n",
       "      <th>3</th>\n",
       "      <td>0.818182</td>\n",
       "      <td>0.007587</td>\n",
       "      <td>0.351020</td>\n",
       "      <td>-0.450274</td>\n",
       "      <td>0.553525</td>\n",
       "      <td>-0.000996</td>\n",
       "      <td>-0.006757</td>\n",
       "      <td>0.470255</td>\n",
       "      <td>-0.2784</td>\n",
       "      <td>0.155550</td>\n",
       "      <td>1.258312</td>\n",
       "    </tr>\n",
       "    <tr>\n",
       "      <th>4</th>\n",
       "      <td>-0.500000</td>\n",
       "      <td>0.144158</td>\n",
       "      <td>-0.546939</td>\n",
       "      <td>0.898136</td>\n",
       "      <td>-0.203655</td>\n",
       "      <td>0.040888</td>\n",
       "      <td>0.250000</td>\n",
       "      <td>-0.051700</td>\n",
       "      <td>-0.2880</td>\n",
       "      <td>0.635422</td>\n",
       "      <td>-0.181586</td>\n",
       "    </tr>\n",
       "  </tbody>\n",
       "</table>\n",
       "</div>"
      ],
      "text/plain": [
       "   popularity  acousticness  danceability  duration_ms    energy  \\\n",
       "0   -0.045455      0.955994      0.579592    -0.561110 -0.545692   \n",
       "1   -0.772727      1.521244     -0.559184     0.737978 -1.498433   \n",
       "2    0.681818     -0.265156     -1.428571     1.032782  0.900783   \n",
       "3    0.818182      0.007587      0.351020    -0.450274  0.553525   \n",
       "4   -0.500000      0.144158     -0.546939     0.898136 -0.203655   \n",
       "\n",
       "   instrumentalness  liveness  loudness  speechiness     tempo   valence  \n",
       "0         -0.000930 -0.191216 -0.233534      -0.3792 -0.438273  0.662404  \n",
       "1          5.735822 -0.074324 -1.739023       0.0288 -0.282569 -0.511509  \n",
       "2          0.101612  1.675676  0.762925       1.7776  1.059351 -0.767263  \n",
       "3         -0.000996 -0.006757  0.470255      -0.2784  0.155550  1.258312  \n",
       "4          0.040888  0.250000 -0.051700      -0.2880  0.635422 -0.181586  "
      ]
     },
     "execution_count": 20,
     "metadata": {},
     "output_type": "execute_result"
    }
   ],
   "source": [
    "scaler = RobustScaler()\n",
    "\n",
    "X_train_scaled = scaler.fit_transform(X_train[numerical_columns])\n",
    "X_train_numerical = pd.DataFrame(X_train_scaled, columns = numerical_columns)\n",
    "#X_train_numerical.head()\n",
    "\n",
    "X_test_scaled = scaler.transform(X_test[numerical_columns])\n",
    "X_test_numerical = pd.DataFrame(X_test_scaled, columns = numerical_columns)\n",
    "X_test_numerical.head()"
   ]
  },
  {
   "cell_type": "code",
   "execution_count": null,
   "metadata": {},
   "outputs": [],
   "source": [
    "Y_train_concat = Y_train.reset_index(drop=True)\n",
    "Y_test_concat = Y_test.reset_index(drop=True)\n",
    "\n",
    "data_train = pd.concat([X_train_categorical, X_train_numerical, Y_train_concat], axis=1)\n",
    "\n",
    "data_test = pd.concat([X_test_categorical, X_test_numerical, Y_test_concat], axis=1)"
   ]
  },
  {
   "cell_type": "code",
   "execution_count": null,
   "metadata": {},
   "outputs": [
    {
     "data": {
      "text/plain": [
       "Index(['key_A#', 'key_D', 'key_G#', 'key_C#', 'key_F#', 'key_B', 'key_G',\n",
       "       'key_F', 'key_A', 'key_C', 'key_E', 'key_D#', 'mode_Minor',\n",
       "       'mode_Major', 'popularity', 'acousticness', 'danceability',\n",
       "       'duration_ms', 'energy', 'instrumentalness', 'liveness', 'loudness',\n",
       "       'speechiness', 'tempo', 'valence', 'music_genre'],\n",
       "      dtype='object')"
      ]
     },
     "execution_count": 22,
     "metadata": {},
     "output_type": "execute_result"
    }
   ],
   "source": [
    "data_train.columns"
   ]
  },
  {
   "cell_type": "code",
   "execution_count": null,
   "metadata": {},
   "outputs": [],
   "source": [
    "X_train_2=data_train.drop(columns='music_genre')\n",
    "y_train_2=data_train['music_genre']\n",
    "X_test_2=data_test.drop(columns='music_genre')\n",
    "y_test_2=data_test['music_genre']"
   ]
  },
  {
   "cell_type": "code",
   "execution_count": null,
   "metadata": {},
   "outputs": [
    {
     "data": {
      "text/plain": [
       "(33765, 25)"
      ]
     },
     "execution_count": 24,
     "metadata": {},
     "output_type": "execute_result"
    }
   ],
   "source": [
    "X_train_2.shape"
   ]
  },
  {
   "cell_type": "code",
   "execution_count": null,
   "metadata": {},
   "outputs": [
    {
     "data": {
      "text/plain": [
       "(33765,)"
      ]
     },
     "execution_count": 25,
     "metadata": {},
     "output_type": "execute_result"
    }
   ],
   "source": [
    "y_train_2.shape"
   ]
  },
  {
   "cell_type": "code",
   "execution_count": null,
   "metadata": {},
   "outputs": [
    {
     "data": {
      "text/html": [
       "<style>#sk-container-id-1 {color: black;background-color: white;}#sk-container-id-1 pre{padding: 0;}#sk-container-id-1 div.sk-toggleable {background-color: white;}#sk-container-id-1 label.sk-toggleable__label {cursor: pointer;display: block;width: 100%;margin-bottom: 0;padding: 0.3em;box-sizing: border-box;text-align: center;}#sk-container-id-1 label.sk-toggleable__label-arrow:before {content: \"▸\";float: left;margin-right: 0.25em;color: #696969;}#sk-container-id-1 label.sk-toggleable__label-arrow:hover:before {color: black;}#sk-container-id-1 div.sk-estimator:hover label.sk-toggleable__label-arrow:before {color: black;}#sk-container-id-1 div.sk-toggleable__content {max-height: 0;max-width: 0;overflow: hidden;text-align: left;background-color: #f0f8ff;}#sk-container-id-1 div.sk-toggleable__content pre {margin: 0.2em;color: black;border-radius: 0.25em;background-color: #f0f8ff;}#sk-container-id-1 input.sk-toggleable__control:checked~div.sk-toggleable__content {max-height: 200px;max-width: 100%;overflow: auto;}#sk-container-id-1 input.sk-toggleable__control:checked~label.sk-toggleable__label-arrow:before {content: \"▾\";}#sk-container-id-1 div.sk-estimator input.sk-toggleable__control:checked~label.sk-toggleable__label {background-color: #d4ebff;}#sk-container-id-1 div.sk-label input.sk-toggleable__control:checked~label.sk-toggleable__label {background-color: #d4ebff;}#sk-container-id-1 input.sk-hidden--visually {border: 0;clip: rect(1px 1px 1px 1px);clip: rect(1px, 1px, 1px, 1px);height: 1px;margin: -1px;overflow: hidden;padding: 0;position: absolute;width: 1px;}#sk-container-id-1 div.sk-estimator {font-family: monospace;background-color: #f0f8ff;border: 1px dotted black;border-radius: 0.25em;box-sizing: border-box;margin-bottom: 0.5em;}#sk-container-id-1 div.sk-estimator:hover {background-color: #d4ebff;}#sk-container-id-1 div.sk-parallel-item::after {content: \"\";width: 100%;border-bottom: 1px solid gray;flex-grow: 1;}#sk-container-id-1 div.sk-label:hover label.sk-toggleable__label {background-color: #d4ebff;}#sk-container-id-1 div.sk-serial::before {content: \"\";position: absolute;border-left: 1px solid gray;box-sizing: border-box;top: 0;bottom: 0;left: 50%;z-index: 0;}#sk-container-id-1 div.sk-serial {display: flex;flex-direction: column;align-items: center;background-color: white;padding-right: 0.2em;padding-left: 0.2em;position: relative;}#sk-container-id-1 div.sk-item {position: relative;z-index: 1;}#sk-container-id-1 div.sk-parallel {display: flex;align-items: stretch;justify-content: center;background-color: white;position: relative;}#sk-container-id-1 div.sk-item::before, #sk-container-id-1 div.sk-parallel-item::before {content: \"\";position: absolute;border-left: 1px solid gray;box-sizing: border-box;top: 0;bottom: 0;left: 50%;z-index: -1;}#sk-container-id-1 div.sk-parallel-item {display: flex;flex-direction: column;z-index: 1;position: relative;background-color: white;}#sk-container-id-1 div.sk-parallel-item:first-child::after {align-self: flex-end;width: 50%;}#sk-container-id-1 div.sk-parallel-item:last-child::after {align-self: flex-start;width: 50%;}#sk-container-id-1 div.sk-parallel-item:only-child::after {width: 0;}#sk-container-id-1 div.sk-dashed-wrapped {border: 1px dashed gray;margin: 0 0.4em 0.5em 0.4em;box-sizing: border-box;padding-bottom: 0.4em;background-color: white;}#sk-container-id-1 div.sk-label label {font-family: monospace;font-weight: bold;display: inline-block;line-height: 1.2em;}#sk-container-id-1 div.sk-label-container {text-align: center;}#sk-container-id-1 div.sk-container {/* jupyter's `normalize.less` sets `[hidden] { display: none; }` but bootstrap.min.css set `[hidden] { display: none !important; }` so we also need the `!important` here to be able to override the default hidden behavior on the sphinx rendered scikit-learn.org. See: https://github.com/scikit-learn/scikit-learn/issues/21755 */display: inline-block !important;position: relative;}#sk-container-id-1 div.sk-text-repr-fallback {display: none;}</style><div id=\"sk-container-id-1\" class=\"sk-top-container\"><div class=\"sk-text-repr-fallback\"><pre>GaussianNB()</pre><b>In a Jupyter environment, please rerun this cell to show the HTML representation or trust the notebook. <br />On GitHub, the HTML representation is unable to render, please try loading this page with nbviewer.org.</b></div><div class=\"sk-container\" hidden><div class=\"sk-item\"><div class=\"sk-estimator sk-toggleable\"><input class=\"sk-toggleable__control sk-hidden--visually\" id=\"sk-estimator-id-1\" type=\"checkbox\" checked><label for=\"sk-estimator-id-1\" class=\"sk-toggleable__label sk-toggleable__label-arrow\">GaussianNB</label><div class=\"sk-toggleable__content\"><pre>GaussianNB()</pre></div></div></div></div></div>"
      ],
      "text/plain": [
       "GaussianNB()"
      ]
     },
     "execution_count": 26,
     "metadata": {},
     "output_type": "execute_result"
    }
   ],
   "source": [
    "gnb = GaussianNB()\n",
    "gnb.fit(X_train_2, y_train_2)"
   ]
  },
  {
   "cell_type": "code",
   "execution_count": null,
   "metadata": {},
   "outputs": [
    {
     "data": {
      "text/plain": [
       "array(['Country', 'Classical', 'Alternative', ..., 'Classical', 'Hip-Hop',\n",
       "       'Rock'], dtype='<U11')"
      ]
     },
     "execution_count": 27,
     "metadata": {},
     "output_type": "execute_result"
    }
   ],
   "source": [
    "y_pred = gnb.predict(X_test_2)\n",
    "\n",
    "y_pred"
   ]
  },
  {
   "attachments": {},
   "cell_type": "markdown",
   "metadata": {},
   "source": [
    "Performance"
   ]
  },
  {
   "cell_type": "code",
   "execution_count": null,
   "metadata": {},
   "outputs": [
    {
     "data": {
      "text/plain": [
       "0.4103953798311861"
      ]
     },
     "execution_count": 28,
     "metadata": {},
     "output_type": "execute_result"
    }
   ],
   "source": [
    "# accuracy\n",
    "accuracy_score(y_test_2, y_pred)"
   ]
  },
  {
   "cell_type": "code",
   "execution_count": null,
   "metadata": {},
   "outputs": [],
   "source": [
    "conf_mat = confusion_matrix(y_test_2, y_pred)"
   ]
  },
  {
   "cell_type": "code",
   "execution_count": null,
   "metadata": {},
   "outputs": [
    {
     "data": {
      "text/plain": [
       "array([[194,   2,  44,  12, 420,  46, 192,  68,  50, 131],\n",
       "       [ 30, 309, 119, 224, 252, 141,   3,  39,   3,   2],\n",
       "       [ 38,  58, 327,  47, 365,  98,  12, 117,   4,  30],\n",
       "       [ 15,  25,  28, 966,  26,  20,   0,  33,   1,   4],\n",
       "       [ 42,   7,  59,  14, 789,  10,  90,  35,  24,  70],\n",
       "       [ 72,  59, 105,  24, 113, 467,  98, 134,  11,  20],\n",
       "       [ 45,   0,   4,   0,  97,  14, 627,  28, 265,  62],\n",
       "       [ 33,  37, 148, 187, 132, 161,  60, 341,   2,  18],\n",
       "       [ 26,   0,   3,   1, 121,   5, 601,  20, 249, 111],\n",
       "       [ 69,   1,  15,  26, 356,  19, 113,  48, 122, 350]], dtype=int64)"
      ]
     },
     "execution_count": 30,
     "metadata": {},
     "output_type": "execute_result"
    }
   ],
   "source": [
    "conf_mat"
   ]
  }
 ],
 "metadata": {
  "kernelspec": {
   "display_name": "Python 3.10.4 ('dh_sandbox')",
   "language": "python",
   "name": "python3"
  },
  "language_info": {
   "codemirror_mode": {
    "name": "ipython",
    "version": 3
   },
   "file_extension": ".py",
   "mimetype": "text/x-python",
   "name": "python",
   "nbconvert_exporter": "python",
   "pygments_lexer": "ipython3",
   "version": "3.10.4"
  },
  "orig_nbformat": 4,
  "vscode": {
   "interpreter": {
    "hash": "e762041b6299facda57750daeb7616d1b9f8b43b6e66203825dddea4ff707217"
   }
  }
 },
 "nbformat": 4,
 "nbformat_minor": 2
}
